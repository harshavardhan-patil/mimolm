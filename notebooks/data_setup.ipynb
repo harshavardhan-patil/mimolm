{
 "cells": [
  {
   "cell_type": "code",
   "execution_count": 3,
   "metadata": {},
   "outputs": [
    {
     "name": "stdout",
     "output_type": "stream",
     "text": [
      "g:\\Work\\DS\\mimolm\\notebooks\n"
     ]
    }
   ],
   "source": [
    "import sys\n",
    "from pathlib import Path\n",
    "from os.path  import join\n",
    "from src.config import DATA_DIR\n",
    "\n",
    "# Add the project root to sys.path\n",
    "project_root = Path().resolve().parent  # Adjust as needed to point to the root folder\n",
    "sys.path.append(str(project_root))\n",
    "\n",
    "print(Path.cwd())  # Check if the path is added"
   ]
  },
  {
   "cell_type": "code",
   "execution_count": 19,
   "metadata": {},
   "outputs": [],
   "source": [
    "ARGO_SCENE_DIR = DATA_DIR / \"raw\" / \"temp\"\n",
    "NUM_SCENARIOS = 1\n",
    "\n",
    "all_scenario_files = sorted(ARGO_SCENE_DIR.rglob(\"*.parquet\"))\n",
    "scenario_file_list = (\n",
    "    all_scenario_files[:NUM_SCENARIOS]\n",
    ")"
   ]
  },
  {
   "cell_type": "code",
   "execution_count": 20,
   "metadata": {},
   "outputs": [],
   "source": [
    "from av2.datasets.motion_forecasting import scenario_serialization\n",
    "from av2.map.map_api import ArgoverseStaticMap\n",
    "\n",
    "scenario_path = scenario_file_list[0]\n",
    "scenario_id = scenario_path.stem.split(\"_\")[-1]\n",
    "static_map_path = (\n",
    "    scenario_path.parents[0] / f\"log_map_archive_{scenario_id}.json\"\n",
    ")\n",
    "\n",
    "scenario = scenario_serialization.load_argoverse_scenario_parquet(scenario_path)\n",
    "static_map = ArgoverseStaticMap.from_json(static_map_path)"
   ]
  },
  {
   "cell_type": "code",
   "execution_count": 27,
   "metadata": {},
   "outputs": [
    {
     "data": {
      "text/plain": [
       "<TrackCategory.TRACK_FRAGMENT: 0>"
      ]
     },
     "execution_count": 27,
     "metadata": {},
     "output_type": "execute_result"
    }
   ],
   "source": [
    "scenario.tracks[4].category"
   ]
  },
  {
   "cell_type": "code",
   "execution_count": 21,
   "metadata": {},
   "outputs": [
    {
     "data": {
      "text/plain": [
       "LaneSegment(id=248399542, is_intersection=False, lane_type=<LaneType.VEHICLE: 'VEHICLE'>, right_lane_boundary=Polyline(waypoints=[Point(x=359.38, y=-1495.45, z=-12.21), Point(x=353.78, y=-1513.58, z=-11.79)]), left_lane_boundary=Polyline(waypoints=[Point(x=365.71, y=-1495.8, z=-12.08), Point(x=358.73, y=-1515.95, z=-11.83)]), right_mark_type=<LaneMarkType.NONE: 'NONE'>, left_mark_type=<LaneMarkType.DASHED_WHITE: 'DASHED_WHITE'>, predecessors=[248399815, 248399807], successors=[], right_neighbor_id=None, left_neighbor_id=248399580)"
      ]
     },
     "execution_count": 21,
     "metadata": {},
     "output_type": "execute_result"
    }
   ],
   "source": [
    "static_map.vector_lane_segments[248399542]"
   ]
  },
  {
   "cell_type": "code",
   "execution_count": 4,
   "metadata": {},
   "outputs": [],
   "source": [
    "from src.external.hptr.src.data_modules.data_h5_av2 import DataH5av2\n",
    "\n",
    "data_module = DataH5av2(DATA_DIR / \"interim\")\n",
    "data_module.setup(stage=\"fit\")\n",
    "dl = data_module.train_dataloader()"
   ]
  },
  {
   "cell_type": "code",
   "execution_count": 29,
   "metadata": {},
   "outputs": [
    {
     "name": "stdout",
     "output_type": "stream",
     "text": [
      "<KeysViewHDF5 ['acc', 'cmd', 'dest', 'goal', 'object_id', 'pos', 'role', 'size', 'spd', 'type', 'valid', 'vel', 'yaw_bbox', 'yaw_rate']>\n"
     ]
    }
   ],
   "source": [
    "import h5py\n",
    "\n",
    "with h5py.File(DATA_DIR / \"interim\" / \"train.h5\", \"r\", libver=\"latest\", swmr=True) as hf:\n",
    "    print(hf['11']['agent'].keys())"
   ]
  },
  {
   "cell_type": "code",
   "execution_count": 33,
   "metadata": {},
   "outputs": [],
   "source": [
    "episode = None\n",
    "for ep in dl:\n",
    "    episode = ep\n",
    "    break"
   ]
  },
  {
   "cell_type": "code",
   "execution_count": 37,
   "metadata": {},
   "outputs": [
    {
     "data": {
      "text/plain": [
       "dict_keys(['episode_idx', 'agent/valid', 'agent/pos', 'agent/vel', 'agent/spd', 'agent/acc', 'agent/yaw_bbox', 'agent/yaw_rate', 'agent/type', 'agent/cmd', 'agent/role', 'agent/size', 'agent/goal', 'agent/dest', 'map/valid', 'map/type', 'map/pos', 'map/dir', 'map/boundary'])"
      ]
     },
     "execution_count": 37,
     "metadata": {},
     "output_type": "execute_result"
    }
   ],
   "source": [
    "episode.keys()"
   ]
  },
  {
   "cell_type": "code",
   "execution_count": null,
   "metadata": {},
   "outputs": [],
   "source": []
  }
 ],
 "metadata": {
  "kernelspec": {
   "display_name": "mimolm-kv68Yv56",
   "language": "python",
   "name": "python3"
  },
  "language_info": {
   "codemirror_mode": {
    "name": "ipython",
    "version": 3
   },
   "file_extension": ".py",
   "mimetype": "text/x-python",
   "name": "python",
   "nbconvert_exporter": "python",
   "pygments_lexer": "ipython3",
   "version": "3.10.4"
  }
 },
 "nbformat": 4,
 "nbformat_minor": 2
}
