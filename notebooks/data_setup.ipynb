{
 "cells": [
  {
   "cell_type": "code",
   "execution_count": 1,
   "metadata": {},
   "outputs": [
    {
     "name": "stderr",
     "output_type": "stream",
     "text": [
      "\u001b[32m2025-01-24 19:47:50.244\u001b[0m | \u001b[1mINFO    \u001b[0m | \u001b[36msrc.config\u001b[0m:\u001b[36m<module>\u001b[0m:\u001b[36m11\u001b[0m - \u001b[1mPROJ_ROOT path is: G:\\Work\\DS\\mimolm\u001b[0m\n"
     ]
    },
    {
     "name": "stdout",
     "output_type": "stream",
     "text": [
      "g:\\Work\\DS\\mimolm\\notebooks\n"
     ]
    }
   ],
   "source": [
    "import sys\n",
    "from pathlib import Path\n",
    "from os.path  import join\n",
    "from src.config import DATA_DIR, CONFIG_DIR\n",
    "from src.external.hptr.src.data_modules.agent_centric import AgentCentricPreProcessing\n",
    "from src.external.hptr.src.data_modules.ac_global import AgentCentricGlobal\n",
    "from omegaconf import OmegaConf\n",
    "\n",
    "# Add the project root to sys.path\n",
    "project_root = Path().resolve().parent  # Adjust as needed to point to the root folder\n",
    "sys.path.append(str(project_root))\n",
    "\n",
    "print(Path.cwd())  # Check if the path is added"
   ]
  },
  {
   "cell_type": "code",
   "execution_count": 18,
   "metadata": {},
   "outputs": [],
   "source": [
    "ARGO_SCENE_DIR = DATA_DIR / \"raw\" / \"temp\"\n",
    "NUM_SCENARIOS = 1\n",
    "\n",
    "all_scenario_files = sorted(ARGO_SCENE_DIR.rglob(\"*.parquet\"))\n",
    "scenario_file_list = (\n",
    "    all_scenario_files[:NUM_SCENARIOS]\n",
    ")\n",
    "\n",
    "from av2.datasets.motion_forecasting import scenario_serialization\n",
    "from av2.map.map_api import ArgoverseStaticMap\n",
    "\n",
    "scenario_path = scenario_file_list[0]\n",
    "scenario_id = scenario_path.stem.split(\"_\")[-1]\n",
    "static_map_path = (\n",
    "    scenario_path.parents[0] / f\"log_map_archive_{scenario_id}.json\"\n",
    ")\n",
    "\n",
    "scenario = scenario_serialization.load_argoverse_scenario_parquet(scenario_path)\n",
    "static_map = ArgoverseStaticMap.from_json(static_map_path)"
   ]
  },
  {
   "cell_type": "code",
   "execution_count": 24,
   "metadata": {},
   "outputs": [],
   "source": [
    "from av2.datasets.motion_forecasting.viz.scenario_visualization import visualize_scenario\n",
    "\n",
    "visualize_scenario(scenario, static_map, DATA_DIR / \"processed\" / \"argoext.mp4\")"
   ]
  },
  {
   "cell_type": "code",
   "execution_count": null,
   "metadata": {},
   "outputs": [],
   "source": [
    "import h5py\n",
    "\n",
    "with h5py.File(DATA_DIR / \"interim\" / \"train.h5\", \"r\", libver=\"latest\", swmr=True) as hf:\n",
    "    print(hf['11']['agent'].keys())"
   ]
  },
  {
   "cell_type": "code",
   "execution_count": 2,
   "metadata": {},
   "outputs": [
    {
     "name": "stderr",
     "output_type": "stream",
     "text": [
      "c:\\Users\\Harshavardhan Patil\\.virtualenvs\\mimolm-kv68Yv56\\lib\\site-packages\\tqdm\\auto.py:21: TqdmWarning: IProgress not found. Please update jupyter and ipywidgets. See https://ipywidgets.readthedocs.io/en/stable/user_install.html\n",
      "  from .autonotebook import tqdm as notebook_tqdm\n"
     ]
    }
   ],
   "source": [
    "from src.external.hptr.src.data_modules.data_h5_av2 import DataH5av2\n",
    "\n",
    "data_module = DataH5av2(DATA_DIR / \"interim\")\n",
    "data_module.setup(stage=\"fit\")\n",
    "dl = data_module.train_dataloader()"
   ]
  },
  {
   "cell_type": "code",
   "execution_count": 4,
   "metadata": {},
   "outputs": [],
   "source": [
    "episode = None\n",
    "prepreprocess = AgentCentricPreProcessing(time_step_current=49, \n",
    "                                          data_size=data_module.tensor_size_train, \n",
    "                                          n_target=6,\n",
    "                                          n_other=50,\n",
    "                                          n_map=512,\n",
    "                                          mask_invalid=False)\n",
    "preprocess = AgentCentricGlobal(time_step_current=49, \n",
    "                                data_size=data_module.tensor_size_train,\n",
    "                                dropout_p_history=0.15, \n",
    "                                add_ohe=True,\n",
    "                                pl_aggr=False,\n",
    "                                pose_pe= {\"agent\": \"xy_dir\",\n",
    "                                        \"map\": \"mpa_pl\"})"
   ]
  },
  {
   "cell_type": "code",
   "execution_count": 7,
   "metadata": {},
   "outputs": [],
   "source": [
    "for batch in dl:\n",
    "    batch = prepreprocess(batch=batch)\n",
    "    batch = preprocess(batch=batch)\n",
    "    episode = batch\n",
    "    break"
   ]
  },
  {
   "cell_type": "code",
   "execution_count": 9,
   "metadata": {},
   "outputs": [
    {
     "name": "stdout",
     "output_type": "stream",
     "text": [
      "dict_keys(['episode_idx', 'agent/valid', 'agent/pos', 'agent/vel', 'agent/spd', 'agent/acc', 'agent/yaw_bbox', 'agent/yaw_rate', 'agent/type', 'agent/cmd', 'agent/role', 'agent/size', 'agent/goal', 'agent/dest', 'map/valid', 'map/type', 'map/pos', 'map/dir', 'map/boundary', 'ref/idx', 'ref/idx_n', 'ref/pos', 'ref/rot', 'ref/type', 'ref/role', 'ac/target_valid', 'ac/target_pos', 'ac/target_vel', 'ac/target_spd', 'ac/target_acc', 'ac/target_yaw_bbox', 'ac/target_yaw_rate', 'ac/target_type', 'ac/target_role', 'ac/target_size', 'gt/valid', 'gt/spd', 'gt/pos', 'gt/vel', 'gt/yaw_bbox', 'gt/cmd', 'ac/other_valid', 'ac/other_spd', 'ac/other_acc', 'ac/other_yaw_rate', 'ac/other_pos', 'ac/other_vel', 'ac/other_yaw_bbox', 'ac/other_type', 'ac/other_role', 'ac/other_size', 'ac/map_valid', 'ac/map_type', 'ac/map_pos', 'ac/map_dir', 'input/target_type', 'input/target_valid', 'input/other_valid', 'input/map_valid', 'input/target_attr', 'input/other_attr', 'input/map_attr'])\n"
     ]
    }
   ],
   "source": [
    "print(episode.keys())"
   ]
  },
  {
   "cell_type": "code",
   "execution_count": null,
   "metadata": {},
   "outputs": [
    {
     "name": "stderr",
     "output_type": "stream",
     "text": [
      "\u001b[32m2025-01-27 20:19:58.785\u001b[0m | \u001b[1mINFO    \u001b[0m | \u001b[36msrc.config\u001b[0m:\u001b[36m<module>\u001b[0m:\u001b[36m11\u001b[0m - \u001b[1mPROJ_ROOT path is: G:\\Work\\DS\\mimolm\u001b[0m\n",
      "100%|██████████| 1000/1000 [02:19<00:00,  7.19it/s]"
     ]
    },
    {
     "name": "stdout",
     "output_type": "stream",
     "text": [
      "n_pl_max: 762, n_agent_max: 155\n",
      "n_agent_sim: 64, n_agent_no_sim: 91\n"
     ]
    },
    {
     "name": "stderr",
     "output_type": "stream",
     "text": [
      "\n"
     ]
    }
   ],
   "source": [
    "%run -i ../src/external/hptr/src/pack_h5_av2.py #input: data/raw/train || output: data/interi/train"
   ]
  },
  {
   "cell_type": "code",
   "execution_count": null,
   "metadata": {},
   "outputs": [],
   "source": [
    "#python -m scenarionet.convert_argoverse2 -d data\\interim --raw_data_path G:\\Work\\DS\\mimolm\\data\\raw\\train --overwrite"
   ]
  },
  {
   "cell_type": "code",
   "execution_count": 27,
   "metadata": {},
   "outputs": [],
   "source": [
    "from scenarionet import read_dataset_summary, read_scenario\n",
    "\n",
    "dataset_summary, scenario_ids, mapping = read_dataset_summary(dataset_path=DATA_DIR / \"interim\" / \"train\")"
   ]
  },
  {
   "cell_type": "markdown",
   "metadata": {},
   "source": [
    "### UniTraj Data Setup"
   ]
  },
  {
   "cell_type": "code",
   "execution_count": 4,
   "metadata": {},
   "outputs": [
    {
     "name": "stdout",
     "output_type": "stream",
     "text": [
      "Loading training data...\n",
      "Using 8 processes to load data...\n",
      "Processing data chunk 0...\n",
      "G:/Work/DS/mimolm/data/train {'sd_av2_v2_00a0a3e0-1508-45f2-9cf5-e427e1446a33.pkl': 'train_0', 'sd_av2_v2_00a0adb0-6c55-4df6-88cd-6a524f4edb39.pkl': 'train_0', 'sd_av2_v2_00a2e7cc-f700-4a56-9b94-e312b66af424.pkl': 'train_0', 'sd_av2_v2_00a3a9a7-dd09-45fe-ac1e-24580e72ff14.pkl': 'train_0', 'sd_av2_v2_00a3d479-dc7e-4f39-8bc7-0c73c0e2f3a8.pkl': 'train_0', 'sd_av2_v2_00a4b70c-e650-4f2c-99f9-993f31f55f1d.pkl': 'train_0', 'sd_av2_v2_0a00c136-b7f1-4502-be51-55cd108005c7.pkl': 'train_0', 'sd_av2_v2_0a00dc81-63da-4a4f-aabd-24b1584edfe2.pkl': 'train_0', 'sd_av2_v2_0a0a2bb7-c4f4-44cd-958a-9ee15cb34aca.pkl': 'train_0', 'sd_av2_v2_0a0a71c5-2e02-432c-ade6-dff22bc659de.pkl': 'train_0', 'sd_av2_v2_0a0b9607-f495-42c9-a52e-2d7156234597.pkl': 'train_0', 'sd_av2_v2_0a0bdc92-a48a-4c52-a082-9eeeb360a5bd.pkl': 'train_0', 'sd_av2_v2_0a0c3f36-2076-4033-b30a-a908c5c64ea4.pkl': 'train_1', 'sd_av2_v2_0a0c614c-763f-4880-b917-fd07954973f4.pkl': 'train_1', 'sd_av2_v2_0a0c6840-c794-493a-be41-4ef8386a373d.pkl': 'train_1', 'sd_av2_v2_0a0cda83-b3f5-4edd-9352-44a15033a919.pkl': 'train_1', 'sd_av2_v2_0a0d23d6-647f-46a2-b719-e9a777f3e7af.pkl': 'train_1', 'sd_av2_v2_0a0ddf15-f666-4927-8102-a3aecbbf9390.pkl': 'train_1', 'sd_av2_v2_0a0de7d9-5a97-486d-b9e0-155f97ca7d2c.pkl': 'train_1', 'sd_av2_v2_0a0dfcb2-1d3c-4873-9f49-df7a4b1aea36.pkl': 'train_1', 'sd_av2_v2_0a0e17f4-f8ed-41c8-bf2a-3ecd2adab6a6.pkl': 'train_1', 'sd_av2_v2_0a0e3111-4494-4875-9d04-9b7ff7bddcc7.pkl': 'train_1', 'sd_av2_v2_0a0e37ec-042c-4429-9cad-ed8e967d5227.pkl': 'train_1', 'sd_av2_v2_0a0ee99b-3845-4120-a7f4-444184dc2164.pkl': 'train_1', 'sd_av2_v2_0a0f4f1f-d0ac-4aee-b03a-ed21f396bba8.pkl': 'train_2', 'sd_av2_v2_0a0f58b9-eb76-49e9-8b03-abc6dd1ea72d.pkl': 'train_2', 'sd_av2_v2_0a0f8b17-f59e-4411-ac7b-61b79b3a144a.pkl': 'train_2', 'sd_av2_v2_0a1a1fe4-7a85-4ba7-9fe6-21050d83d210.pkl': 'train_2', 'sd_av2_v2_0a1a31f8-70a6-4f60-ac0a-23c337d06bca.pkl': 'train_2', 'sd_av2_v2_0a1b1e27-61a0-4850-88cc-502d10301f95.pkl': 'train_2', 'sd_av2_v2_0a1b1f38-0441-4c65-8e23-c2f8a14ec0dc.pkl': 'train_2', 'sd_av2_v2_0a1b7611-0a77-4114-aa8c-ae30483d7013.pkl': 'train_2', 'sd_av2_v2_0a1bc314-90ce-4dff-a39c-0b20d004e4a5.pkl': 'train_2', 'sd_av2_v2_0a1bf643-3373-4665-9ae0-182e68eb04a4.pkl': 'train_2', 'sd_av2_v2_0a1c11d2-139b-4b91-89b0-8c2b29b95399.pkl': 'train_2', 'sd_av2_v2_0a1c46d6-6486-4cea-aebd-76f4b9831958.pkl': 'train_2', 'sd_av2_v2_0a1c5e99-7844-4381-9516-ccdbb58ca6e0.pkl': 'train_3', 'sd_av2_v2_0a1c8821-67fd-4087-9952-0c7ceb34fd7d.pkl': 'train_3', 'sd_av2_v2_0a1c902e-4c0b-4aed-8b8e-9a22b2e15b01.pkl': 'train_3', 'sd_av2_v2_0a1c90c8-3ecd-4e32-9921-3dc884e0782f.pkl': 'train_3', 'sd_av2_v2_0a1cd4d1-10a2-4841-81a1-e768a586398a.pkl': 'train_3', 'sd_av2_v2_0a1d31f4-feb3-4431-a8d8-32873595cb7f.pkl': 'train_3', 'sd_av2_v2_0a1e3641-84ef-4993-a25c-44670c3c8746.pkl': 'train_3', 'sd_av2_v2_0a1e43bc-6173-4091-89b9-f6ad39818dab.pkl': 'train_3', 'sd_av2_v2_0a1e63d3-01ac-478a-bd01-8e06924431ac.pkl': 'train_3', 'sd_av2_v2_0a1f8d52-da4c-46a0-a7b2-3e839169279d.pkl': 'train_3', 'sd_av2_v2_0a1fd388-e455-456d-86c9-4f0c7bf5fafe.pkl': 'train_3', 'sd_av2_v2_0a2a284b-55a0-410e-a459-05f7519c0f46.pkl': 'train_3', 'sd_av2_v2_0a2aa620-70b7-49ae-9035-ecd507d85ad8.pkl': 'train_4', 'sd_av2_v2_0a2b527d-c9e7-4374-a654-1e8ffebb9a2b.pkl': 'train_4', 'sd_av2_v2_0a2b8a16-183e-42fd-81f4-ee75c697c713.pkl': 'train_4', 'sd_av2_v2_0a2b923b-daad-4820-9f82-98d204a55b62.pkl': 'train_4', 'sd_av2_v2_0a2ba682-25f1-48be-9d98-6741927ea5cb.pkl': 'train_4', 'sd_av2_v2_0a2baa35-a8a9-4fc3-8c6e-c9575625ce61.pkl': 'train_4', 'sd_av2_v2_0a2bc590-df67-4381-b493-197a74e5bdfa.pkl': 'train_4', 'sd_av2_v2_0a2bc7f5-d90d-455e-90f6-30699de88899.pkl': 'train_4', 'sd_av2_v2_0a2bd381-85a5-4746-b22d-1e17c7212b8f.pkl': 'train_4', 'sd_av2_v2_0a2be706-d0e0-49f6-80ab-7b8096f23108.pkl': 'train_4', 'sd_av2_v2_0a2c59c6-5db1-46b8-8a2d-be3721e9a72f.pkl': 'train_4', 'sd_av2_v2_0a2cdc46-f43a-4501-9201-ed97486929ef.pkl': 'train_4', 'sd_av2_v2_0a2d68a0-0790-45de-ab95-3b4b6cd951de.pkl': 'train_5', 'sd_av2_v2_0a2d8c19-1c98-439e-a9ff-a05def405c72.pkl': 'train_5', 'sd_av2_v2_0a2d9376-1c13-4144-9599-7022af3b90eb.pkl': 'train_5', 'sd_av2_v2_0a2deb1a-f8b2-4fbc-aefd-93a533603bff.pkl': 'train_5', 'sd_av2_v2_0a2e2bf0-551f-4180-8f69-a1be0279be33.pkl': 'train_5', 'sd_av2_v2_0a2e7112-c04b-47c4-bebe-c0eea4f66783.pkl': 'train_5', 'sd_av2_v2_0a2e8094-7253-4f3f-bf91-d721d469921b.pkl': 'train_5', 'sd_av2_v2_0a2eaf13-19e8-45b1-96bb-5b4a81e16517.pkl': 'train_5', 'sd_av2_v2_0a2eb63f-7696-44fc-ad1e-1e79d589d4d8.pkl': 'train_5', 'sd_av2_v2_0a2ec212-72e0-4cde-8132-8f2afc7ce2d0.pkl': 'train_5', 'sd_av2_v2_0a2f3cc2-1fe9-4936-82bb-a403d821b398.pkl': 'train_5', 'sd_av2_v2_0a2faa5b-1104-4fba-898c-a9f908e932a3.pkl': 'train_5', 'sd_av2_v2_0a3b127f-ff91-4831-8950-c13079fe9f93.pkl': 'train_6', 'sd_av2_v2_0a3b37c7-1bf4-493c-a1c6-7e9643522b6a.pkl': 'train_6', 'sd_av2_v2_0a3c47fe-7bbc-4f6d-802b-32e45cb13d09.pkl': 'train_6', 'sd_av2_v2_0a3c9858-e3bf-4115-96ba-0b664233cd9c.pkl': 'train_6', 'sd_av2_v2_0a3ce84e-b8b3-4479-a29e-fb4fbb521c1a.pkl': 'train_6', 'sd_av2_v2_0a3d7b48-3607-4519-b82b-c7d6c078670f.pkl': 'train_6', 'sd_av2_v2_0a3d858e-2da6-475b-a0d5-b19a78e89ada.pkl': 'train_6', 'sd_av2_v2_0a3db768-3eb7-49bd-8227-faac3078acd2.pkl': 'train_6', 'sd_av2_v2_0a3df56e-4945-409c-bf30-4a1a9494358e.pkl': 'train_6', 'sd_av2_v2_0a3e1ce1-297c-4dc7-807f-954517bb955e.pkl': 'train_6', 'sd_av2_v2_0a3e8c85-0e74-4e53-874e-11d29d9f09d7.pkl': 'train_6', 'sd_av2_v2_0a3f3430-3507-4c18-aca2-cc8f94220213.pkl': 'train_6', 'sd_av2_v2_0a3f6542-bf9c-4f84-9772-299670497583.pkl': 'train_7', 'sd_av2_v2_0a4a2d71-5fcb-4e47-a6a2-977bf8d0750b.pkl': 'train_7', 'sd_av2_v2_0a4a92f8-bad6-4f08-add1-c725562964f6.pkl': 'train_7', 'sd_av2_v2_0a4aebfa-7829-4ea4-94a2-fc8bdca5cd83.pkl': 'train_7', 'sd_av2_v2_0a4b07cb-2d90-46e2-ad3c-a4192c6bf89e.pkl': 'train_7', 'sd_av2_v2_0a4bc822-144e-4444-be26-9d7ccf7191ad.pkl': 'train_7', 'sd_av2_v2_0a4c2e9d-0508-4aee-92ad-c0aa8ce413fa.pkl': 'train_7', 'sd_av2_v2_0a4cfd88-d521-4d28-a2a0-716f7bf42efc.pkl': 'train_7', 'sd_av2_v2_0a4d016d-97f6-49a8-8faf-84386ed5ba85.pkl': 'train_7', 'sd_av2_v2_0a4d140b-0f2a-4f4c-a646-b5d2bda2ad24.pkl': 'train_7', 'sd_av2_v2_0a4d55a0-bac0-48c0-8715-5d094ebea466.pkl': 'train_7', 'sd_av2_v2_0a4d5d58-8701-4cbf-965f-a8778c8b2500.pkl': 'train_7', 'sd_av2_v2_0a4d8937-7b68-4663-ade4-06cb264d2175.pkl': 'train_7', 'sd_av2_v2_0a4e06a5-bd4c-4336-8ac3-48059a679a3d.pkl': 'train_7', 'sd_av2_v2_0a4e3447-5a6c-43f0-ab1b-f42a0b092e2b.pkl': 'train_7', 'sd_av2_v2_0a4e8039-8b1d-4d90-b746-d1f560484682.pkl': 'train_7'} [np.str_('sd_av2_v2_00a0a3e0-1508-45f2-9cf5-e427e1446a33.pkl'), np.str_('sd_av2_v2_00a0adb0-6c55-4df6-88cd-6a524f4edb39.pkl'), np.str_('sd_av2_v2_00a2e7cc-f700-4a56-9b94-e312b66af424.pkl'), np.str_('sd_av2_v2_00a3a9a7-dd09-45fe-ac1e-24580e72ff14.pkl'), np.str_('sd_av2_v2_00a3d479-dc7e-4f39-8bc7-0c73c0e2f3a8.pkl'), np.str_('sd_av2_v2_00a4b70c-e650-4f2c-99f9-993f31f55f1d.pkl'), np.str_('sd_av2_v2_0a00c136-b7f1-4502-be51-55cd108005c7.pkl'), np.str_('sd_av2_v2_0a00dc81-63da-4a4f-aabd-24b1584edfe2.pkl'), np.str_('sd_av2_v2_0a0a2bb7-c4f4-44cd-958a-9ee15cb34aca.pkl'), np.str_('sd_av2_v2_0a0a71c5-2e02-432c-ade6-dff22bc659de.pkl'), np.str_('sd_av2_v2_0a0b9607-f495-42c9-a52e-2d7156234597.pkl'), np.str_('sd_av2_v2_0a0bdc92-a48a-4c52-a082-9eeeb360a5bd.pkl'), np.str_('sd_av2_v2_0a0c3f36-2076-4033-b30a-a908c5c64ea4.pkl')] train ../data/cache\\train\\data\\0.h5\n",
      "0/13 data processed\n",
      "1/13 data processed\n",
      "2/13 data processed\n",
      "3/13 data processed\n",
      "4/13 data processed\n",
      "5/13 data processed\n",
      "6/13 data processed\n",
      "7/13 data processed\n",
      "8/13 data processed\n",
      "9/13 data processed\n",
      "10/13 data processed\n",
      "11/13 data processed\n",
      "12/13 data processed\n",
      "Processing data chunk 1...\n",
      "G:/Work/DS/mimolm/data/train {'sd_av2_v2_00a0a3e0-1508-45f2-9cf5-e427e1446a33.pkl': 'train_0', 'sd_av2_v2_00a0adb0-6c55-4df6-88cd-6a524f4edb39.pkl': 'train_0', 'sd_av2_v2_00a2e7cc-f700-4a56-9b94-e312b66af424.pkl': 'train_0', 'sd_av2_v2_00a3a9a7-dd09-45fe-ac1e-24580e72ff14.pkl': 'train_0', 'sd_av2_v2_00a3d479-dc7e-4f39-8bc7-0c73c0e2f3a8.pkl': 'train_0', 'sd_av2_v2_00a4b70c-e650-4f2c-99f9-993f31f55f1d.pkl': 'train_0', 'sd_av2_v2_0a00c136-b7f1-4502-be51-55cd108005c7.pkl': 'train_0', 'sd_av2_v2_0a00dc81-63da-4a4f-aabd-24b1584edfe2.pkl': 'train_0', 'sd_av2_v2_0a0a2bb7-c4f4-44cd-958a-9ee15cb34aca.pkl': 'train_0', 'sd_av2_v2_0a0a71c5-2e02-432c-ade6-dff22bc659de.pkl': 'train_0', 'sd_av2_v2_0a0b9607-f495-42c9-a52e-2d7156234597.pkl': 'train_0', 'sd_av2_v2_0a0bdc92-a48a-4c52-a082-9eeeb360a5bd.pkl': 'train_0', 'sd_av2_v2_0a0c3f36-2076-4033-b30a-a908c5c64ea4.pkl': 'train_1', 'sd_av2_v2_0a0c614c-763f-4880-b917-fd07954973f4.pkl': 'train_1', 'sd_av2_v2_0a0c6840-c794-493a-be41-4ef8386a373d.pkl': 'train_1', 'sd_av2_v2_0a0cda83-b3f5-4edd-9352-44a15033a919.pkl': 'train_1', 'sd_av2_v2_0a0d23d6-647f-46a2-b719-e9a777f3e7af.pkl': 'train_1', 'sd_av2_v2_0a0ddf15-f666-4927-8102-a3aecbbf9390.pkl': 'train_1', 'sd_av2_v2_0a0de7d9-5a97-486d-b9e0-155f97ca7d2c.pkl': 'train_1', 'sd_av2_v2_0a0dfcb2-1d3c-4873-9f49-df7a4b1aea36.pkl': 'train_1', 'sd_av2_v2_0a0e17f4-f8ed-41c8-bf2a-3ecd2adab6a6.pkl': 'train_1', 'sd_av2_v2_0a0e3111-4494-4875-9d04-9b7ff7bddcc7.pkl': 'train_1', 'sd_av2_v2_0a0e37ec-042c-4429-9cad-ed8e967d5227.pkl': 'train_1', 'sd_av2_v2_0a0ee99b-3845-4120-a7f4-444184dc2164.pkl': 'train_1', 'sd_av2_v2_0a0f4f1f-d0ac-4aee-b03a-ed21f396bba8.pkl': 'train_2', 'sd_av2_v2_0a0f58b9-eb76-49e9-8b03-abc6dd1ea72d.pkl': 'train_2', 'sd_av2_v2_0a0f8b17-f59e-4411-ac7b-61b79b3a144a.pkl': 'train_2', 'sd_av2_v2_0a1a1fe4-7a85-4ba7-9fe6-21050d83d210.pkl': 'train_2', 'sd_av2_v2_0a1a31f8-70a6-4f60-ac0a-23c337d06bca.pkl': 'train_2', 'sd_av2_v2_0a1b1e27-61a0-4850-88cc-502d10301f95.pkl': 'train_2', 'sd_av2_v2_0a1b1f38-0441-4c65-8e23-c2f8a14ec0dc.pkl': 'train_2', 'sd_av2_v2_0a1b7611-0a77-4114-aa8c-ae30483d7013.pkl': 'train_2', 'sd_av2_v2_0a1bc314-90ce-4dff-a39c-0b20d004e4a5.pkl': 'train_2', 'sd_av2_v2_0a1bf643-3373-4665-9ae0-182e68eb04a4.pkl': 'train_2', 'sd_av2_v2_0a1c11d2-139b-4b91-89b0-8c2b29b95399.pkl': 'train_2', 'sd_av2_v2_0a1c46d6-6486-4cea-aebd-76f4b9831958.pkl': 'train_2', 'sd_av2_v2_0a1c5e99-7844-4381-9516-ccdbb58ca6e0.pkl': 'train_3', 'sd_av2_v2_0a1c8821-67fd-4087-9952-0c7ceb34fd7d.pkl': 'train_3', 'sd_av2_v2_0a1c902e-4c0b-4aed-8b8e-9a22b2e15b01.pkl': 'train_3', 'sd_av2_v2_0a1c90c8-3ecd-4e32-9921-3dc884e0782f.pkl': 'train_3', 'sd_av2_v2_0a1cd4d1-10a2-4841-81a1-e768a586398a.pkl': 'train_3', 'sd_av2_v2_0a1d31f4-feb3-4431-a8d8-32873595cb7f.pkl': 'train_3', 'sd_av2_v2_0a1e3641-84ef-4993-a25c-44670c3c8746.pkl': 'train_3', 'sd_av2_v2_0a1e43bc-6173-4091-89b9-f6ad39818dab.pkl': 'train_3', 'sd_av2_v2_0a1e63d3-01ac-478a-bd01-8e06924431ac.pkl': 'train_3', 'sd_av2_v2_0a1f8d52-da4c-46a0-a7b2-3e839169279d.pkl': 'train_3', 'sd_av2_v2_0a1fd388-e455-456d-86c9-4f0c7bf5fafe.pkl': 'train_3', 'sd_av2_v2_0a2a284b-55a0-410e-a459-05f7519c0f46.pkl': 'train_3', 'sd_av2_v2_0a2aa620-70b7-49ae-9035-ecd507d85ad8.pkl': 'train_4', 'sd_av2_v2_0a2b527d-c9e7-4374-a654-1e8ffebb9a2b.pkl': 'train_4', 'sd_av2_v2_0a2b8a16-183e-42fd-81f4-ee75c697c713.pkl': 'train_4', 'sd_av2_v2_0a2b923b-daad-4820-9f82-98d204a55b62.pkl': 'train_4', 'sd_av2_v2_0a2ba682-25f1-48be-9d98-6741927ea5cb.pkl': 'train_4', 'sd_av2_v2_0a2baa35-a8a9-4fc3-8c6e-c9575625ce61.pkl': 'train_4', 'sd_av2_v2_0a2bc590-df67-4381-b493-197a74e5bdfa.pkl': 'train_4', 'sd_av2_v2_0a2bc7f5-d90d-455e-90f6-30699de88899.pkl': 'train_4', 'sd_av2_v2_0a2bd381-85a5-4746-b22d-1e17c7212b8f.pkl': 'train_4', 'sd_av2_v2_0a2be706-d0e0-49f6-80ab-7b8096f23108.pkl': 'train_4', 'sd_av2_v2_0a2c59c6-5db1-46b8-8a2d-be3721e9a72f.pkl': 'train_4', 'sd_av2_v2_0a2cdc46-f43a-4501-9201-ed97486929ef.pkl': 'train_4', 'sd_av2_v2_0a2d68a0-0790-45de-ab95-3b4b6cd951de.pkl': 'train_5', 'sd_av2_v2_0a2d8c19-1c98-439e-a9ff-a05def405c72.pkl': 'train_5', 'sd_av2_v2_0a2d9376-1c13-4144-9599-7022af3b90eb.pkl': 'train_5', 'sd_av2_v2_0a2deb1a-f8b2-4fbc-aefd-93a533603bff.pkl': 'train_5', 'sd_av2_v2_0a2e2bf0-551f-4180-8f69-a1be0279be33.pkl': 'train_5', 'sd_av2_v2_0a2e7112-c04b-47c4-bebe-c0eea4f66783.pkl': 'train_5', 'sd_av2_v2_0a2e8094-7253-4f3f-bf91-d721d469921b.pkl': 'train_5', 'sd_av2_v2_0a2eaf13-19e8-45b1-96bb-5b4a81e16517.pkl': 'train_5', 'sd_av2_v2_0a2eb63f-7696-44fc-ad1e-1e79d589d4d8.pkl': 'train_5', 'sd_av2_v2_0a2ec212-72e0-4cde-8132-8f2afc7ce2d0.pkl': 'train_5', 'sd_av2_v2_0a2f3cc2-1fe9-4936-82bb-a403d821b398.pkl': 'train_5', 'sd_av2_v2_0a2faa5b-1104-4fba-898c-a9f908e932a3.pkl': 'train_5', 'sd_av2_v2_0a3b127f-ff91-4831-8950-c13079fe9f93.pkl': 'train_6', 'sd_av2_v2_0a3b37c7-1bf4-493c-a1c6-7e9643522b6a.pkl': 'train_6', 'sd_av2_v2_0a3c47fe-7bbc-4f6d-802b-32e45cb13d09.pkl': 'train_6', 'sd_av2_v2_0a3c9858-e3bf-4115-96ba-0b664233cd9c.pkl': 'train_6', 'sd_av2_v2_0a3ce84e-b8b3-4479-a29e-fb4fbb521c1a.pkl': 'train_6', 'sd_av2_v2_0a3d7b48-3607-4519-b82b-c7d6c078670f.pkl': 'train_6', 'sd_av2_v2_0a3d858e-2da6-475b-a0d5-b19a78e89ada.pkl': 'train_6', 'sd_av2_v2_0a3db768-3eb7-49bd-8227-faac3078acd2.pkl': 'train_6', 'sd_av2_v2_0a3df56e-4945-409c-bf30-4a1a9494358e.pkl': 'train_6', 'sd_av2_v2_0a3e1ce1-297c-4dc7-807f-954517bb955e.pkl': 'train_6', 'sd_av2_v2_0a3e8c85-0e74-4e53-874e-11d29d9f09d7.pkl': 'train_6', 'sd_av2_v2_0a3f3430-3507-4c18-aca2-cc8f94220213.pkl': 'train_6', 'sd_av2_v2_0a3f6542-bf9c-4f84-9772-299670497583.pkl': 'train_7', 'sd_av2_v2_0a4a2d71-5fcb-4e47-a6a2-977bf8d0750b.pkl': 'train_7', 'sd_av2_v2_0a4a92f8-bad6-4f08-add1-c725562964f6.pkl': 'train_7', 'sd_av2_v2_0a4aebfa-7829-4ea4-94a2-fc8bdca5cd83.pkl': 'train_7', 'sd_av2_v2_0a4b07cb-2d90-46e2-ad3c-a4192c6bf89e.pkl': 'train_7', 'sd_av2_v2_0a4bc822-144e-4444-be26-9d7ccf7191ad.pkl': 'train_7', 'sd_av2_v2_0a4c2e9d-0508-4aee-92ad-c0aa8ce413fa.pkl': 'train_7', 'sd_av2_v2_0a4cfd88-d521-4d28-a2a0-716f7bf42efc.pkl': 'train_7', 'sd_av2_v2_0a4d016d-97f6-49a8-8faf-84386ed5ba85.pkl': 'train_7', 'sd_av2_v2_0a4d140b-0f2a-4f4c-a646-b5d2bda2ad24.pkl': 'train_7', 'sd_av2_v2_0a4d55a0-bac0-48c0-8715-5d094ebea466.pkl': 'train_7', 'sd_av2_v2_0a4d5d58-8701-4cbf-965f-a8778c8b2500.pkl': 'train_7', 'sd_av2_v2_0a4d8937-7b68-4663-ade4-06cb264d2175.pkl': 'train_7', 'sd_av2_v2_0a4e06a5-bd4c-4336-8ac3-48059a679a3d.pkl': 'train_7', 'sd_av2_v2_0a4e3447-5a6c-43f0-ab1b-f42a0b092e2b.pkl': 'train_7', 'sd_av2_v2_0a4e8039-8b1d-4d90-b746-d1f560484682.pkl': 'train_7'} [np.str_('sd_av2_v2_0a0c614c-763f-4880-b917-fd07954973f4.pkl'), np.str_('sd_av2_v2_0a0c6840-c794-493a-be41-4ef8386a373d.pkl'), np.str_('sd_av2_v2_0a0cda83-b3f5-4edd-9352-44a15033a919.pkl'), np.str_('sd_av2_v2_0a0d23d6-647f-46a2-b719-e9a777f3e7af.pkl'), np.str_('sd_av2_v2_0a0ddf15-f666-4927-8102-a3aecbbf9390.pkl'), np.str_('sd_av2_v2_0a0de7d9-5a97-486d-b9e0-155f97ca7d2c.pkl'), np.str_('sd_av2_v2_0a0dfcb2-1d3c-4873-9f49-df7a4b1aea36.pkl'), np.str_('sd_av2_v2_0a0e17f4-f8ed-41c8-bf2a-3ecd2adab6a6.pkl'), np.str_('sd_av2_v2_0a0e3111-4494-4875-9d04-9b7ff7bddcc7.pkl'), np.str_('sd_av2_v2_0a0e37ec-042c-4429-9cad-ed8e967d5227.pkl'), np.str_('sd_av2_v2_0a0ee99b-3845-4120-a7f4-444184dc2164.pkl'), np.str_('sd_av2_v2_0a0f4f1f-d0ac-4aee-b03a-ed21f396bba8.pkl'), np.str_('sd_av2_v2_0a0f58b9-eb76-49e9-8b03-abc6dd1ea72d.pkl')] train ../data/cache\\train\\data\\1.h5\n",
      "Processing data chunk 2...\n",
      "G:/Work/DS/mimolm/data/train {'sd_av2_v2_00a0a3e0-1508-45f2-9cf5-e427e1446a33.pkl': 'train_0', 'sd_av2_v2_00a0adb0-6c55-4df6-88cd-6a524f4edb39.pkl': 'train_0', 'sd_av2_v2_00a2e7cc-f700-4a56-9b94-e312b66af424.pkl': 'train_0', 'sd_av2_v2_00a3a9a7-dd09-45fe-ac1e-24580e72ff14.pkl': 'train_0', 'sd_av2_v2_00a3d479-dc7e-4f39-8bc7-0c73c0e2f3a8.pkl': 'train_0', 'sd_av2_v2_00a4b70c-e650-4f2c-99f9-993f31f55f1d.pkl': 'train_0', 'sd_av2_v2_0a00c136-b7f1-4502-be51-55cd108005c7.pkl': 'train_0', 'sd_av2_v2_0a00dc81-63da-4a4f-aabd-24b1584edfe2.pkl': 'train_0', 'sd_av2_v2_0a0a2bb7-c4f4-44cd-958a-9ee15cb34aca.pkl': 'train_0', 'sd_av2_v2_0a0a71c5-2e02-432c-ade6-dff22bc659de.pkl': 'train_0', 'sd_av2_v2_0a0b9607-f495-42c9-a52e-2d7156234597.pkl': 'train_0', 'sd_av2_v2_0a0bdc92-a48a-4c52-a082-9eeeb360a5bd.pkl': 'train_0', 'sd_av2_v2_0a0c3f36-2076-4033-b30a-a908c5c64ea4.pkl': 'train_1', 'sd_av2_v2_0a0c614c-763f-4880-b917-fd07954973f4.pkl': 'train_1', 'sd_av2_v2_0a0c6840-c794-493a-be41-4ef8386a373d.pkl': 'train_1', 'sd_av2_v2_0a0cda83-b3f5-4edd-9352-44a15033a919.pkl': 'train_1', 'sd_av2_v2_0a0d23d6-647f-46a2-b719-e9a777f3e7af.pkl': 'train_1', 'sd_av2_v2_0a0ddf15-f666-4927-8102-a3aecbbf9390.pkl': 'train_1', 'sd_av2_v2_0a0de7d9-5a97-486d-b9e0-155f97ca7d2c.pkl': 'train_1', 'sd_av2_v2_0a0dfcb2-1d3c-4873-9f49-df7a4b1aea36.pkl': 'train_1', 'sd_av2_v2_0a0e17f4-f8ed-41c8-bf2a-3ecd2adab6a6.pkl': 'train_1', 'sd_av2_v2_0a0e3111-4494-4875-9d04-9b7ff7bddcc7.pkl': 'train_1', 'sd_av2_v2_0a0e37ec-042c-4429-9cad-ed8e967d5227.pkl': 'train_1', 'sd_av2_v2_0a0ee99b-3845-4120-a7f4-444184dc2164.pkl': 'train_1', 'sd_av2_v2_0a0f4f1f-d0ac-4aee-b03a-ed21f396bba8.pkl': 'train_2', 'sd_av2_v2_0a0f58b9-eb76-49e9-8b03-abc6dd1ea72d.pkl': 'train_2', 'sd_av2_v2_0a0f8b17-f59e-4411-ac7b-61b79b3a144a.pkl': 'train_2', 'sd_av2_v2_0a1a1fe4-7a85-4ba7-9fe6-21050d83d210.pkl': 'train_2', 'sd_av2_v2_0a1a31f8-70a6-4f60-ac0a-23c337d06bca.pkl': 'train_2', 'sd_av2_v2_0a1b1e27-61a0-4850-88cc-502d10301f95.pkl': 'train_2', 'sd_av2_v2_0a1b1f38-0441-4c65-8e23-c2f8a14ec0dc.pkl': 'train_2', 'sd_av2_v2_0a1b7611-0a77-4114-aa8c-ae30483d7013.pkl': 'train_2', 'sd_av2_v2_0a1bc314-90ce-4dff-a39c-0b20d004e4a5.pkl': 'train_2', 'sd_av2_v2_0a1bf643-3373-4665-9ae0-182e68eb04a4.pkl': 'train_2', 'sd_av2_v2_0a1c11d2-139b-4b91-89b0-8c2b29b95399.pkl': 'train_2', 'sd_av2_v2_0a1c46d6-6486-4cea-aebd-76f4b9831958.pkl': 'train_2', 'sd_av2_v2_0a1c5e99-7844-4381-9516-ccdbb58ca6e0.pkl': 'train_3', 'sd_av2_v2_0a1c8821-67fd-4087-9952-0c7ceb34fd7d.pkl': 'train_3', 'sd_av2_v2_0a1c902e-4c0b-4aed-8b8e-9a22b2e15b01.pkl': 'train_3', 'sd_av2_v2_0a1c90c8-3ecd-4e32-9921-3dc884e0782f.pkl': 'train_3', 'sd_av2_v2_0a1cd4d1-10a2-4841-81a1-e768a586398a.pkl': 'train_3', 'sd_av2_v2_0a1d31f4-feb3-4431-a8d8-32873595cb7f.pkl': 'train_3', 'sd_av2_v2_0a1e3641-84ef-4993-a25c-44670c3c8746.pkl': 'train_3', 'sd_av2_v2_0a1e43bc-6173-4091-89b9-f6ad39818dab.pkl': 'train_3', 'sd_av2_v2_0a1e63d3-01ac-478a-bd01-8e06924431ac.pkl': 'train_3', 'sd_av2_v2_0a1f8d52-da4c-46a0-a7b2-3e839169279d.pkl': 'train_3', 'sd_av2_v2_0a1fd388-e455-456d-86c9-4f0c7bf5fafe.pkl': 'train_3', 'sd_av2_v2_0a2a284b-55a0-410e-a459-05f7519c0f46.pkl': 'train_3', 'sd_av2_v2_0a2aa620-70b7-49ae-9035-ecd507d85ad8.pkl': 'train_4', 'sd_av2_v2_0a2b527d-c9e7-4374-a654-1e8ffebb9a2b.pkl': 'train_4', 'sd_av2_v2_0a2b8a16-183e-42fd-81f4-ee75c697c713.pkl': 'train_4', 'sd_av2_v2_0a2b923b-daad-4820-9f82-98d204a55b62.pkl': 'train_4', 'sd_av2_v2_0a2ba682-25f1-48be-9d98-6741927ea5cb.pkl': 'train_4', 'sd_av2_v2_0a2baa35-a8a9-4fc3-8c6e-c9575625ce61.pkl': 'train_4', 'sd_av2_v2_0a2bc590-df67-4381-b493-197a74e5bdfa.pkl': 'train_4', 'sd_av2_v2_0a2bc7f5-d90d-455e-90f6-30699de88899.pkl': 'train_4', 'sd_av2_v2_0a2bd381-85a5-4746-b22d-1e17c7212b8f.pkl': 'train_4', 'sd_av2_v2_0a2be706-d0e0-49f6-80ab-7b8096f23108.pkl': 'train_4', 'sd_av2_v2_0a2c59c6-5db1-46b8-8a2d-be3721e9a72f.pkl': 'train_4', 'sd_av2_v2_0a2cdc46-f43a-4501-9201-ed97486929ef.pkl': 'train_4', 'sd_av2_v2_0a2d68a0-0790-45de-ab95-3b4b6cd951de.pkl': 'train_5', 'sd_av2_v2_0a2d8c19-1c98-439e-a9ff-a05def405c72.pkl': 'train_5', 'sd_av2_v2_0a2d9376-1c13-4144-9599-7022af3b90eb.pkl': 'train_5', 'sd_av2_v2_0a2deb1a-f8b2-4fbc-aefd-93a533603bff.pkl': 'train_5', 'sd_av2_v2_0a2e2bf0-551f-4180-8f69-a1be0279be33.pkl': 'train_5', 'sd_av2_v2_0a2e7112-c04b-47c4-bebe-c0eea4f66783.pkl': 'train_5', 'sd_av2_v2_0a2e8094-7253-4f3f-bf91-d721d469921b.pkl': 'train_5', 'sd_av2_v2_0a2eaf13-19e8-45b1-96bb-5b4a81e16517.pkl': 'train_5', 'sd_av2_v2_0a2eb63f-7696-44fc-ad1e-1e79d589d4d8.pkl': 'train_5', 'sd_av2_v2_0a2ec212-72e0-4cde-8132-8f2afc7ce2d0.pkl': 'train_5', 'sd_av2_v2_0a2f3cc2-1fe9-4936-82bb-a403d821b398.pkl': 'train_5', 'sd_av2_v2_0a2faa5b-1104-4fba-898c-a9f908e932a3.pkl': 'train_5', 'sd_av2_v2_0a3b127f-ff91-4831-8950-c13079fe9f93.pkl': 'train_6', 'sd_av2_v2_0a3b37c7-1bf4-493c-a1c6-7e9643522b6a.pkl': 'train_6', 'sd_av2_v2_0a3c47fe-7bbc-4f6d-802b-32e45cb13d09.pkl': 'train_6', 'sd_av2_v2_0a3c9858-e3bf-4115-96ba-0b664233cd9c.pkl': 'train_6', 'sd_av2_v2_0a3ce84e-b8b3-4479-a29e-fb4fbb521c1a.pkl': 'train_6', 'sd_av2_v2_0a3d7b48-3607-4519-b82b-c7d6c078670f.pkl': 'train_6', 'sd_av2_v2_0a3d858e-2da6-475b-a0d5-b19a78e89ada.pkl': 'train_6', 'sd_av2_v2_0a3db768-3eb7-49bd-8227-faac3078acd2.pkl': 'train_6', 'sd_av2_v2_0a3df56e-4945-409c-bf30-4a1a9494358e.pkl': 'train_6', 'sd_av2_v2_0a3e1ce1-297c-4dc7-807f-954517bb955e.pkl': 'train_6', 'sd_av2_v2_0a3e8c85-0e74-4e53-874e-11d29d9f09d7.pkl': 'train_6', 'sd_av2_v2_0a3f3430-3507-4c18-aca2-cc8f94220213.pkl': 'train_6', 'sd_av2_v2_0a3f6542-bf9c-4f84-9772-299670497583.pkl': 'train_7', 'sd_av2_v2_0a4a2d71-5fcb-4e47-a6a2-977bf8d0750b.pkl': 'train_7', 'sd_av2_v2_0a4a92f8-bad6-4f08-add1-c725562964f6.pkl': 'train_7', 'sd_av2_v2_0a4aebfa-7829-4ea4-94a2-fc8bdca5cd83.pkl': 'train_7', 'sd_av2_v2_0a4b07cb-2d90-46e2-ad3c-a4192c6bf89e.pkl': 'train_7', 'sd_av2_v2_0a4bc822-144e-4444-be26-9d7ccf7191ad.pkl': 'train_7', 'sd_av2_v2_0a4c2e9d-0508-4aee-92ad-c0aa8ce413fa.pkl': 'train_7', 'sd_av2_v2_0a4cfd88-d521-4d28-a2a0-716f7bf42efc.pkl': 'train_7', 'sd_av2_v2_0a4d016d-97f6-49a8-8faf-84386ed5ba85.pkl': 'train_7', 'sd_av2_v2_0a4d140b-0f2a-4f4c-a646-b5d2bda2ad24.pkl': 'train_7', 'sd_av2_v2_0a4d55a0-bac0-48c0-8715-5d094ebea466.pkl': 'train_7', 'sd_av2_v2_0a4d5d58-8701-4cbf-965f-a8778c8b2500.pkl': 'train_7', 'sd_av2_v2_0a4d8937-7b68-4663-ade4-06cb264d2175.pkl': 'train_7', 'sd_av2_v2_0a4e06a5-bd4c-4336-8ac3-48059a679a3d.pkl': 'train_7', 'sd_av2_v2_0a4e3447-5a6c-43f0-ab1b-f42a0b092e2b.pkl': 'train_7', 'sd_av2_v2_0a4e8039-8b1d-4d90-b746-d1f560484682.pkl': 'train_7'} [np.str_('sd_av2_v2_0a0f8b17-f59e-4411-ac7b-61b79b3a144a.pkl'), np.str_('sd_av2_v2_0a1a1fe4-7a85-4ba7-9fe6-21050d83d210.pkl'), np.str_('sd_av2_v2_0a1a31f8-70a6-4f60-ac0a-23c337d06bca.pkl'), np.str_('sd_av2_v2_0a1b1e27-61a0-4850-88cc-502d10301f95.pkl'), np.str_('sd_av2_v2_0a1b1f38-0441-4c65-8e23-c2f8a14ec0dc.pkl'), np.str_('sd_av2_v2_0a1b7611-0a77-4114-aa8c-ae30483d7013.pkl'), np.str_('sd_av2_v2_0a1bc314-90ce-4dff-a39c-0b20d004e4a5.pkl'), np.str_('sd_av2_v2_0a1bf643-3373-4665-9ae0-182e68eb04a4.pkl'), np.str_('sd_av2_v2_0a1c11d2-139b-4b91-89b0-8c2b29b95399.pkl'), np.str_('sd_av2_v2_0a1c46d6-6486-4cea-aebd-76f4b9831958.pkl'), np.str_('sd_av2_v2_0a1c5e99-7844-4381-9516-ccdbb58ca6e0.pkl'), np.str_('sd_av2_v2_0a1c8821-67fd-4087-9952-0c7ceb34fd7d.pkl'), np.str_('sd_av2_v2_0a1c902e-4c0b-4aed-8b8e-9a22b2e15b01.pkl')] train ../data/cache\\train\\data\\2.h5\n",
      "Processing data chunk 3...\n",
      "G:/Work/DS/mimolm/data/train {'sd_av2_v2_00a0a3e0-1508-45f2-9cf5-e427e1446a33.pkl': 'train_0', 'sd_av2_v2_00a0adb0-6c55-4df6-88cd-6a524f4edb39.pkl': 'train_0', 'sd_av2_v2_00a2e7cc-f700-4a56-9b94-e312b66af424.pkl': 'train_0', 'sd_av2_v2_00a3a9a7-dd09-45fe-ac1e-24580e72ff14.pkl': 'train_0', 'sd_av2_v2_00a3d479-dc7e-4f39-8bc7-0c73c0e2f3a8.pkl': 'train_0', 'sd_av2_v2_00a4b70c-e650-4f2c-99f9-993f31f55f1d.pkl': 'train_0', 'sd_av2_v2_0a00c136-b7f1-4502-be51-55cd108005c7.pkl': 'train_0', 'sd_av2_v2_0a00dc81-63da-4a4f-aabd-24b1584edfe2.pkl': 'train_0', 'sd_av2_v2_0a0a2bb7-c4f4-44cd-958a-9ee15cb34aca.pkl': 'train_0', 'sd_av2_v2_0a0a71c5-2e02-432c-ade6-dff22bc659de.pkl': 'train_0', 'sd_av2_v2_0a0b9607-f495-42c9-a52e-2d7156234597.pkl': 'train_0', 'sd_av2_v2_0a0bdc92-a48a-4c52-a082-9eeeb360a5bd.pkl': 'train_0', 'sd_av2_v2_0a0c3f36-2076-4033-b30a-a908c5c64ea4.pkl': 'train_1', 'sd_av2_v2_0a0c614c-763f-4880-b917-fd07954973f4.pkl': 'train_1', 'sd_av2_v2_0a0c6840-c794-493a-be41-4ef8386a373d.pkl': 'train_1', 'sd_av2_v2_0a0cda83-b3f5-4edd-9352-44a15033a919.pkl': 'train_1', 'sd_av2_v2_0a0d23d6-647f-46a2-b719-e9a777f3e7af.pkl': 'train_1', 'sd_av2_v2_0a0ddf15-f666-4927-8102-a3aecbbf9390.pkl': 'train_1', 'sd_av2_v2_0a0de7d9-5a97-486d-b9e0-155f97ca7d2c.pkl': 'train_1', 'sd_av2_v2_0a0dfcb2-1d3c-4873-9f49-df7a4b1aea36.pkl': 'train_1', 'sd_av2_v2_0a0e17f4-f8ed-41c8-bf2a-3ecd2adab6a6.pkl': 'train_1', 'sd_av2_v2_0a0e3111-4494-4875-9d04-9b7ff7bddcc7.pkl': 'train_1', 'sd_av2_v2_0a0e37ec-042c-4429-9cad-ed8e967d5227.pkl': 'train_1', 'sd_av2_v2_0a0ee99b-3845-4120-a7f4-444184dc2164.pkl': 'train_1', 'sd_av2_v2_0a0f4f1f-d0ac-4aee-b03a-ed21f396bba8.pkl': 'train_2', 'sd_av2_v2_0a0f58b9-eb76-49e9-8b03-abc6dd1ea72d.pkl': 'train_2', 'sd_av2_v2_0a0f8b17-f59e-4411-ac7b-61b79b3a144a.pkl': 'train_2', 'sd_av2_v2_0a1a1fe4-7a85-4ba7-9fe6-21050d83d210.pkl': 'train_2', 'sd_av2_v2_0a1a31f8-70a6-4f60-ac0a-23c337d06bca.pkl': 'train_2', 'sd_av2_v2_0a1b1e27-61a0-4850-88cc-502d10301f95.pkl': 'train_2', 'sd_av2_v2_0a1b1f38-0441-4c65-8e23-c2f8a14ec0dc.pkl': 'train_2', 'sd_av2_v2_0a1b7611-0a77-4114-aa8c-ae30483d7013.pkl': 'train_2', 'sd_av2_v2_0a1bc314-90ce-4dff-a39c-0b20d004e4a5.pkl': 'train_2', 'sd_av2_v2_0a1bf643-3373-4665-9ae0-182e68eb04a4.pkl': 'train_2', 'sd_av2_v2_0a1c11d2-139b-4b91-89b0-8c2b29b95399.pkl': 'train_2', 'sd_av2_v2_0a1c46d6-6486-4cea-aebd-76f4b9831958.pkl': 'train_2', 'sd_av2_v2_0a1c5e99-7844-4381-9516-ccdbb58ca6e0.pkl': 'train_3', 'sd_av2_v2_0a1c8821-67fd-4087-9952-0c7ceb34fd7d.pkl': 'train_3', 'sd_av2_v2_0a1c902e-4c0b-4aed-8b8e-9a22b2e15b01.pkl': 'train_3', 'sd_av2_v2_0a1c90c8-3ecd-4e32-9921-3dc884e0782f.pkl': 'train_3', 'sd_av2_v2_0a1cd4d1-10a2-4841-81a1-e768a586398a.pkl': 'train_3', 'sd_av2_v2_0a1d31f4-feb3-4431-a8d8-32873595cb7f.pkl': 'train_3', 'sd_av2_v2_0a1e3641-84ef-4993-a25c-44670c3c8746.pkl': 'train_3', 'sd_av2_v2_0a1e43bc-6173-4091-89b9-f6ad39818dab.pkl': 'train_3', 'sd_av2_v2_0a1e63d3-01ac-478a-bd01-8e06924431ac.pkl': 'train_3', 'sd_av2_v2_0a1f8d52-da4c-46a0-a7b2-3e839169279d.pkl': 'train_3', 'sd_av2_v2_0a1fd388-e455-456d-86c9-4f0c7bf5fafe.pkl': 'train_3', 'sd_av2_v2_0a2a284b-55a0-410e-a459-05f7519c0f46.pkl': 'train_3', 'sd_av2_v2_0a2aa620-70b7-49ae-9035-ecd507d85ad8.pkl': 'train_4', 'sd_av2_v2_0a2b527d-c9e7-4374-a654-1e8ffebb9a2b.pkl': 'train_4', 'sd_av2_v2_0a2b8a16-183e-42fd-81f4-ee75c697c713.pkl': 'train_4', 'sd_av2_v2_0a2b923b-daad-4820-9f82-98d204a55b62.pkl': 'train_4', 'sd_av2_v2_0a2ba682-25f1-48be-9d98-6741927ea5cb.pkl': 'train_4', 'sd_av2_v2_0a2baa35-a8a9-4fc3-8c6e-c9575625ce61.pkl': 'train_4', 'sd_av2_v2_0a2bc590-df67-4381-b493-197a74e5bdfa.pkl': 'train_4', 'sd_av2_v2_0a2bc7f5-d90d-455e-90f6-30699de88899.pkl': 'train_4', 'sd_av2_v2_0a2bd381-85a5-4746-b22d-1e17c7212b8f.pkl': 'train_4', 'sd_av2_v2_0a2be706-d0e0-49f6-80ab-7b8096f23108.pkl': 'train_4', 'sd_av2_v2_0a2c59c6-5db1-46b8-8a2d-be3721e9a72f.pkl': 'train_4', 'sd_av2_v2_0a2cdc46-f43a-4501-9201-ed97486929ef.pkl': 'train_4', 'sd_av2_v2_0a2d68a0-0790-45de-ab95-3b4b6cd951de.pkl': 'train_5', 'sd_av2_v2_0a2d8c19-1c98-439e-a9ff-a05def405c72.pkl': 'train_5', 'sd_av2_v2_0a2d9376-1c13-4144-9599-7022af3b90eb.pkl': 'train_5', 'sd_av2_v2_0a2deb1a-f8b2-4fbc-aefd-93a533603bff.pkl': 'train_5', 'sd_av2_v2_0a2e2bf0-551f-4180-8f69-a1be0279be33.pkl': 'train_5', 'sd_av2_v2_0a2e7112-c04b-47c4-bebe-c0eea4f66783.pkl': 'train_5', 'sd_av2_v2_0a2e8094-7253-4f3f-bf91-d721d469921b.pkl': 'train_5', 'sd_av2_v2_0a2eaf13-19e8-45b1-96bb-5b4a81e16517.pkl': 'train_5', 'sd_av2_v2_0a2eb63f-7696-44fc-ad1e-1e79d589d4d8.pkl': 'train_5', 'sd_av2_v2_0a2ec212-72e0-4cde-8132-8f2afc7ce2d0.pkl': 'train_5', 'sd_av2_v2_0a2f3cc2-1fe9-4936-82bb-a403d821b398.pkl': 'train_5', 'sd_av2_v2_0a2faa5b-1104-4fba-898c-a9f908e932a3.pkl': 'train_5', 'sd_av2_v2_0a3b127f-ff91-4831-8950-c13079fe9f93.pkl': 'train_6', 'sd_av2_v2_0a3b37c7-1bf4-493c-a1c6-7e9643522b6a.pkl': 'train_6', 'sd_av2_v2_0a3c47fe-7bbc-4f6d-802b-32e45cb13d09.pkl': 'train_6', 'sd_av2_v2_0a3c9858-e3bf-4115-96ba-0b664233cd9c.pkl': 'train_6', 'sd_av2_v2_0a3ce84e-b8b3-4479-a29e-fb4fbb521c1a.pkl': 'train_6', 'sd_av2_v2_0a3d7b48-3607-4519-b82b-c7d6c078670f.pkl': 'train_6', 'sd_av2_v2_0a3d858e-2da6-475b-a0d5-b19a78e89ada.pkl': 'train_6', 'sd_av2_v2_0a3db768-3eb7-49bd-8227-faac3078acd2.pkl': 'train_6', 'sd_av2_v2_0a3df56e-4945-409c-bf30-4a1a9494358e.pkl': 'train_6', 'sd_av2_v2_0a3e1ce1-297c-4dc7-807f-954517bb955e.pkl': 'train_6', 'sd_av2_v2_0a3e8c85-0e74-4e53-874e-11d29d9f09d7.pkl': 'train_6', 'sd_av2_v2_0a3f3430-3507-4c18-aca2-cc8f94220213.pkl': 'train_6', 'sd_av2_v2_0a3f6542-bf9c-4f84-9772-299670497583.pkl': 'train_7', 'sd_av2_v2_0a4a2d71-5fcb-4e47-a6a2-977bf8d0750b.pkl': 'train_7', 'sd_av2_v2_0a4a92f8-bad6-4f08-add1-c725562964f6.pkl': 'train_7', 'sd_av2_v2_0a4aebfa-7829-4ea4-94a2-fc8bdca5cd83.pkl': 'train_7', 'sd_av2_v2_0a4b07cb-2d90-46e2-ad3c-a4192c6bf89e.pkl': 'train_7', 'sd_av2_v2_0a4bc822-144e-4444-be26-9d7ccf7191ad.pkl': 'train_7', 'sd_av2_v2_0a4c2e9d-0508-4aee-92ad-c0aa8ce413fa.pkl': 'train_7', 'sd_av2_v2_0a4cfd88-d521-4d28-a2a0-716f7bf42efc.pkl': 'train_7', 'sd_av2_v2_0a4d016d-97f6-49a8-8faf-84386ed5ba85.pkl': 'train_7', 'sd_av2_v2_0a4d140b-0f2a-4f4c-a646-b5d2bda2ad24.pkl': 'train_7', 'sd_av2_v2_0a4d55a0-bac0-48c0-8715-5d094ebea466.pkl': 'train_7', 'sd_av2_v2_0a4d5d58-8701-4cbf-965f-a8778c8b2500.pkl': 'train_7', 'sd_av2_v2_0a4d8937-7b68-4663-ade4-06cb264d2175.pkl': 'train_7', 'sd_av2_v2_0a4e06a5-bd4c-4336-8ac3-48059a679a3d.pkl': 'train_7', 'sd_av2_v2_0a4e3447-5a6c-43f0-ab1b-f42a0b092e2b.pkl': 'train_7', 'sd_av2_v2_0a4e8039-8b1d-4d90-b746-d1f560484682.pkl': 'train_7'} [np.str_('sd_av2_v2_0a1c90c8-3ecd-4e32-9921-3dc884e0782f.pkl'), np.str_('sd_av2_v2_0a1cd4d1-10a2-4841-81a1-e768a586398a.pkl'), np.str_('sd_av2_v2_0a1d31f4-feb3-4431-a8d8-32873595cb7f.pkl'), np.str_('sd_av2_v2_0a1e3641-84ef-4993-a25c-44670c3c8746.pkl'), np.str_('sd_av2_v2_0a1e43bc-6173-4091-89b9-f6ad39818dab.pkl'), np.str_('sd_av2_v2_0a1e63d3-01ac-478a-bd01-8e06924431ac.pkl'), np.str_('sd_av2_v2_0a1f8d52-da4c-46a0-a7b2-3e839169279d.pkl'), np.str_('sd_av2_v2_0a1fd388-e455-456d-86c9-4f0c7bf5fafe.pkl'), np.str_('sd_av2_v2_0a2a284b-55a0-410e-a459-05f7519c0f46.pkl'), np.str_('sd_av2_v2_0a2aa620-70b7-49ae-9035-ecd507d85ad8.pkl'), np.str_('sd_av2_v2_0a2b527d-c9e7-4374-a654-1e8ffebb9a2b.pkl'), np.str_('sd_av2_v2_0a2b8a16-183e-42fd-81f4-ee75c697c713.pkl'), np.str_('sd_av2_v2_0a2b923b-daad-4820-9f82-98d204a55b62.pkl')] train ../data/cache\\train\\data\\3.h5\n",
      "Processing data chunk 4...\n",
      "G:/Work/DS/mimolm/data/train {'sd_av2_v2_00a0a3e0-1508-45f2-9cf5-e427e1446a33.pkl': 'train_0', 'sd_av2_v2_00a0adb0-6c55-4df6-88cd-6a524f4edb39.pkl': 'train_0', 'sd_av2_v2_00a2e7cc-f700-4a56-9b94-e312b66af424.pkl': 'train_0', 'sd_av2_v2_00a3a9a7-dd09-45fe-ac1e-24580e72ff14.pkl': 'train_0', 'sd_av2_v2_00a3d479-dc7e-4f39-8bc7-0c73c0e2f3a8.pkl': 'train_0', 'sd_av2_v2_00a4b70c-e650-4f2c-99f9-993f31f55f1d.pkl': 'train_0', 'sd_av2_v2_0a00c136-b7f1-4502-be51-55cd108005c7.pkl': 'train_0', 'sd_av2_v2_0a00dc81-63da-4a4f-aabd-24b1584edfe2.pkl': 'train_0', 'sd_av2_v2_0a0a2bb7-c4f4-44cd-958a-9ee15cb34aca.pkl': 'train_0', 'sd_av2_v2_0a0a71c5-2e02-432c-ade6-dff22bc659de.pkl': 'train_0', 'sd_av2_v2_0a0b9607-f495-42c9-a52e-2d7156234597.pkl': 'train_0', 'sd_av2_v2_0a0bdc92-a48a-4c52-a082-9eeeb360a5bd.pkl': 'train_0', 'sd_av2_v2_0a0c3f36-2076-4033-b30a-a908c5c64ea4.pkl': 'train_1', 'sd_av2_v2_0a0c614c-763f-4880-b917-fd07954973f4.pkl': 'train_1', 'sd_av2_v2_0a0c6840-c794-493a-be41-4ef8386a373d.pkl': 'train_1', 'sd_av2_v2_0a0cda83-b3f5-4edd-9352-44a15033a919.pkl': 'train_1', 'sd_av2_v2_0a0d23d6-647f-46a2-b719-e9a777f3e7af.pkl': 'train_1', 'sd_av2_v2_0a0ddf15-f666-4927-8102-a3aecbbf9390.pkl': 'train_1', 'sd_av2_v2_0a0de7d9-5a97-486d-b9e0-155f97ca7d2c.pkl': 'train_1', 'sd_av2_v2_0a0dfcb2-1d3c-4873-9f49-df7a4b1aea36.pkl': 'train_1', 'sd_av2_v2_0a0e17f4-f8ed-41c8-bf2a-3ecd2adab6a6.pkl': 'train_1', 'sd_av2_v2_0a0e3111-4494-4875-9d04-9b7ff7bddcc7.pkl': 'train_1', 'sd_av2_v2_0a0e37ec-042c-4429-9cad-ed8e967d5227.pkl': 'train_1', 'sd_av2_v2_0a0ee99b-3845-4120-a7f4-444184dc2164.pkl': 'train_1', 'sd_av2_v2_0a0f4f1f-d0ac-4aee-b03a-ed21f396bba8.pkl': 'train_2', 'sd_av2_v2_0a0f58b9-eb76-49e9-8b03-abc6dd1ea72d.pkl': 'train_2', 'sd_av2_v2_0a0f8b17-f59e-4411-ac7b-61b79b3a144a.pkl': 'train_2', 'sd_av2_v2_0a1a1fe4-7a85-4ba7-9fe6-21050d83d210.pkl': 'train_2', 'sd_av2_v2_0a1a31f8-70a6-4f60-ac0a-23c337d06bca.pkl': 'train_2', 'sd_av2_v2_0a1b1e27-61a0-4850-88cc-502d10301f95.pkl': 'train_2', 'sd_av2_v2_0a1b1f38-0441-4c65-8e23-c2f8a14ec0dc.pkl': 'train_2', 'sd_av2_v2_0a1b7611-0a77-4114-aa8c-ae30483d7013.pkl': 'train_2', 'sd_av2_v2_0a1bc314-90ce-4dff-a39c-0b20d004e4a5.pkl': 'train_2', 'sd_av2_v2_0a1bf643-3373-4665-9ae0-182e68eb04a4.pkl': 'train_2', 'sd_av2_v2_0a1c11d2-139b-4b91-89b0-8c2b29b95399.pkl': 'train_2', 'sd_av2_v2_0a1c46d6-6486-4cea-aebd-76f4b9831958.pkl': 'train_2', 'sd_av2_v2_0a1c5e99-7844-4381-9516-ccdbb58ca6e0.pkl': 'train_3', 'sd_av2_v2_0a1c8821-67fd-4087-9952-0c7ceb34fd7d.pkl': 'train_3', 'sd_av2_v2_0a1c902e-4c0b-4aed-8b8e-9a22b2e15b01.pkl': 'train_3', 'sd_av2_v2_0a1c90c8-3ecd-4e32-9921-3dc884e0782f.pkl': 'train_3', 'sd_av2_v2_0a1cd4d1-10a2-4841-81a1-e768a586398a.pkl': 'train_3', 'sd_av2_v2_0a1d31f4-feb3-4431-a8d8-32873595cb7f.pkl': 'train_3', 'sd_av2_v2_0a1e3641-84ef-4993-a25c-44670c3c8746.pkl': 'train_3', 'sd_av2_v2_0a1e43bc-6173-4091-89b9-f6ad39818dab.pkl': 'train_3', 'sd_av2_v2_0a1e63d3-01ac-478a-bd01-8e06924431ac.pkl': 'train_3', 'sd_av2_v2_0a1f8d52-da4c-46a0-a7b2-3e839169279d.pkl': 'train_3', 'sd_av2_v2_0a1fd388-e455-456d-86c9-4f0c7bf5fafe.pkl': 'train_3', 'sd_av2_v2_0a2a284b-55a0-410e-a459-05f7519c0f46.pkl': 'train_3', 'sd_av2_v2_0a2aa620-70b7-49ae-9035-ecd507d85ad8.pkl': 'train_4', 'sd_av2_v2_0a2b527d-c9e7-4374-a654-1e8ffebb9a2b.pkl': 'train_4', 'sd_av2_v2_0a2b8a16-183e-42fd-81f4-ee75c697c713.pkl': 'train_4', 'sd_av2_v2_0a2b923b-daad-4820-9f82-98d204a55b62.pkl': 'train_4', 'sd_av2_v2_0a2ba682-25f1-48be-9d98-6741927ea5cb.pkl': 'train_4', 'sd_av2_v2_0a2baa35-a8a9-4fc3-8c6e-c9575625ce61.pkl': 'train_4', 'sd_av2_v2_0a2bc590-df67-4381-b493-197a74e5bdfa.pkl': 'train_4', 'sd_av2_v2_0a2bc7f5-d90d-455e-90f6-30699de88899.pkl': 'train_4', 'sd_av2_v2_0a2bd381-85a5-4746-b22d-1e17c7212b8f.pkl': 'train_4', 'sd_av2_v2_0a2be706-d0e0-49f6-80ab-7b8096f23108.pkl': 'train_4', 'sd_av2_v2_0a2c59c6-5db1-46b8-8a2d-be3721e9a72f.pkl': 'train_4', 'sd_av2_v2_0a2cdc46-f43a-4501-9201-ed97486929ef.pkl': 'train_4', 'sd_av2_v2_0a2d68a0-0790-45de-ab95-3b4b6cd951de.pkl': 'train_5', 'sd_av2_v2_0a2d8c19-1c98-439e-a9ff-a05def405c72.pkl': 'train_5', 'sd_av2_v2_0a2d9376-1c13-4144-9599-7022af3b90eb.pkl': 'train_5', 'sd_av2_v2_0a2deb1a-f8b2-4fbc-aefd-93a533603bff.pkl': 'train_5', 'sd_av2_v2_0a2e2bf0-551f-4180-8f69-a1be0279be33.pkl': 'train_5', 'sd_av2_v2_0a2e7112-c04b-47c4-bebe-c0eea4f66783.pkl': 'train_5', 'sd_av2_v2_0a2e8094-7253-4f3f-bf91-d721d469921b.pkl': 'train_5', 'sd_av2_v2_0a2eaf13-19e8-45b1-96bb-5b4a81e16517.pkl': 'train_5', 'sd_av2_v2_0a2eb63f-7696-44fc-ad1e-1e79d589d4d8.pkl': 'train_5', 'sd_av2_v2_0a2ec212-72e0-4cde-8132-8f2afc7ce2d0.pkl': 'train_5', 'sd_av2_v2_0a2f3cc2-1fe9-4936-82bb-a403d821b398.pkl': 'train_5', 'sd_av2_v2_0a2faa5b-1104-4fba-898c-a9f908e932a3.pkl': 'train_5', 'sd_av2_v2_0a3b127f-ff91-4831-8950-c13079fe9f93.pkl': 'train_6', 'sd_av2_v2_0a3b37c7-1bf4-493c-a1c6-7e9643522b6a.pkl': 'train_6', 'sd_av2_v2_0a3c47fe-7bbc-4f6d-802b-32e45cb13d09.pkl': 'train_6', 'sd_av2_v2_0a3c9858-e3bf-4115-96ba-0b664233cd9c.pkl': 'train_6', 'sd_av2_v2_0a3ce84e-b8b3-4479-a29e-fb4fbb521c1a.pkl': 'train_6', 'sd_av2_v2_0a3d7b48-3607-4519-b82b-c7d6c078670f.pkl': 'train_6', 'sd_av2_v2_0a3d858e-2da6-475b-a0d5-b19a78e89ada.pkl': 'train_6', 'sd_av2_v2_0a3db768-3eb7-49bd-8227-faac3078acd2.pkl': 'train_6', 'sd_av2_v2_0a3df56e-4945-409c-bf30-4a1a9494358e.pkl': 'train_6', 'sd_av2_v2_0a3e1ce1-297c-4dc7-807f-954517bb955e.pkl': 'train_6', 'sd_av2_v2_0a3e8c85-0e74-4e53-874e-11d29d9f09d7.pkl': 'train_6', 'sd_av2_v2_0a3f3430-3507-4c18-aca2-cc8f94220213.pkl': 'train_6', 'sd_av2_v2_0a3f6542-bf9c-4f84-9772-299670497583.pkl': 'train_7', 'sd_av2_v2_0a4a2d71-5fcb-4e47-a6a2-977bf8d0750b.pkl': 'train_7', 'sd_av2_v2_0a4a92f8-bad6-4f08-add1-c725562964f6.pkl': 'train_7', 'sd_av2_v2_0a4aebfa-7829-4ea4-94a2-fc8bdca5cd83.pkl': 'train_7', 'sd_av2_v2_0a4b07cb-2d90-46e2-ad3c-a4192c6bf89e.pkl': 'train_7', 'sd_av2_v2_0a4bc822-144e-4444-be26-9d7ccf7191ad.pkl': 'train_7', 'sd_av2_v2_0a4c2e9d-0508-4aee-92ad-c0aa8ce413fa.pkl': 'train_7', 'sd_av2_v2_0a4cfd88-d521-4d28-a2a0-716f7bf42efc.pkl': 'train_7', 'sd_av2_v2_0a4d016d-97f6-49a8-8faf-84386ed5ba85.pkl': 'train_7', 'sd_av2_v2_0a4d140b-0f2a-4f4c-a646-b5d2bda2ad24.pkl': 'train_7', 'sd_av2_v2_0a4d55a0-bac0-48c0-8715-5d094ebea466.pkl': 'train_7', 'sd_av2_v2_0a4d5d58-8701-4cbf-965f-a8778c8b2500.pkl': 'train_7', 'sd_av2_v2_0a4d8937-7b68-4663-ade4-06cb264d2175.pkl': 'train_7', 'sd_av2_v2_0a4e06a5-bd4c-4336-8ac3-48059a679a3d.pkl': 'train_7', 'sd_av2_v2_0a4e3447-5a6c-43f0-ab1b-f42a0b092e2b.pkl': 'train_7', 'sd_av2_v2_0a4e8039-8b1d-4d90-b746-d1f560484682.pkl': 'train_7'} [np.str_('sd_av2_v2_0a2ba682-25f1-48be-9d98-6741927ea5cb.pkl'), np.str_('sd_av2_v2_0a2baa35-a8a9-4fc3-8c6e-c9575625ce61.pkl'), np.str_('sd_av2_v2_0a2bc590-df67-4381-b493-197a74e5bdfa.pkl'), np.str_('sd_av2_v2_0a2bc7f5-d90d-455e-90f6-30699de88899.pkl'), np.str_('sd_av2_v2_0a2bd381-85a5-4746-b22d-1e17c7212b8f.pkl'), np.str_('sd_av2_v2_0a2be706-d0e0-49f6-80ab-7b8096f23108.pkl'), np.str_('sd_av2_v2_0a2c59c6-5db1-46b8-8a2d-be3721e9a72f.pkl'), np.str_('sd_av2_v2_0a2cdc46-f43a-4501-9201-ed97486929ef.pkl'), np.str_('sd_av2_v2_0a2d68a0-0790-45de-ab95-3b4b6cd951de.pkl'), np.str_('sd_av2_v2_0a2d8c19-1c98-439e-a9ff-a05def405c72.pkl'), np.str_('sd_av2_v2_0a2d9376-1c13-4144-9599-7022af3b90eb.pkl'), np.str_('sd_av2_v2_0a2deb1a-f8b2-4fbc-aefd-93a533603bff.pkl')] train ../data/cache\\train\\data\\4.h5\n",
      "Processing data chunk 5...\n",
      "G:/Work/DS/mimolm/data/train {'sd_av2_v2_00a0a3e0-1508-45f2-9cf5-e427e1446a33.pkl': 'train_0', 'sd_av2_v2_00a0adb0-6c55-4df6-88cd-6a524f4edb39.pkl': 'train_0', 'sd_av2_v2_00a2e7cc-f700-4a56-9b94-e312b66af424.pkl': 'train_0', 'sd_av2_v2_00a3a9a7-dd09-45fe-ac1e-24580e72ff14.pkl': 'train_0', 'sd_av2_v2_00a3d479-dc7e-4f39-8bc7-0c73c0e2f3a8.pkl': 'train_0', 'sd_av2_v2_00a4b70c-e650-4f2c-99f9-993f31f55f1d.pkl': 'train_0', 'sd_av2_v2_0a00c136-b7f1-4502-be51-55cd108005c7.pkl': 'train_0', 'sd_av2_v2_0a00dc81-63da-4a4f-aabd-24b1584edfe2.pkl': 'train_0', 'sd_av2_v2_0a0a2bb7-c4f4-44cd-958a-9ee15cb34aca.pkl': 'train_0', 'sd_av2_v2_0a0a71c5-2e02-432c-ade6-dff22bc659de.pkl': 'train_0', 'sd_av2_v2_0a0b9607-f495-42c9-a52e-2d7156234597.pkl': 'train_0', 'sd_av2_v2_0a0bdc92-a48a-4c52-a082-9eeeb360a5bd.pkl': 'train_0', 'sd_av2_v2_0a0c3f36-2076-4033-b30a-a908c5c64ea4.pkl': 'train_1', 'sd_av2_v2_0a0c614c-763f-4880-b917-fd07954973f4.pkl': 'train_1', 'sd_av2_v2_0a0c6840-c794-493a-be41-4ef8386a373d.pkl': 'train_1', 'sd_av2_v2_0a0cda83-b3f5-4edd-9352-44a15033a919.pkl': 'train_1', 'sd_av2_v2_0a0d23d6-647f-46a2-b719-e9a777f3e7af.pkl': 'train_1', 'sd_av2_v2_0a0ddf15-f666-4927-8102-a3aecbbf9390.pkl': 'train_1', 'sd_av2_v2_0a0de7d9-5a97-486d-b9e0-155f97ca7d2c.pkl': 'train_1', 'sd_av2_v2_0a0dfcb2-1d3c-4873-9f49-df7a4b1aea36.pkl': 'train_1', 'sd_av2_v2_0a0e17f4-f8ed-41c8-bf2a-3ecd2adab6a6.pkl': 'train_1', 'sd_av2_v2_0a0e3111-4494-4875-9d04-9b7ff7bddcc7.pkl': 'train_1', 'sd_av2_v2_0a0e37ec-042c-4429-9cad-ed8e967d5227.pkl': 'train_1', 'sd_av2_v2_0a0ee99b-3845-4120-a7f4-444184dc2164.pkl': 'train_1', 'sd_av2_v2_0a0f4f1f-d0ac-4aee-b03a-ed21f396bba8.pkl': 'train_2', 'sd_av2_v2_0a0f58b9-eb76-49e9-8b03-abc6dd1ea72d.pkl': 'train_2', 'sd_av2_v2_0a0f8b17-f59e-4411-ac7b-61b79b3a144a.pkl': 'train_2', 'sd_av2_v2_0a1a1fe4-7a85-4ba7-9fe6-21050d83d210.pkl': 'train_2', 'sd_av2_v2_0a1a31f8-70a6-4f60-ac0a-23c337d06bca.pkl': 'train_2', 'sd_av2_v2_0a1b1e27-61a0-4850-88cc-502d10301f95.pkl': 'train_2', 'sd_av2_v2_0a1b1f38-0441-4c65-8e23-c2f8a14ec0dc.pkl': 'train_2', 'sd_av2_v2_0a1b7611-0a77-4114-aa8c-ae30483d7013.pkl': 'train_2', 'sd_av2_v2_0a1bc314-90ce-4dff-a39c-0b20d004e4a5.pkl': 'train_2', 'sd_av2_v2_0a1bf643-3373-4665-9ae0-182e68eb04a4.pkl': 'train_2', 'sd_av2_v2_0a1c11d2-139b-4b91-89b0-8c2b29b95399.pkl': 'train_2', 'sd_av2_v2_0a1c46d6-6486-4cea-aebd-76f4b9831958.pkl': 'train_2', 'sd_av2_v2_0a1c5e99-7844-4381-9516-ccdbb58ca6e0.pkl': 'train_3', 'sd_av2_v2_0a1c8821-67fd-4087-9952-0c7ceb34fd7d.pkl': 'train_3', 'sd_av2_v2_0a1c902e-4c0b-4aed-8b8e-9a22b2e15b01.pkl': 'train_3', 'sd_av2_v2_0a1c90c8-3ecd-4e32-9921-3dc884e0782f.pkl': 'train_3', 'sd_av2_v2_0a1cd4d1-10a2-4841-81a1-e768a586398a.pkl': 'train_3', 'sd_av2_v2_0a1d31f4-feb3-4431-a8d8-32873595cb7f.pkl': 'train_3', 'sd_av2_v2_0a1e3641-84ef-4993-a25c-44670c3c8746.pkl': 'train_3', 'sd_av2_v2_0a1e43bc-6173-4091-89b9-f6ad39818dab.pkl': 'train_3', 'sd_av2_v2_0a1e63d3-01ac-478a-bd01-8e06924431ac.pkl': 'train_3', 'sd_av2_v2_0a1f8d52-da4c-46a0-a7b2-3e839169279d.pkl': 'train_3', 'sd_av2_v2_0a1fd388-e455-456d-86c9-4f0c7bf5fafe.pkl': 'train_3', 'sd_av2_v2_0a2a284b-55a0-410e-a459-05f7519c0f46.pkl': 'train_3', 'sd_av2_v2_0a2aa620-70b7-49ae-9035-ecd507d85ad8.pkl': 'train_4', 'sd_av2_v2_0a2b527d-c9e7-4374-a654-1e8ffebb9a2b.pkl': 'train_4', 'sd_av2_v2_0a2b8a16-183e-42fd-81f4-ee75c697c713.pkl': 'train_4', 'sd_av2_v2_0a2b923b-daad-4820-9f82-98d204a55b62.pkl': 'train_4', 'sd_av2_v2_0a2ba682-25f1-48be-9d98-6741927ea5cb.pkl': 'train_4', 'sd_av2_v2_0a2baa35-a8a9-4fc3-8c6e-c9575625ce61.pkl': 'train_4', 'sd_av2_v2_0a2bc590-df67-4381-b493-197a74e5bdfa.pkl': 'train_4', 'sd_av2_v2_0a2bc7f5-d90d-455e-90f6-30699de88899.pkl': 'train_4', 'sd_av2_v2_0a2bd381-85a5-4746-b22d-1e17c7212b8f.pkl': 'train_4', 'sd_av2_v2_0a2be706-d0e0-49f6-80ab-7b8096f23108.pkl': 'train_4', 'sd_av2_v2_0a2c59c6-5db1-46b8-8a2d-be3721e9a72f.pkl': 'train_4', 'sd_av2_v2_0a2cdc46-f43a-4501-9201-ed97486929ef.pkl': 'train_4', 'sd_av2_v2_0a2d68a0-0790-45de-ab95-3b4b6cd951de.pkl': 'train_5', 'sd_av2_v2_0a2d8c19-1c98-439e-a9ff-a05def405c72.pkl': 'train_5', 'sd_av2_v2_0a2d9376-1c13-4144-9599-7022af3b90eb.pkl': 'train_5', 'sd_av2_v2_0a2deb1a-f8b2-4fbc-aefd-93a533603bff.pkl': 'train_5', 'sd_av2_v2_0a2e2bf0-551f-4180-8f69-a1be0279be33.pkl': 'train_5', 'sd_av2_v2_0a2e7112-c04b-47c4-bebe-c0eea4f66783.pkl': 'train_5', 'sd_av2_v2_0a2e8094-7253-4f3f-bf91-d721d469921b.pkl': 'train_5', 'sd_av2_v2_0a2eaf13-19e8-45b1-96bb-5b4a81e16517.pkl': 'train_5', 'sd_av2_v2_0a2eb63f-7696-44fc-ad1e-1e79d589d4d8.pkl': 'train_5', 'sd_av2_v2_0a2ec212-72e0-4cde-8132-8f2afc7ce2d0.pkl': 'train_5', 'sd_av2_v2_0a2f3cc2-1fe9-4936-82bb-a403d821b398.pkl': 'train_5', 'sd_av2_v2_0a2faa5b-1104-4fba-898c-a9f908e932a3.pkl': 'train_5', 'sd_av2_v2_0a3b127f-ff91-4831-8950-c13079fe9f93.pkl': 'train_6', 'sd_av2_v2_0a3b37c7-1bf4-493c-a1c6-7e9643522b6a.pkl': 'train_6', 'sd_av2_v2_0a3c47fe-7bbc-4f6d-802b-32e45cb13d09.pkl': 'train_6', 'sd_av2_v2_0a3c9858-e3bf-4115-96ba-0b664233cd9c.pkl': 'train_6', 'sd_av2_v2_0a3ce84e-b8b3-4479-a29e-fb4fbb521c1a.pkl': 'train_6', 'sd_av2_v2_0a3d7b48-3607-4519-b82b-c7d6c078670f.pkl': 'train_6', 'sd_av2_v2_0a3d858e-2da6-475b-a0d5-b19a78e89ada.pkl': 'train_6', 'sd_av2_v2_0a3db768-3eb7-49bd-8227-faac3078acd2.pkl': 'train_6', 'sd_av2_v2_0a3df56e-4945-409c-bf30-4a1a9494358e.pkl': 'train_6', 'sd_av2_v2_0a3e1ce1-297c-4dc7-807f-954517bb955e.pkl': 'train_6', 'sd_av2_v2_0a3e8c85-0e74-4e53-874e-11d29d9f09d7.pkl': 'train_6', 'sd_av2_v2_0a3f3430-3507-4c18-aca2-cc8f94220213.pkl': 'train_6', 'sd_av2_v2_0a3f6542-bf9c-4f84-9772-299670497583.pkl': 'train_7', 'sd_av2_v2_0a4a2d71-5fcb-4e47-a6a2-977bf8d0750b.pkl': 'train_7', 'sd_av2_v2_0a4a92f8-bad6-4f08-add1-c725562964f6.pkl': 'train_7', 'sd_av2_v2_0a4aebfa-7829-4ea4-94a2-fc8bdca5cd83.pkl': 'train_7', 'sd_av2_v2_0a4b07cb-2d90-46e2-ad3c-a4192c6bf89e.pkl': 'train_7', 'sd_av2_v2_0a4bc822-144e-4444-be26-9d7ccf7191ad.pkl': 'train_7', 'sd_av2_v2_0a4c2e9d-0508-4aee-92ad-c0aa8ce413fa.pkl': 'train_7', 'sd_av2_v2_0a4cfd88-d521-4d28-a2a0-716f7bf42efc.pkl': 'train_7', 'sd_av2_v2_0a4d016d-97f6-49a8-8faf-84386ed5ba85.pkl': 'train_7', 'sd_av2_v2_0a4d140b-0f2a-4f4c-a646-b5d2bda2ad24.pkl': 'train_7', 'sd_av2_v2_0a4d55a0-bac0-48c0-8715-5d094ebea466.pkl': 'train_7', 'sd_av2_v2_0a4d5d58-8701-4cbf-965f-a8778c8b2500.pkl': 'train_7', 'sd_av2_v2_0a4d8937-7b68-4663-ade4-06cb264d2175.pkl': 'train_7', 'sd_av2_v2_0a4e06a5-bd4c-4336-8ac3-48059a679a3d.pkl': 'train_7', 'sd_av2_v2_0a4e3447-5a6c-43f0-ab1b-f42a0b092e2b.pkl': 'train_7', 'sd_av2_v2_0a4e8039-8b1d-4d90-b746-d1f560484682.pkl': 'train_7'} [np.str_('sd_av2_v2_0a2e2bf0-551f-4180-8f69-a1be0279be33.pkl'), np.str_('sd_av2_v2_0a2e7112-c04b-47c4-bebe-c0eea4f66783.pkl'), np.str_('sd_av2_v2_0a2e8094-7253-4f3f-bf91-d721d469921b.pkl'), np.str_('sd_av2_v2_0a2eaf13-19e8-45b1-96bb-5b4a81e16517.pkl'), np.str_('sd_av2_v2_0a2eb63f-7696-44fc-ad1e-1e79d589d4d8.pkl'), np.str_('sd_av2_v2_0a2ec212-72e0-4cde-8132-8f2afc7ce2d0.pkl'), np.str_('sd_av2_v2_0a2f3cc2-1fe9-4936-82bb-a403d821b398.pkl'), np.str_('sd_av2_v2_0a2faa5b-1104-4fba-898c-a9f908e932a3.pkl'), np.str_('sd_av2_v2_0a3b127f-ff91-4831-8950-c13079fe9f93.pkl'), np.str_('sd_av2_v2_0a3b37c7-1bf4-493c-a1c6-7e9643522b6a.pkl'), np.str_('sd_av2_v2_0a3c47fe-7bbc-4f6d-802b-32e45cb13d09.pkl'), np.str_('sd_av2_v2_0a3c9858-e3bf-4115-96ba-0b664233cd9c.pkl')] train ../data/cache\\train\\data\\5.h5\n",
      "Processing data chunk 6...\n",
      "G:/Work/DS/mimolm/data/train {'sd_av2_v2_00a0a3e0-1508-45f2-9cf5-e427e1446a33.pkl': 'train_0', 'sd_av2_v2_00a0adb0-6c55-4df6-88cd-6a524f4edb39.pkl': 'train_0', 'sd_av2_v2_00a2e7cc-f700-4a56-9b94-e312b66af424.pkl': 'train_0', 'sd_av2_v2_00a3a9a7-dd09-45fe-ac1e-24580e72ff14.pkl': 'train_0', 'sd_av2_v2_00a3d479-dc7e-4f39-8bc7-0c73c0e2f3a8.pkl': 'train_0', 'sd_av2_v2_00a4b70c-e650-4f2c-99f9-993f31f55f1d.pkl': 'train_0', 'sd_av2_v2_0a00c136-b7f1-4502-be51-55cd108005c7.pkl': 'train_0', 'sd_av2_v2_0a00dc81-63da-4a4f-aabd-24b1584edfe2.pkl': 'train_0', 'sd_av2_v2_0a0a2bb7-c4f4-44cd-958a-9ee15cb34aca.pkl': 'train_0', 'sd_av2_v2_0a0a71c5-2e02-432c-ade6-dff22bc659de.pkl': 'train_0', 'sd_av2_v2_0a0b9607-f495-42c9-a52e-2d7156234597.pkl': 'train_0', 'sd_av2_v2_0a0bdc92-a48a-4c52-a082-9eeeb360a5bd.pkl': 'train_0', 'sd_av2_v2_0a0c3f36-2076-4033-b30a-a908c5c64ea4.pkl': 'train_1', 'sd_av2_v2_0a0c614c-763f-4880-b917-fd07954973f4.pkl': 'train_1', 'sd_av2_v2_0a0c6840-c794-493a-be41-4ef8386a373d.pkl': 'train_1', 'sd_av2_v2_0a0cda83-b3f5-4edd-9352-44a15033a919.pkl': 'train_1', 'sd_av2_v2_0a0d23d6-647f-46a2-b719-e9a777f3e7af.pkl': 'train_1', 'sd_av2_v2_0a0ddf15-f666-4927-8102-a3aecbbf9390.pkl': 'train_1', 'sd_av2_v2_0a0de7d9-5a97-486d-b9e0-155f97ca7d2c.pkl': 'train_1', 'sd_av2_v2_0a0dfcb2-1d3c-4873-9f49-df7a4b1aea36.pkl': 'train_1', 'sd_av2_v2_0a0e17f4-f8ed-41c8-bf2a-3ecd2adab6a6.pkl': 'train_1', 'sd_av2_v2_0a0e3111-4494-4875-9d04-9b7ff7bddcc7.pkl': 'train_1', 'sd_av2_v2_0a0e37ec-042c-4429-9cad-ed8e967d5227.pkl': 'train_1', 'sd_av2_v2_0a0ee99b-3845-4120-a7f4-444184dc2164.pkl': 'train_1', 'sd_av2_v2_0a0f4f1f-d0ac-4aee-b03a-ed21f396bba8.pkl': 'train_2', 'sd_av2_v2_0a0f58b9-eb76-49e9-8b03-abc6dd1ea72d.pkl': 'train_2', 'sd_av2_v2_0a0f8b17-f59e-4411-ac7b-61b79b3a144a.pkl': 'train_2', 'sd_av2_v2_0a1a1fe4-7a85-4ba7-9fe6-21050d83d210.pkl': 'train_2', 'sd_av2_v2_0a1a31f8-70a6-4f60-ac0a-23c337d06bca.pkl': 'train_2', 'sd_av2_v2_0a1b1e27-61a0-4850-88cc-502d10301f95.pkl': 'train_2', 'sd_av2_v2_0a1b1f38-0441-4c65-8e23-c2f8a14ec0dc.pkl': 'train_2', 'sd_av2_v2_0a1b7611-0a77-4114-aa8c-ae30483d7013.pkl': 'train_2', 'sd_av2_v2_0a1bc314-90ce-4dff-a39c-0b20d004e4a5.pkl': 'train_2', 'sd_av2_v2_0a1bf643-3373-4665-9ae0-182e68eb04a4.pkl': 'train_2', 'sd_av2_v2_0a1c11d2-139b-4b91-89b0-8c2b29b95399.pkl': 'train_2', 'sd_av2_v2_0a1c46d6-6486-4cea-aebd-76f4b9831958.pkl': 'train_2', 'sd_av2_v2_0a1c5e99-7844-4381-9516-ccdbb58ca6e0.pkl': 'train_3', 'sd_av2_v2_0a1c8821-67fd-4087-9952-0c7ceb34fd7d.pkl': 'train_3', 'sd_av2_v2_0a1c902e-4c0b-4aed-8b8e-9a22b2e15b01.pkl': 'train_3', 'sd_av2_v2_0a1c90c8-3ecd-4e32-9921-3dc884e0782f.pkl': 'train_3', 'sd_av2_v2_0a1cd4d1-10a2-4841-81a1-e768a586398a.pkl': 'train_3', 'sd_av2_v2_0a1d31f4-feb3-4431-a8d8-32873595cb7f.pkl': 'train_3', 'sd_av2_v2_0a1e3641-84ef-4993-a25c-44670c3c8746.pkl': 'train_3', 'sd_av2_v2_0a1e43bc-6173-4091-89b9-f6ad39818dab.pkl': 'train_3', 'sd_av2_v2_0a1e63d3-01ac-478a-bd01-8e06924431ac.pkl': 'train_3', 'sd_av2_v2_0a1f8d52-da4c-46a0-a7b2-3e839169279d.pkl': 'train_3', 'sd_av2_v2_0a1fd388-e455-456d-86c9-4f0c7bf5fafe.pkl': 'train_3', 'sd_av2_v2_0a2a284b-55a0-410e-a459-05f7519c0f46.pkl': 'train_3', 'sd_av2_v2_0a2aa620-70b7-49ae-9035-ecd507d85ad8.pkl': 'train_4', 'sd_av2_v2_0a2b527d-c9e7-4374-a654-1e8ffebb9a2b.pkl': 'train_4', 'sd_av2_v2_0a2b8a16-183e-42fd-81f4-ee75c697c713.pkl': 'train_4', 'sd_av2_v2_0a2b923b-daad-4820-9f82-98d204a55b62.pkl': 'train_4', 'sd_av2_v2_0a2ba682-25f1-48be-9d98-6741927ea5cb.pkl': 'train_4', 'sd_av2_v2_0a2baa35-a8a9-4fc3-8c6e-c9575625ce61.pkl': 'train_4', 'sd_av2_v2_0a2bc590-df67-4381-b493-197a74e5bdfa.pkl': 'train_4', 'sd_av2_v2_0a2bc7f5-d90d-455e-90f6-30699de88899.pkl': 'train_4', 'sd_av2_v2_0a2bd381-85a5-4746-b22d-1e17c7212b8f.pkl': 'train_4', 'sd_av2_v2_0a2be706-d0e0-49f6-80ab-7b8096f23108.pkl': 'train_4', 'sd_av2_v2_0a2c59c6-5db1-46b8-8a2d-be3721e9a72f.pkl': 'train_4', 'sd_av2_v2_0a2cdc46-f43a-4501-9201-ed97486929ef.pkl': 'train_4', 'sd_av2_v2_0a2d68a0-0790-45de-ab95-3b4b6cd951de.pkl': 'train_5', 'sd_av2_v2_0a2d8c19-1c98-439e-a9ff-a05def405c72.pkl': 'train_5', 'sd_av2_v2_0a2d9376-1c13-4144-9599-7022af3b90eb.pkl': 'train_5', 'sd_av2_v2_0a2deb1a-f8b2-4fbc-aefd-93a533603bff.pkl': 'train_5', 'sd_av2_v2_0a2e2bf0-551f-4180-8f69-a1be0279be33.pkl': 'train_5', 'sd_av2_v2_0a2e7112-c04b-47c4-bebe-c0eea4f66783.pkl': 'train_5', 'sd_av2_v2_0a2e8094-7253-4f3f-bf91-d721d469921b.pkl': 'train_5', 'sd_av2_v2_0a2eaf13-19e8-45b1-96bb-5b4a81e16517.pkl': 'train_5', 'sd_av2_v2_0a2eb63f-7696-44fc-ad1e-1e79d589d4d8.pkl': 'train_5', 'sd_av2_v2_0a2ec212-72e0-4cde-8132-8f2afc7ce2d0.pkl': 'train_5', 'sd_av2_v2_0a2f3cc2-1fe9-4936-82bb-a403d821b398.pkl': 'train_5', 'sd_av2_v2_0a2faa5b-1104-4fba-898c-a9f908e932a3.pkl': 'train_5', 'sd_av2_v2_0a3b127f-ff91-4831-8950-c13079fe9f93.pkl': 'train_6', 'sd_av2_v2_0a3b37c7-1bf4-493c-a1c6-7e9643522b6a.pkl': 'train_6', 'sd_av2_v2_0a3c47fe-7bbc-4f6d-802b-32e45cb13d09.pkl': 'train_6', 'sd_av2_v2_0a3c9858-e3bf-4115-96ba-0b664233cd9c.pkl': 'train_6', 'sd_av2_v2_0a3ce84e-b8b3-4479-a29e-fb4fbb521c1a.pkl': 'train_6', 'sd_av2_v2_0a3d7b48-3607-4519-b82b-c7d6c078670f.pkl': 'train_6', 'sd_av2_v2_0a3d858e-2da6-475b-a0d5-b19a78e89ada.pkl': 'train_6', 'sd_av2_v2_0a3db768-3eb7-49bd-8227-faac3078acd2.pkl': 'train_6', 'sd_av2_v2_0a3df56e-4945-409c-bf30-4a1a9494358e.pkl': 'train_6', 'sd_av2_v2_0a3e1ce1-297c-4dc7-807f-954517bb955e.pkl': 'train_6', 'sd_av2_v2_0a3e8c85-0e74-4e53-874e-11d29d9f09d7.pkl': 'train_6', 'sd_av2_v2_0a3f3430-3507-4c18-aca2-cc8f94220213.pkl': 'train_6', 'sd_av2_v2_0a3f6542-bf9c-4f84-9772-299670497583.pkl': 'train_7', 'sd_av2_v2_0a4a2d71-5fcb-4e47-a6a2-977bf8d0750b.pkl': 'train_7', 'sd_av2_v2_0a4a92f8-bad6-4f08-add1-c725562964f6.pkl': 'train_7', 'sd_av2_v2_0a4aebfa-7829-4ea4-94a2-fc8bdca5cd83.pkl': 'train_7', 'sd_av2_v2_0a4b07cb-2d90-46e2-ad3c-a4192c6bf89e.pkl': 'train_7', 'sd_av2_v2_0a4bc822-144e-4444-be26-9d7ccf7191ad.pkl': 'train_7', 'sd_av2_v2_0a4c2e9d-0508-4aee-92ad-c0aa8ce413fa.pkl': 'train_7', 'sd_av2_v2_0a4cfd88-d521-4d28-a2a0-716f7bf42efc.pkl': 'train_7', 'sd_av2_v2_0a4d016d-97f6-49a8-8faf-84386ed5ba85.pkl': 'train_7', 'sd_av2_v2_0a4d140b-0f2a-4f4c-a646-b5d2bda2ad24.pkl': 'train_7', 'sd_av2_v2_0a4d55a0-bac0-48c0-8715-5d094ebea466.pkl': 'train_7', 'sd_av2_v2_0a4d5d58-8701-4cbf-965f-a8778c8b2500.pkl': 'train_7', 'sd_av2_v2_0a4d8937-7b68-4663-ade4-06cb264d2175.pkl': 'train_7', 'sd_av2_v2_0a4e06a5-bd4c-4336-8ac3-48059a679a3d.pkl': 'train_7', 'sd_av2_v2_0a4e3447-5a6c-43f0-ab1b-f42a0b092e2b.pkl': 'train_7', 'sd_av2_v2_0a4e8039-8b1d-4d90-b746-d1f560484682.pkl': 'train_7'} [np.str_('sd_av2_v2_0a3ce84e-b8b3-4479-a29e-fb4fbb521c1a.pkl'), np.str_('sd_av2_v2_0a3d7b48-3607-4519-b82b-c7d6c078670f.pkl'), np.str_('sd_av2_v2_0a3d858e-2da6-475b-a0d5-b19a78e89ada.pkl'), np.str_('sd_av2_v2_0a3db768-3eb7-49bd-8227-faac3078acd2.pkl'), np.str_('sd_av2_v2_0a3df56e-4945-409c-bf30-4a1a9494358e.pkl'), np.str_('sd_av2_v2_0a3e1ce1-297c-4dc7-807f-954517bb955e.pkl'), np.str_('sd_av2_v2_0a3e8c85-0e74-4e53-874e-11d29d9f09d7.pkl'), np.str_('sd_av2_v2_0a3f3430-3507-4c18-aca2-cc8f94220213.pkl'), np.str_('sd_av2_v2_0a3f6542-bf9c-4f84-9772-299670497583.pkl'), np.str_('sd_av2_v2_0a4a2d71-5fcb-4e47-a6a2-977bf8d0750b.pkl'), np.str_('sd_av2_v2_0a4a92f8-bad6-4f08-add1-c725562964f6.pkl'), np.str_('sd_av2_v2_0a4aebfa-7829-4ea4-94a2-fc8bdca5cd83.pkl')] train ../data/cache\\train\\data\\6.h5\n",
      "Processing data chunk 7...\n",
      "G:/Work/DS/mimolm/data/train {'sd_av2_v2_00a0a3e0-1508-45f2-9cf5-e427e1446a33.pkl': 'train_0', 'sd_av2_v2_00a0adb0-6c55-4df6-88cd-6a524f4edb39.pkl': 'train_0', 'sd_av2_v2_00a2e7cc-f700-4a56-9b94-e312b66af424.pkl': 'train_0', 'sd_av2_v2_00a3a9a7-dd09-45fe-ac1e-24580e72ff14.pkl': 'train_0', 'sd_av2_v2_00a3d479-dc7e-4f39-8bc7-0c73c0e2f3a8.pkl': 'train_0', 'sd_av2_v2_00a4b70c-e650-4f2c-99f9-993f31f55f1d.pkl': 'train_0', 'sd_av2_v2_0a00c136-b7f1-4502-be51-55cd108005c7.pkl': 'train_0', 'sd_av2_v2_0a00dc81-63da-4a4f-aabd-24b1584edfe2.pkl': 'train_0', 'sd_av2_v2_0a0a2bb7-c4f4-44cd-958a-9ee15cb34aca.pkl': 'train_0', 'sd_av2_v2_0a0a71c5-2e02-432c-ade6-dff22bc659de.pkl': 'train_0', 'sd_av2_v2_0a0b9607-f495-42c9-a52e-2d7156234597.pkl': 'train_0', 'sd_av2_v2_0a0bdc92-a48a-4c52-a082-9eeeb360a5bd.pkl': 'train_0', 'sd_av2_v2_0a0c3f36-2076-4033-b30a-a908c5c64ea4.pkl': 'train_1', 'sd_av2_v2_0a0c614c-763f-4880-b917-fd07954973f4.pkl': 'train_1', 'sd_av2_v2_0a0c6840-c794-493a-be41-4ef8386a373d.pkl': 'train_1', 'sd_av2_v2_0a0cda83-b3f5-4edd-9352-44a15033a919.pkl': 'train_1', 'sd_av2_v2_0a0d23d6-647f-46a2-b719-e9a777f3e7af.pkl': 'train_1', 'sd_av2_v2_0a0ddf15-f666-4927-8102-a3aecbbf9390.pkl': 'train_1', 'sd_av2_v2_0a0de7d9-5a97-486d-b9e0-155f97ca7d2c.pkl': 'train_1', 'sd_av2_v2_0a0dfcb2-1d3c-4873-9f49-df7a4b1aea36.pkl': 'train_1', 'sd_av2_v2_0a0e17f4-f8ed-41c8-bf2a-3ecd2adab6a6.pkl': 'train_1', 'sd_av2_v2_0a0e3111-4494-4875-9d04-9b7ff7bddcc7.pkl': 'train_1', 'sd_av2_v2_0a0e37ec-042c-4429-9cad-ed8e967d5227.pkl': 'train_1', 'sd_av2_v2_0a0ee99b-3845-4120-a7f4-444184dc2164.pkl': 'train_1', 'sd_av2_v2_0a0f4f1f-d0ac-4aee-b03a-ed21f396bba8.pkl': 'train_2', 'sd_av2_v2_0a0f58b9-eb76-49e9-8b03-abc6dd1ea72d.pkl': 'train_2', 'sd_av2_v2_0a0f8b17-f59e-4411-ac7b-61b79b3a144a.pkl': 'train_2', 'sd_av2_v2_0a1a1fe4-7a85-4ba7-9fe6-21050d83d210.pkl': 'train_2', 'sd_av2_v2_0a1a31f8-70a6-4f60-ac0a-23c337d06bca.pkl': 'train_2', 'sd_av2_v2_0a1b1e27-61a0-4850-88cc-502d10301f95.pkl': 'train_2', 'sd_av2_v2_0a1b1f38-0441-4c65-8e23-c2f8a14ec0dc.pkl': 'train_2', 'sd_av2_v2_0a1b7611-0a77-4114-aa8c-ae30483d7013.pkl': 'train_2', 'sd_av2_v2_0a1bc314-90ce-4dff-a39c-0b20d004e4a5.pkl': 'train_2', 'sd_av2_v2_0a1bf643-3373-4665-9ae0-182e68eb04a4.pkl': 'train_2', 'sd_av2_v2_0a1c11d2-139b-4b91-89b0-8c2b29b95399.pkl': 'train_2', 'sd_av2_v2_0a1c46d6-6486-4cea-aebd-76f4b9831958.pkl': 'train_2', 'sd_av2_v2_0a1c5e99-7844-4381-9516-ccdbb58ca6e0.pkl': 'train_3', 'sd_av2_v2_0a1c8821-67fd-4087-9952-0c7ceb34fd7d.pkl': 'train_3', 'sd_av2_v2_0a1c902e-4c0b-4aed-8b8e-9a22b2e15b01.pkl': 'train_3', 'sd_av2_v2_0a1c90c8-3ecd-4e32-9921-3dc884e0782f.pkl': 'train_3', 'sd_av2_v2_0a1cd4d1-10a2-4841-81a1-e768a586398a.pkl': 'train_3', 'sd_av2_v2_0a1d31f4-feb3-4431-a8d8-32873595cb7f.pkl': 'train_3', 'sd_av2_v2_0a1e3641-84ef-4993-a25c-44670c3c8746.pkl': 'train_3', 'sd_av2_v2_0a1e43bc-6173-4091-89b9-f6ad39818dab.pkl': 'train_3', 'sd_av2_v2_0a1e63d3-01ac-478a-bd01-8e06924431ac.pkl': 'train_3', 'sd_av2_v2_0a1f8d52-da4c-46a0-a7b2-3e839169279d.pkl': 'train_3', 'sd_av2_v2_0a1fd388-e455-456d-86c9-4f0c7bf5fafe.pkl': 'train_3', 'sd_av2_v2_0a2a284b-55a0-410e-a459-05f7519c0f46.pkl': 'train_3', 'sd_av2_v2_0a2aa620-70b7-49ae-9035-ecd507d85ad8.pkl': 'train_4', 'sd_av2_v2_0a2b527d-c9e7-4374-a654-1e8ffebb9a2b.pkl': 'train_4', 'sd_av2_v2_0a2b8a16-183e-42fd-81f4-ee75c697c713.pkl': 'train_4', 'sd_av2_v2_0a2b923b-daad-4820-9f82-98d204a55b62.pkl': 'train_4', 'sd_av2_v2_0a2ba682-25f1-48be-9d98-6741927ea5cb.pkl': 'train_4', 'sd_av2_v2_0a2baa35-a8a9-4fc3-8c6e-c9575625ce61.pkl': 'train_4', 'sd_av2_v2_0a2bc590-df67-4381-b493-197a74e5bdfa.pkl': 'train_4', 'sd_av2_v2_0a2bc7f5-d90d-455e-90f6-30699de88899.pkl': 'train_4', 'sd_av2_v2_0a2bd381-85a5-4746-b22d-1e17c7212b8f.pkl': 'train_4', 'sd_av2_v2_0a2be706-d0e0-49f6-80ab-7b8096f23108.pkl': 'train_4', 'sd_av2_v2_0a2c59c6-5db1-46b8-8a2d-be3721e9a72f.pkl': 'train_4', 'sd_av2_v2_0a2cdc46-f43a-4501-9201-ed97486929ef.pkl': 'train_4', 'sd_av2_v2_0a2d68a0-0790-45de-ab95-3b4b6cd951de.pkl': 'train_5', 'sd_av2_v2_0a2d8c19-1c98-439e-a9ff-a05def405c72.pkl': 'train_5', 'sd_av2_v2_0a2d9376-1c13-4144-9599-7022af3b90eb.pkl': 'train_5', 'sd_av2_v2_0a2deb1a-f8b2-4fbc-aefd-93a533603bff.pkl': 'train_5', 'sd_av2_v2_0a2e2bf0-551f-4180-8f69-a1be0279be33.pkl': 'train_5', 'sd_av2_v2_0a2e7112-c04b-47c4-bebe-c0eea4f66783.pkl': 'train_5', 'sd_av2_v2_0a2e8094-7253-4f3f-bf91-d721d469921b.pkl': 'train_5', 'sd_av2_v2_0a2eaf13-19e8-45b1-96bb-5b4a81e16517.pkl': 'train_5', 'sd_av2_v2_0a2eb63f-7696-44fc-ad1e-1e79d589d4d8.pkl': 'train_5', 'sd_av2_v2_0a2ec212-72e0-4cde-8132-8f2afc7ce2d0.pkl': 'train_5', 'sd_av2_v2_0a2f3cc2-1fe9-4936-82bb-a403d821b398.pkl': 'train_5', 'sd_av2_v2_0a2faa5b-1104-4fba-898c-a9f908e932a3.pkl': 'train_5', 'sd_av2_v2_0a3b127f-ff91-4831-8950-c13079fe9f93.pkl': 'train_6', 'sd_av2_v2_0a3b37c7-1bf4-493c-a1c6-7e9643522b6a.pkl': 'train_6', 'sd_av2_v2_0a3c47fe-7bbc-4f6d-802b-32e45cb13d09.pkl': 'train_6', 'sd_av2_v2_0a3c9858-e3bf-4115-96ba-0b664233cd9c.pkl': 'train_6', 'sd_av2_v2_0a3ce84e-b8b3-4479-a29e-fb4fbb521c1a.pkl': 'train_6', 'sd_av2_v2_0a3d7b48-3607-4519-b82b-c7d6c078670f.pkl': 'train_6', 'sd_av2_v2_0a3d858e-2da6-475b-a0d5-b19a78e89ada.pkl': 'train_6', 'sd_av2_v2_0a3db768-3eb7-49bd-8227-faac3078acd2.pkl': 'train_6', 'sd_av2_v2_0a3df56e-4945-409c-bf30-4a1a9494358e.pkl': 'train_6', 'sd_av2_v2_0a3e1ce1-297c-4dc7-807f-954517bb955e.pkl': 'train_6', 'sd_av2_v2_0a3e8c85-0e74-4e53-874e-11d29d9f09d7.pkl': 'train_6', 'sd_av2_v2_0a3f3430-3507-4c18-aca2-cc8f94220213.pkl': 'train_6', 'sd_av2_v2_0a3f6542-bf9c-4f84-9772-299670497583.pkl': 'train_7', 'sd_av2_v2_0a4a2d71-5fcb-4e47-a6a2-977bf8d0750b.pkl': 'train_7', 'sd_av2_v2_0a4a92f8-bad6-4f08-add1-c725562964f6.pkl': 'train_7', 'sd_av2_v2_0a4aebfa-7829-4ea4-94a2-fc8bdca5cd83.pkl': 'train_7', 'sd_av2_v2_0a4b07cb-2d90-46e2-ad3c-a4192c6bf89e.pkl': 'train_7', 'sd_av2_v2_0a4bc822-144e-4444-be26-9d7ccf7191ad.pkl': 'train_7', 'sd_av2_v2_0a4c2e9d-0508-4aee-92ad-c0aa8ce413fa.pkl': 'train_7', 'sd_av2_v2_0a4cfd88-d521-4d28-a2a0-716f7bf42efc.pkl': 'train_7', 'sd_av2_v2_0a4d016d-97f6-49a8-8faf-84386ed5ba85.pkl': 'train_7', 'sd_av2_v2_0a4d140b-0f2a-4f4c-a646-b5d2bda2ad24.pkl': 'train_7', 'sd_av2_v2_0a4d55a0-bac0-48c0-8715-5d094ebea466.pkl': 'train_7', 'sd_av2_v2_0a4d5d58-8701-4cbf-965f-a8778c8b2500.pkl': 'train_7', 'sd_av2_v2_0a4d8937-7b68-4663-ade4-06cb264d2175.pkl': 'train_7', 'sd_av2_v2_0a4e06a5-bd4c-4336-8ac3-48059a679a3d.pkl': 'train_7', 'sd_av2_v2_0a4e3447-5a6c-43f0-ab1b-f42a0b092e2b.pkl': 'train_7', 'sd_av2_v2_0a4e8039-8b1d-4d90-b746-d1f560484682.pkl': 'train_7'} [np.str_('sd_av2_v2_0a4b07cb-2d90-46e2-ad3c-a4192c6bf89e.pkl'), np.str_('sd_av2_v2_0a4bc822-144e-4444-be26-9d7ccf7191ad.pkl'), np.str_('sd_av2_v2_0a4c2e9d-0508-4aee-92ad-c0aa8ce413fa.pkl'), np.str_('sd_av2_v2_0a4cfd88-d521-4d28-a2a0-716f7bf42efc.pkl'), np.str_('sd_av2_v2_0a4d016d-97f6-49a8-8faf-84386ed5ba85.pkl'), np.str_('sd_av2_v2_0a4d140b-0f2a-4f4c-a646-b5d2bda2ad24.pkl'), np.str_('sd_av2_v2_0a4d55a0-bac0-48c0-8715-5d094ebea466.pkl'), np.str_('sd_av2_v2_0a4d5d58-8701-4cbf-965f-a8778c8b2500.pkl'), np.str_('sd_av2_v2_0a4d8937-7b68-4663-ade4-06cb264d2175.pkl'), np.str_('sd_av2_v2_0a4e06a5-bd4c-4336-8ac3-48059a679a3d.pkl'), np.str_('sd_av2_v2_0a4e3447-5a6c-43f0-ab1b-f42a0b092e2b.pkl'), np.str_('sd_av2_v2_0a4e8039-8b1d-4d90-b746-d1f560484682.pkl')] train ../data/cache\\train\\data\\7.h5\n",
      "Loaded 100 samples from G:/Work/DS/mimolm/data/train\n",
      "['train-7-8-0', 'train-2-2-0', 'train-0-6-0', 'train-3-6-0', 'train-7-4-0', 'train-4-10-0', 'train-5-10-0', 'train-3-3-0', 'train-1-3-0', 'train-0-5-0', 'train-7-5-0', 'train-2-4-0', 'train-4-9-0', 'train-7-3-0', 'train-7-1-0', 'train-0-2-0', 'train-6-8-0', 'train-5-8-0', 'train-0-4-0', 'train-2-11-0', 'train-4-5-0', 'train-0-3-0', 'train-1-9-0', 'train-5-2-0', 'train-7-10-0', 'train-0-10-0', 'train-1-11-0', 'train-3-0-0', 'train-6-9-0', 'train-5-9-0', 'train-6-2-0', 'train-5-5-0', 'train-0-1-0', 'train-7-9-0', 'train-7-6-0', 'train-3-11-0', 'train-3-5-0', 'train-2-6-0', 'train-5-1-0', 'train-4-1-0', 'train-7-11-0', 'train-5-0-0', 'train-7-7-0', 'train-6-1-0', 'train-2-10-0', 'train-2-3-0', 'train-6-10-0', 'train-3-2-0', 'train-1-1-0', 'train-6-0-0', 'train-2-8-0', 'train-4-8-0', 'train-7-0-0', 'train-6-11-0', 'train-1-8-0', 'train-2-9-0', 'train-6-7-0', 'train-4-2-0', 'train-3-8-0', 'train-4-3-0', 'train-3-10-0', 'train-0-0-0', 'train-3-1-0', 'train-5-4-0', 'train-1-4-0', 'train-4-7-0', 'train-0-9-0', 'train-2-5-0', 'train-0-8-0', 'train-4-6-0', 'train-5-6-0', 'train-6-6-0', 'train-3-7-0', 'train-0-7-0', 'train-4-11-0', 'train-2-7-0', 'train-2-1-0', 'train-0-12-0', 'train-5-7-0', 'train-5-3-0', 'train-3-9-0', 'train-1-6-0', 'train-2-12-0', 'train-6-5-0', 'train-4-4-0', 'train-1-2-0', 'train-3-4-0', 'train-6-4-0', 'train-1-12-0', 'train-7-2-0', 'train-1-0-0', 'train-1-7-0', 'train-0-11-0', 'train-2-0-0', 'train-1-5-0', 'train-3-12-0', 'train-5-11-0', 'train-4-0-0', 'train-6-3-0', 'train-1-10-0']\n",
      "Data loaded\n"
     ]
    }
   ],
   "source": [
    "from src.external.Unitraj.unitraj.datasets.base_dataset import BaseDataset\n",
    "from omegaconf import OmegaConf\n",
    "\n",
    "config = OmegaConf.load(CONFIG_DIR / \"data.yml\")\n",
    "dataset = BaseDataset(config=config, is_validation=False)"
   ]
  },
  {
   "cell_type": "code",
   "execution_count": 5,
   "metadata": {},
   "outputs": [],
   "source": [
    "from torch.utils.data import DataLoader\n",
    "\n",
    "train_loader = DataLoader(\n",
    "    dataset=dataset, batch_size=3, num_workers=1, drop_last=False,\n",
    "    collate_fn=dataset.collate_fn)"
   ]
  },
  {
   "cell_type": "code",
   "execution_count": 7,
   "metadata": {},
   "outputs": [
    {
     "name": "stdout",
     "output_type": "stream",
     "text": [
      "dict_keys(['batch_size', 'input_dict', 'batch_sample_count'])\n"
     ]
    }
   ],
   "source": [
    "b = None\n",
    "for batch in train_loader:\n",
    "    print(batch.keys())\n",
    "    b = batch\n",
    "    break"
   ]
  },
  {
   "cell_type": "code",
   "execution_count": 13,
   "metadata": {},
   "outputs": [
    {
     "data": {
      "text/plain": [
       "dict_keys(['center_gt_final_valid_idx', 'center_gt_trajs', 'center_gt_trajs_mask', 'center_gt_trajs_src', 'center_objects_id', 'center_objects_type', 'center_objects_world', 'dataset_name', 'kalman_difficulty', 'map_center', 'map_polylines', 'map_polylines_center', 'map_polylines_mask', 'obj_trajs', 'obj_trajs_future_mask', 'obj_trajs_future_state', 'obj_trajs_last_pos', 'obj_trajs_mask', 'obj_trajs_pos', 'scenario_id', 'track_index_to_predict', 'trajectory_type'])"
      ]
     },
     "execution_count": 13,
     "metadata": {},
     "output_type": "execute_result"
    }
   ],
   "source": [
    "b['input_dict'].keys()"
   ]
  },
  {
   "cell_type": "code",
   "execution_count": null,
   "metadata": {},
   "outputs": [],
   "source": []
  }
 ],
 "metadata": {
  "kernelspec": {
   "display_name": "mimolm-kv68Yv56",
   "language": "python",
   "name": "python3"
  },
  "language_info": {
   "codemirror_mode": {
    "name": "ipython",
    "version": 3
   },
   "file_extension": ".py",
   "mimetype": "text/x-python",
   "name": "python",
   "nbconvert_exporter": "python",
   "pygments_lexer": "ipython3",
   "version": "3.10.4"
  }
 },
 "nbformat": 4,
 "nbformat_minor": 2
}
