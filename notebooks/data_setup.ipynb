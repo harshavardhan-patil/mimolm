{
 "cells": [
  {
   "cell_type": "code",
   "execution_count": 1,
   "metadata": {},
   "outputs": [
    {
     "name": "stderr",
     "output_type": "stream",
     "text": [
      "\u001b[32m2025-01-31 18:23:52.627\u001b[0m | \u001b[1mINFO    \u001b[0m | \u001b[36msrc.config\u001b[0m:\u001b[36m<module>\u001b[0m:\u001b[36m11\u001b[0m - \u001b[1mPROJ_ROOT path is: G:\\Work\\DS\\mimolm\u001b[0m\n"
     ]
    },
    {
     "name": "stdout",
     "output_type": "stream",
     "text": [
      "g:\\Work\\DS\\mimolm\\notebooks\n"
     ]
    }
   ],
   "source": [
    "import sys\n",
    "from pathlib import Path\n",
    "from os.path  import join\n",
    "from src.config import DATA_DIR, CONFIG_DIR\n",
    "from src.external.hptr.src.data_modules.agent_centric import AgentCentricPreProcessing\n",
    "from src.external.hptr.src.data_modules.ac_global import AgentCentricGlobal\n",
    "from omegaconf import OmegaConf\n",
    "\n",
    "# Add the project root to sys.path\n",
    "project_root = Path().resolve().parent  # Adjust as needed to point to the root folder\n",
    "sys.path.append(str(project_root))\n",
    "\n",
    "print(Path.cwd())  # Check if the path is added"
   ]
  },
  {
   "cell_type": "code",
   "execution_count": null,
   "metadata": {},
   "outputs": [],
   "source": [
    "ARGO_SCENE_DIR = DATA_DIR / \"raw\" / \"temp\"\n",
    "NUM_SCENARIOS = 1\n",
    "\n",
    "all_scenario_files = sorted(ARGO_SCENE_DIR.rglob(\"*.parquet\"))\n",
    "scenario_file_list = (\n",
    "    all_scenario_files[:NUM_SCENARIOS]\n",
    ")\n",
    "\n",
    "from av2.datasets.motion_forecasting import scenario_serialization\n",
    "from av2.map.map_api import ArgoverseStaticMap\n",
    "\n",
    "scenario_path = scenario_file_list[0]\n",
    "scenario_id = scenario_path.stem.split(\"_\")[-1]\n",
    "static_map_path = (\n",
    "    scenario_path.parents[0] / f\"log_map_archive_{scenario_id}.json\"\n",
    ")\n",
    "\n",
    "scenario = scenario_serialization.load_argoverse_scenario_parquet(scenario_path)\n",
    "static_map = ArgoverseStaticMap.from_json(static_map_path)"
   ]
  },
  {
   "cell_type": "code",
   "execution_count": 24,
   "metadata": {},
   "outputs": [],
   "source": [
    "from av2.datasets.motion_forecasting.viz.scenario_visualization import visualize_scenario\n",
    "\n",
    "visualize_scenario(scenario, static_map, DATA_DIR / \"processed\" / \"argoext.mp4\")"
   ]
  },
  {
   "cell_type": "code",
   "execution_count": null,
   "metadata": {},
   "outputs": [],
   "source": [
    "import h5py\n",
    "\n",
    "with h5py.File(DATA_DIR / \"interim\" / \"train.h5\", \"r\", libver=\"latest\", swmr=True) as hf:\n",
    "    print(hf['11']['agent'].keys())"
   ]
  },
  {
   "cell_type": "code",
   "execution_count": 2,
   "metadata": {},
   "outputs": [
    {
     "name": "stderr",
     "output_type": "stream",
     "text": [
      "c:\\Users\\Harshavardhan Patil\\.virtualenvs\\mimolm-kv68Yv56\\lib\\site-packages\\tqdm\\auto.py:21: TqdmWarning: IProgress not found. Please update jupyter and ipywidgets. See https://ipywidgets.readthedocs.io/en/stable/user_install.html\n",
      "  from .autonotebook import tqdm as notebook_tqdm\n"
     ]
    }
   ],
   "source": [
    "from src.external.hptr.src.data_modules.data_h5_av2 import DataH5av2\n",
    "\n",
    "data_module = DataH5av2(DATA_DIR / \"interim\" / \"train\")\n",
    "data_module.setup(stage=\"fit\")\n",
    "dl = data_module.train_dataloader()"
   ]
  },
  {
   "cell_type": "code",
   "execution_count": 4,
   "metadata": {},
   "outputs": [],
   "source": [
    "from torch import nn\n",
    "from collections import OrderedDict\n",
    "episode = None\n",
    "preprocessor = nn.Sequential(OrderedDict([\n",
    "('pre_1', AgentCentricPreProcessing(sampling_rate=5,\n",
    "                        data_size=data_module.tensor_size_train, \n",
    "                        time_step_current=49, \n",
    "                        n_target=8,\n",
    "                        n_other=48,\n",
    "                        n_map=512,\n",
    "                        mask_invalid=False)),\n",
    "('pre_2', AgentCentricGlobal(sampling_rate=5,data_size=data_module.tensor_size_train,\n",
    "                time_step_current=49,\n",
    "                dropout_p_history=0.15, \n",
    "                add_ohe=True,\n",
    "                pl_aggr=False,\n",
    "                pose_pe= {\"agent\": \"xy_dir\",\n",
    "                        \"map\": \"mpa_pl\"}))\n",
    "                        ]))"
   ]
  },
  {
   "cell_type": "code",
   "execution_count": 5,
   "metadata": {},
   "outputs": [],
   "source": [
    "ep = None\n",
    "\n",
    "for batch in dl:\n",
    "    ep = preprocessor(batch)\n",
    "    break"
   ]
  },
  {
   "cell_type": "code",
   "execution_count": 7,
   "metadata": {},
   "outputs": [
    {
     "data": {
      "text/plain": [
       "torch.Size([2, 8, 25])"
      ]
     },
     "execution_count": 7,
     "metadata": {},
     "output_type": "execute_result"
    }
   ],
   "source": [
    "ep['input/target_valid'].shape"
   ]
  },
  {
   "cell_type": "code",
   "execution_count": 9,
   "metadata": {},
   "outputs": [
    {
     "name": "stdout",
     "output_type": "stream",
     "text": [
      "dict_keys(['episode_idx', 'agent/valid', 'agent/pos', 'agent/vel', 'agent/spd', 'agent/acc', 'agent/yaw_bbox', 'agent/yaw_rate', 'agent/type', 'agent/cmd', 'agent/role', 'agent/size', 'agent/goal', 'agent/dest', 'map/valid', 'map/type', 'map/pos', 'map/dir', 'map/boundary', 'ref/idx', 'ref/idx_n', 'ref/pos', 'ref/rot', 'ref/type', 'ref/role', 'ac/target_valid', 'ac/target_pos', 'ac/target_vel', 'ac/target_spd', 'ac/target_acc', 'ac/target_yaw_bbox', 'ac/target_yaw_rate', 'ac/target_type', 'ac/target_role', 'ac/target_size', 'gt/valid', 'gt/spd', 'gt/pos', 'gt/vel', 'gt/yaw_bbox', 'gt/cmd', 'ac/other_valid', 'ac/other_spd', 'ac/other_acc', 'ac/other_yaw_rate', 'ac/other_pos', 'ac/other_vel', 'ac/other_yaw_bbox', 'ac/other_type', 'ac/other_role', 'ac/other_size', 'ac/map_valid', 'ac/map_type', 'ac/map_pos', 'ac/map_dir', 'input/target_type', 'input/target_valid', 'input/other_valid', 'input/map_valid', 'input/target_attr', 'input/other_attr', 'input/map_attr'])\n"
     ]
    }
   ],
   "source": [
    "print(episode.keys())"
   ]
  },
  {
   "cell_type": "code",
   "execution_count": 1,
   "metadata": {},
   "outputs": [
    {
     "name": "stderr",
     "output_type": "stream",
     "text": [
      "\u001b[32m2025-01-30 20:19:04.005\u001b[0m | \u001b[1mINFO    \u001b[0m | \u001b[36msrc.config\u001b[0m:\u001b[36m<module>\u001b[0m:\u001b[36m11\u001b[0m - \u001b[1mPROJ_ROOT path is: G:\\Work\\DS\\mimolm\u001b[0m\n",
      "  0%|          | 0/1000 [00:00<?, ?it/s]\n"
     ]
    },
    {
     "ename": "ValueError",
     "evalue": "setting an array element with a sequence. The requested array has an inhomogeneous shape after 1 dimensions. The detected shape was (20,) + inhomogeneous part.",
     "output_type": "error",
     "traceback": [
      "\u001b[1;31m---------------------------------------------------------------------------\u001b[0m",
      "\u001b[1;31mValueError\u001b[0m                                Traceback (most recent call last)",
      "File \u001b[1;32mG:\\Work\\DS\\mimolm\\src\\external\\hptr\\src\\pack_h5_av2.py:377\u001b[0m\n\u001b[0;32m    373\u001b[0m     \u001b[38;5;28mprint\u001b[39m(\u001b[38;5;124mf\u001b[39m\u001b[38;5;124m\"\u001b[39m\u001b[38;5;124mn_agent_sim: \u001b[39m\u001b[38;5;132;01m{\u001b[39;00mn_agent_sim\u001b[38;5;132;01m}\u001b[39;00m\u001b[38;5;124m, n_agent_no_sim: \u001b[39m\u001b[38;5;132;01m{\u001b[39;00mn_agent_no_sim\u001b[38;5;132;01m}\u001b[39;00m\u001b[38;5;124m\"\u001b[39m)\n\u001b[0;32m    376\u001b[0m \u001b[38;5;28;01mif\u001b[39;00m \u001b[38;5;18m__name__\u001b[39m \u001b[38;5;241m==\u001b[39m \u001b[38;5;124m\"\u001b[39m\u001b[38;5;124m__main__\u001b[39m\u001b[38;5;124m\"\u001b[39m:\n\u001b[1;32m--> 377\u001b[0m     \u001b[43mmain\u001b[49m\u001b[43m(\u001b[49m\u001b[43m)\u001b[49m\n",
      "File \u001b[1;32mG:\\Work\\DS\\mimolm\\src\\external\\hptr\\src\\pack_h5_av2.py:367\u001b[0m, in \u001b[0;36mmain\u001b[1;34m()\u001b[0m\n\u001b[0;32m    357\u001b[0m \u001b[38;5;66;03m# hf_episode[0] = scenario_folder.name\u001b[39;00m\n\u001b[0;32m    358\u001b[0m \u001b[38;5;66;03m# hf_episode[1] = scenario_center\u001b[39;00m\n\u001b[0;32m    359\u001b[0m \u001b[38;5;66;03m# hf_episode[2] = scenario_yaw\u001b[39;00m\n\u001b[1;32m   (...)\u001b[0m\n\u001b[0;32m    364\u001b[0m \n\u001b[0;32m    365\u001b[0m \u001b[38;5;66;03m#hf[i] = hf_episode\u001b[39;00m\n\u001b[0;32m    366\u001b[0m \u001b[38;5;28;01mwith\u001b[39;00m \u001b[38;5;28mopen\u001b[39m(\u001b[38;5;124mf\u001b[39m\u001b[38;5;124m'\u001b[39m\u001b[38;5;132;01m{\u001b[39;00mscenario_folder\u001b[38;5;241m.\u001b[39mname\u001b[38;5;132;01m}\u001b[39;00m\u001b[38;5;124m.npy\u001b[39m\u001b[38;5;124m'\u001b[39m, \u001b[38;5;124m'\u001b[39m\u001b[38;5;124mwb\u001b[39m\u001b[38;5;124m'\u001b[39m) \u001b[38;5;28;01mas\u001b[39;00m f:\n\u001b[1;32m--> 367\u001b[0m     hf \u001b[38;5;241m=\u001b[39m \u001b[43mnp\u001b[49m\u001b[38;5;241;43m.\u001b[39;49m\u001b[43marray\u001b[49m\u001b[43m(\u001b[49m\u001b[43m[\u001b[49m\u001b[43mepisode_reduced\u001b[49m\u001b[43m[\u001b[49m\u001b[43mkey\u001b[49m\u001b[43m]\u001b[49m\u001b[38;5;241;43m.\u001b[39;49m\u001b[43mastype\u001b[49m\u001b[43m(\u001b[49m\u001b[38;5;28;43mint\u001b[39;49m\u001b[43m)\u001b[49m\u001b[43m \u001b[49m\u001b[38;5;28;43;01mfor\u001b[39;49;00m\u001b[43m \u001b[49m\u001b[43mkey\u001b[49m\u001b[43m \u001b[49m\u001b[38;5;129;43;01min\u001b[39;49;00m\u001b[43m \u001b[49m\u001b[43mattr_keys\u001b[49m\u001b[43m]\u001b[49m\u001b[43m)\u001b[49m\n\u001b[0;32m    368\u001b[0m     np\u001b[38;5;241m.\u001b[39msave(file\u001b[38;5;241m=\u001b[39mf, arr\u001b[38;5;241m=\u001b[39mhf)\n\u001b[0;32m    370\u001b[0m \u001b[38;5;28;01mif\u001b[39;00m i \u001b[38;5;241m==\u001b[39m \u001b[38;5;241m99\u001b[39m:\n",
      "\u001b[1;31mValueError\u001b[0m: setting an array element with a sequence. The requested array has an inhomogeneous shape after 1 dimensions. The detected shape was (20,) + inhomogeneous part."
     ]
    },
    {
     "ename": "ValueError",
     "evalue": "setting an array element with a sequence. The requested array has an inhomogeneous shape after 1 dimensions. The detected shape was (20,) + inhomogeneous part.",
     "output_type": "error",
     "traceback": [
      "\u001b[1;31m---------------------------------------------------------------------------\u001b[0m",
      "\u001b[1;31mValueError\u001b[0m                                Traceback (most recent call last)",
      "File \u001b[1;32mc:\\Users\\Harshavardhan Patil\\.virtualenvs\\mimolm-kv68Yv56\\lib\\site-packages\\IPython\\utils\\py3compat.py:55\u001b[0m, in \u001b[0;36mexecfile\u001b[1;34m(fname, glob, loc, compiler)\u001b[0m\n\u001b[0;32m     53\u001b[0m \u001b[38;5;28;01mwith\u001b[39;00m \u001b[38;5;28mopen\u001b[39m(fname, \u001b[38;5;124m\"\u001b[39m\u001b[38;5;124mrb\u001b[39m\u001b[38;5;124m\"\u001b[39m) \u001b[38;5;28;01mas\u001b[39;00m f:\n\u001b[0;32m     54\u001b[0m     compiler \u001b[38;5;241m=\u001b[39m compiler \u001b[38;5;129;01mor\u001b[39;00m \u001b[38;5;28mcompile\u001b[39m\n\u001b[1;32m---> 55\u001b[0m     \u001b[43mexec\u001b[49m\u001b[43m(\u001b[49m\u001b[43mcompiler\u001b[49m\u001b[43m(\u001b[49m\u001b[43mf\u001b[49m\u001b[38;5;241;43m.\u001b[39;49m\u001b[43mread\u001b[49m\u001b[43m(\u001b[49m\u001b[43m)\u001b[49m\u001b[43m,\u001b[49m\u001b[43m \u001b[49m\u001b[43mfname\u001b[49m\u001b[43m,\u001b[49m\u001b[43m \u001b[49m\u001b[38;5;124;43m\"\u001b[39;49m\u001b[38;5;124;43mexec\u001b[39;49m\u001b[38;5;124;43m\"\u001b[39;49m\u001b[43m)\u001b[49m\u001b[43m,\u001b[49m\u001b[43m \u001b[49m\u001b[43mglob\u001b[49m\u001b[43m,\u001b[49m\u001b[43m \u001b[49m\u001b[43mloc\u001b[49m\u001b[43m)\u001b[49m\n",
      "File \u001b[1;32mG:\\Work\\DS\\mimolm\\src\\external\\hptr\\src\\pack_h5_av2.py:377\u001b[0m\n\u001b[0;32m    373\u001b[0m     \u001b[38;5;28mprint\u001b[39m(\u001b[38;5;124mf\u001b[39m\u001b[38;5;124m\"\u001b[39m\u001b[38;5;124mn_agent_sim: \u001b[39m\u001b[38;5;132;01m{\u001b[39;00mn_agent_sim\u001b[38;5;132;01m}\u001b[39;00m\u001b[38;5;124m, n_agent_no_sim: \u001b[39m\u001b[38;5;132;01m{\u001b[39;00mn_agent_no_sim\u001b[38;5;132;01m}\u001b[39;00m\u001b[38;5;124m\"\u001b[39m)\n\u001b[0;32m    376\u001b[0m \u001b[38;5;28;01mif\u001b[39;00m \u001b[38;5;18m__name__\u001b[39m \u001b[38;5;241m==\u001b[39m \u001b[38;5;124m\"\u001b[39m\u001b[38;5;124m__main__\u001b[39m\u001b[38;5;124m\"\u001b[39m:\n\u001b[1;32m--> 377\u001b[0m     \u001b[43mmain\u001b[49m\u001b[43m(\u001b[49m\u001b[43m)\u001b[49m\n",
      "File \u001b[1;32mG:\\Work\\DS\\mimolm\\src\\external\\hptr\\src\\pack_h5_av2.py:367\u001b[0m, in \u001b[0;36mmain\u001b[1;34m()\u001b[0m\n\u001b[0;32m    357\u001b[0m \u001b[38;5;66;03m# hf_episode[0] = scenario_folder.name\u001b[39;00m\n\u001b[0;32m    358\u001b[0m \u001b[38;5;66;03m# hf_episode[1] = scenario_center\u001b[39;00m\n\u001b[0;32m    359\u001b[0m \u001b[38;5;66;03m# hf_episode[2] = scenario_yaw\u001b[39;00m\n\u001b[1;32m   (...)\u001b[0m\n\u001b[0;32m    364\u001b[0m \n\u001b[0;32m    365\u001b[0m \u001b[38;5;66;03m#hf[i] = hf_episode\u001b[39;00m\n\u001b[0;32m    366\u001b[0m \u001b[38;5;28;01mwith\u001b[39;00m \u001b[38;5;28mopen\u001b[39m(\u001b[38;5;124mf\u001b[39m\u001b[38;5;124m'\u001b[39m\u001b[38;5;132;01m{\u001b[39;00mscenario_folder\u001b[38;5;241m.\u001b[39mname\u001b[38;5;132;01m}\u001b[39;00m\u001b[38;5;124m.npy\u001b[39m\u001b[38;5;124m'\u001b[39m, \u001b[38;5;124m'\u001b[39m\u001b[38;5;124mwb\u001b[39m\u001b[38;5;124m'\u001b[39m) \u001b[38;5;28;01mas\u001b[39;00m f:\n\u001b[1;32m--> 367\u001b[0m     hf \u001b[38;5;241m=\u001b[39m \u001b[43mnp\u001b[49m\u001b[38;5;241;43m.\u001b[39;49m\u001b[43marray\u001b[49m\u001b[43m(\u001b[49m\u001b[43m[\u001b[49m\u001b[43mepisode_reduced\u001b[49m\u001b[43m[\u001b[49m\u001b[43mkey\u001b[49m\u001b[43m]\u001b[49m\u001b[38;5;241;43m.\u001b[39;49m\u001b[43mastype\u001b[49m\u001b[43m(\u001b[49m\u001b[38;5;28;43mint\u001b[39;49m\u001b[43m)\u001b[49m\u001b[43m \u001b[49m\u001b[38;5;28;43;01mfor\u001b[39;49;00m\u001b[43m \u001b[49m\u001b[43mkey\u001b[49m\u001b[43m \u001b[49m\u001b[38;5;129;43;01min\u001b[39;49;00m\u001b[43m \u001b[49m\u001b[43mattr_keys\u001b[49m\u001b[43m]\u001b[49m\u001b[43m)\u001b[49m\n\u001b[0;32m    368\u001b[0m     np\u001b[38;5;241m.\u001b[39msave(file\u001b[38;5;241m=\u001b[39mf, arr\u001b[38;5;241m=\u001b[39mhf)\n\u001b[0;32m    370\u001b[0m \u001b[38;5;28;01mif\u001b[39;00m i \u001b[38;5;241m==\u001b[39m \u001b[38;5;241m99\u001b[39m:\n",
      "\u001b[1;31mValueError\u001b[0m: setting an array element with a sequence. The requested array has an inhomogeneous shape after 1 dimensions. The detected shape was (20,) + inhomogeneous part."
     ]
    }
   ],
   "source": [
    "%run -i ../src/external/hptr/src/pack_h5_av2.py\n",
    "%tb"
   ]
  },
  {
   "cell_type": "code",
   "execution_count": null,
   "metadata": {},
   "outputs": [],
   "source": [
    "#python -m scenarionet.convert_argoverse2 -d data\\interim --raw_data_path G:\\Work\\DS\\mimolm\\data\\raw\\train --overwrite"
   ]
  },
  {
   "cell_type": "code",
   "execution_count": 12,
   "metadata": {},
   "outputs": [],
   "source": [
    "import numpy as np\n",
    "import torch\n",
    "\n",
    "\n",
    "def read():\n",
    "    arr = np.load('train.npy', allow_pickle=True)\n",
    "    arr[()][0][0]\n",
    "# with open('test.npy', 'wb') as f:\n",
    "#     np.save(f, np.array([1, 2]))\n",
    "#     np.save(f, np.array([1, 3]))\n",
    "# with open('test.npy', 'rb') as f:\n",
    "#     a = np.load(f)\n",
    "#     b = np.load(f)\n",
    "# print(a, b)"
   ]
  },
  {
   "cell_type": "code",
   "execution_count": 13,
   "metadata": {},
   "outputs": [
    {
     "name": "stdout",
     "output_type": "stream",
     "text": [
      "103 ms ± 3.45 ms per loop (mean ± std. dev. of 7 runs, 10 loops each)\n"
     ]
    }
   ],
   "source": [
    "%timeit read()"
   ]
  },
  {
   "cell_type": "code",
   "execution_count": 18,
   "metadata": {},
   "outputs": [
    {
     "data": {
      "text/plain": [
       "(1024, 20)"
      ]
     },
     "execution_count": 18,
     "metadata": {},
     "output_type": "execute_result"
    }
   ],
   "source": [
    "arr[()][0][0].shape"
   ]
  },
  {
   "cell_type": "code",
   "execution_count": 15,
   "metadata": {},
   "outputs": [
    {
     "name": "stdout",
     "output_type": "stream",
     "text": [
      "int64\n",
      "int64\n",
      "int64\n",
      "int64\n",
      "int64\n",
      "int64\n",
      "int64\n",
      "int64\n",
      "int64\n",
      "int64\n",
      "int64\n",
      "int64\n",
      "int64\n",
      "int64\n",
      "int64\n",
      "int64\n",
      "int64\n",
      "int64\n",
      "int64\n",
      "int64\n"
     ]
    }
   ],
   "source": [
    "for k in arr[()][0].keys():\n",
    "    print(arr[()][0][k].dtype)"
   ]
  },
  {
   "cell_type": "code",
   "execution_count": 27,
   "metadata": {},
   "outputs": [],
   "source": [
    "from scenarionet import read_dataset_summary, read_scenario\n",
    "\n",
    "dataset_summary, scenario_ids, mapping = read_dataset_summary(dataset_path=DATA_DIR / \"interim\" / \"train\")"
   ]
  },
  {
   "cell_type": "code",
   "execution_count": 5,
   "metadata": {},
   "outputs": [],
   "source": [
    "from torch.utils.data import DataLoader\n",
    "\n",
    "train_loader = DataLoader(\n",
    "    dataset=dataset, batch_size=3, num_workers=1, drop_last=False,\n",
    "    collate_fn=dataset.collate_fn)"
   ]
  },
  {
   "cell_type": "code",
   "execution_count": 7,
   "metadata": {},
   "outputs": [
    {
     "name": "stdout",
     "output_type": "stream",
     "text": [
      "dict_keys(['batch_size', 'input_dict', 'batch_sample_count'])\n"
     ]
    }
   ],
   "source": [
    "b = None\n",
    "for batch in train_loader:\n",
    "    print(batch.keys())\n",
    "    b = batch\n",
    "    break"
   ]
  },
  {
   "cell_type": "code",
   "execution_count": 13,
   "metadata": {},
   "outputs": [
    {
     "data": {
      "text/plain": [
       "dict_keys(['center_gt_final_valid_idx', 'center_gt_trajs', 'center_gt_trajs_mask', 'center_gt_trajs_src', 'center_objects_id', 'center_objects_type', 'center_objects_world', 'dataset_name', 'kalman_difficulty', 'map_center', 'map_polylines', 'map_polylines_center', 'map_polylines_mask', 'obj_trajs', 'obj_trajs_future_mask', 'obj_trajs_future_state', 'obj_trajs_last_pos', 'obj_trajs_mask', 'obj_trajs_pos', 'scenario_id', 'track_index_to_predict', 'trajectory_type'])"
      ]
     },
     "execution_count": 13,
     "metadata": {},
     "output_type": "execute_result"
    }
   ],
   "source": [
    "b['input_dict'].keys()"
   ]
  },
  {
   "cell_type": "code",
   "execution_count": null,
   "metadata": {},
   "outputs": [],
   "source": []
  }
 ],
 "metadata": {
  "kernelspec": {
   "display_name": "mimolm-kv68Yv56",
   "language": "python",
   "name": "python3"
  },
  "language_info": {
   "codemirror_mode": {
    "name": "ipython",
    "version": 3
   },
   "file_extension": ".py",
   "mimetype": "text/x-python",
   "name": "python",
   "nbconvert_exporter": "python",
   "pygments_lexer": "ipython3",
   "version": "3.10.4"
  }
 },
 "nbformat": 4,
 "nbformat_minor": 2
}
