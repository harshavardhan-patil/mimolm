{
 "cells": [
  {
   "cell_type": "code",
   "execution_count": 1,
   "metadata": {},
   "outputs": [
    {
     "name": "stderr",
     "output_type": "stream",
     "text": [
      "\u001b[32m2025-02-10 13:48:33.050\u001b[0m | \u001b[1mINFO    \u001b[0m | \u001b[36msrc.config\u001b[0m:\u001b[36m<module>\u001b[0m:\u001b[36m11\u001b[0m - \u001b[1mPROJ_ROOT path is: /home/harshavardhan-patil/Work/Projects/mimolm\u001b[0m\n"
     ]
    },
    {
     "name": "stderr",
     "output_type": "stream",
     "text": [
      "/home/harshavardhan-patil/Work/Projects/mimolm/venv/lib/python3.12/site-packages/tqdm/auto.py:21: TqdmWarning: IProgress not found. Please update jupyter and ipywidgets. See https://ipywidgets.readthedocs.io/en/stable/user_install.html\n",
      "  from .autonotebook import tqdm as notebook_tqdm\n"
     ]
    },
    {
     "name": "stdout",
     "output_type": "stream",
     "text": [
      "/home/harshavardhan-patil/Work/Projects/mimolm/notebooks\n"
     ]
    }
   ],
   "source": [
    "import sys\n",
    "from pathlib import Path\n",
    "from os.path  import join\n",
    "from src.config import DATA_DIR, CONFIG_DIR, MODELS_DIR\n",
    "from omegaconf import OmegaConf\n",
    "from src.external.hptr.src.data_modules.agent_centric import AgentCentricPreProcessing\n",
    "from src.external.hptr.src.data_modules.ac_global import AgentCentricGlobal\n",
    "from src.mimolm import InputProjections, EarlyFusionEncoder, MotionDecoder\n",
    "import torch\n",
    "import torch.nn.functional as F\n",
    "import lightning as pl\n",
    "\n",
    "# Add the project root to sys.path\n",
    "project_root = Path().resolve().parent  # Adjust as needed to point to the root folder\n",
    "sys.path.append(str(project_root))\n",
    "\n",
    "print(Path.cwd())  # Check if the path is added"
   ]
  },
  {
   "cell_type": "code",
   "execution_count": 4,
   "metadata": {},
   "outputs": [
    {
     "name": "stderr",
     "output_type": "stream",
     "text": [
      "GPU available: True (cuda), used: True\n",
      "TPU available: False, using: 0 TPU cores\n",
      "HPU available: False, using: 0 HPUs\n",
      "Running in `fast_dev_run` mode: will run the requested loop using 1 batch(es). Logging and checkpointing is suppressed.\n",
      "LOCAL_RANK: 0 - CUDA_VISIBLE_DEVICES: [0]\n"
     ]
    },
    {
     "name": "stdout",
     "output_type": "stream",
     "text": [
      "Testing DataLoader 0: 100%|██████████| 1/1 [00:02<00:00,  0.45it/s]\n"
     ]
    }
   ],
   "source": [
    "from src.external.hptr.src.data_modules.data_h5_av2 import DataH5av2\n",
    "from src.mimolm import MimoLM\n",
    "from lightning.pytorch.callbacks import LearningRateMonitor\n",
    "from src.modeling.modules.lm_utils import interpolate_trajectory, cluster_rollouts, non_maximum_suppression\n",
    "\n",
    "torch.set_printoptions(sci_mode=False)\n",
    "data_module = DataH5av2(DATA_DIR / \"interim\" / \"train\")\n",
    "data_module.setup(stage=\"validate\")\n",
    "val_loader = data_module.val_dataloader()\n",
    "\n",
    "model = MimoLM.load_from_checkpoint(checkpoint_path=str(MODELS_DIR / \"v3e3.ckpt\" )\n",
    "                                    , data_size=data_module.tensor_size_val\n",
    "                                    , n_rollouts = 128\n",
    "                                    , learning_rate = 8.e-8)\n",
    "trainer = pl.Trainer(fast_dev_run=1)\n",
    "output = trainer.test(model=model, dataloaders=val_loader)"
   ]
  },
  {
   "cell_type": "code",
   "execution_count": 5,
   "metadata": {},
   "outputs": [
    {
     "data": {
      "text/plain": [
       "{'BrierMinFDE': array([57.0788338,  0.       ,  0.       , ...,  0.       ,  0.       ,\n",
       "         0.       ]),\n",
       " 'MinFDE': array([57.0788338,  0.       ,  0.       , ...,  0.       ,  0.       ,\n",
       "         0.       ]),\n",
       " 'MinADE': array([33.34519174,  0.        ,  0.        , ...,  0.        ,\n",
       "         0.        ,  0.        ])}"
      ]
     },
     "execution_count": 5,
     "metadata": {},
     "output_type": "execute_result"
    }
   ],
   "source": [
    "model.validation_output"
   ]
  },
  {
   "cell_type": "code",
   "execution_count": null,
   "metadata": {},
   "outputs": [],
   "source": []
  }
 ],
 "metadata": {
  "kernelspec": {
   "display_name": "venv",
   "language": "python",
   "name": "python3"
  },
  "language_info": {
   "codemirror_mode": {
    "name": "ipython",
    "version": 3
   },
   "file_extension": ".py",
   "mimetype": "text/x-python",
   "name": "python",
   "nbconvert_exporter": "python",
   "pygments_lexer": "ipython3",
   "version": "3.12.3"
  }
 },
 "nbformat": 4,
 "nbformat_minor": 2
}
