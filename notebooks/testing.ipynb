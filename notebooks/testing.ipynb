{
 "cells": [
  {
   "cell_type": "code",
   "execution_count": 1,
   "metadata": {},
   "outputs": [
    {
     "name": "stderr",
     "output_type": "stream",
     "text": [
      "\u001b[32m2025-02-22 21:49:43.605\u001b[0m | \u001b[1mINFO    \u001b[0m | \u001b[36msrc.config\u001b[0m:\u001b[36m<module>\u001b[0m:\u001b[36m11\u001b[0m - \u001b[1mPROJ_ROOT path is: /home/harshavardhan-patil/Work/Projects/mimolm\u001b[0m\n"
     ]
    },
    {
     "name": "stderr",
     "output_type": "stream",
     "text": [
      "/home/harshavardhan-patil/Work/Projects/mimolm/venv/lib/python3.12/site-packages/tqdm/auto.py:21: TqdmWarning: IProgress not found. Please update jupyter and ipywidgets. See https://ipywidgets.readthedocs.io/en/stable/user_install.html\n",
      "  from .autonotebook import tqdm as notebook_tqdm\n"
     ]
    },
    {
     "name": "stdout",
     "output_type": "stream",
     "text": [
      "/home/harshavardhan-patil/Work/Projects/mimolm/notebooks\n"
     ]
    }
   ],
   "source": [
    "import sys\n",
    "from pathlib import Path\n",
    "from os.path  import join\n",
    "from src.config import DATA_DIR, CONFIG_DIR, MODELS_DIR\n",
    "from omegaconf import OmegaConf\n",
    "from src.external.hptr.src.data_modules.agent_centric import AgentCentricPreProcessing\n",
    "from src.external.hptr.src.data_modules.ac_global import AgentCentricGlobal\n",
    "from src.mimolm import InputProjections, EarlyFusionEncoder, MotionDecoder\n",
    "import torch\n",
    "import torch.nn.functional as F\n",
    "import lightning as pl\n",
    "import datetime\n",
    "from src.modeling.modules.lm_utils import tokenize_motion\n",
    "\n",
    "# Add the project root to sys.path\n",
    "project_root = Path().resolve().parent  # Adjust as needed to point to the root folder\n",
    "sys.path.append(str(project_root))\n",
    "\n",
    "print(Path.cwd())  # Check if the path is added"
   ]
  },
  {
   "cell_type": "code",
   "execution_count": 14,
   "metadata": {},
   "outputs": [
    {
     "name": "stderr",
     "output_type": "stream",
     "text": [
      "GPU available: True (cuda), used: True\n",
      "TPU available: False, using: 0 TPU cores\n",
      "HPU available: False, using: 0 HPUs\n",
      "Running in `fast_dev_run` mode: will run the requested loop using 10 batch(es). Logging and checkpointing is suppressed.\n",
      "LOCAL_RANK: 0 - CUDA_VISIBLE_DEVICES: [0]\n"
     ]
    },
    {
     "name": "stdout",
     "output_type": "stream",
     "text": [
      "Testing DataLoader 0: 100%|██████████| 10/10 [00:06<00:00,  1.61it/s]\n"
     ]
    },
    {
     "data": {
      "text/html": [
       "<pre style=\"white-space:pre;overflow-x:auto;line-height:normal;font-family:Menlo,'DejaVu Sans Mono',consolas,'Courier New',monospace\">┏━━━━━━━━━━━━━━━━━━━━━━━━━━━┳━━━━━━━━━━━━━━━━━━━━━━━━━━━┓\n",
       "┃<span style=\"font-weight: bold\">        Test metric        </span>┃<span style=\"font-weight: bold\">       DataLoader 0        </span>┃\n",
       "┡━━━━━━━━━━━━━━━━━━━━━━━━━━━╇━━━━━━━━━━━━━━━━━━━━━━━━━━━┩\n",
       "│<span style=\"color: #008080; text-decoration-color: #008080\">       MinADE_epoch        </span>│<span style=\"color: #800080; text-decoration-color: #800080\">    0.7975019812583923     </span>│\n",
       "│<span style=\"color: #008080; text-decoration-color: #008080\">       MinFDE_epoch        </span>│<span style=\"color: #800080; text-decoration-color: #800080\">    0.6343811750411987     </span>│\n",
       "└───────────────────────────┴───────────────────────────┘\n",
       "</pre>\n"
      ],
      "text/plain": [
       "┏━━━━━━━━━━━━━━━━━━━━━━━━━━━┳━━━━━━━━━━━━━━━━━━━━━━━━━━━┓\n",
       "┃\u001b[1m \u001b[0m\u001b[1m       Test metric       \u001b[0m\u001b[1m \u001b[0m┃\u001b[1m \u001b[0m\u001b[1m      DataLoader 0       \u001b[0m\u001b[1m \u001b[0m┃\n",
       "┡━━━━━━━━━━━━━━━━━━━━━━━━━━━╇━━━━━━━━━━━━━━━━━━━━━━━━━━━┩\n",
       "│\u001b[36m \u001b[0m\u001b[36m      MinADE_epoch       \u001b[0m\u001b[36m \u001b[0m│\u001b[35m \u001b[0m\u001b[35m   0.7975019812583923    \u001b[0m\u001b[35m \u001b[0m│\n",
       "│\u001b[36m \u001b[0m\u001b[36m      MinFDE_epoch       \u001b[0m\u001b[36m \u001b[0m│\u001b[35m \u001b[0m\u001b[35m   0.6343811750411987    \u001b[0m\u001b[35m \u001b[0m│\n",
       "└───────────────────────────┴───────────────────────────┘\n"
      ]
     },
     "metadata": {},
     "output_type": "display_data"
    }
   ],
   "source": [
    "from src.external.hptr.src.data_modules.data_h5_av2 import DataH5av2\n",
    "from src.mimolm import MimoLM\n",
    "from src.modeling.modules.lm_utils import interpolate_trajectory, cluster_rollouts, non_maximum_suppression\n",
    "\n",
    "torch.set_printoptions(sci_mode=False)\n",
    "data_module = DataH5av2(DATA_DIR\n",
    "                        , batch_size=128)\n",
    "data_module.setup(stage=\"validate\")\n",
    "val_loader = data_module.val_dataloader()\n",
    "\n",
    "model = MimoLM(data_size=data_module.tensor_size_val\n",
    "                , n_rollouts = 1)\n",
    "\n",
    "trainer = pl.Trainer(fast_dev_run=10)\n",
    "output = trainer.test(model=model, dataloaders=val_loader)"
   ]
  },
  {
   "cell_type": "code",
   "execution_count": 4,
   "metadata": {},
   "outputs": [
    {
     "data": {
      "text/plain": [
       "tensor([[[ 57,  57,  87, 150, 121, 107, 111,  22,   7, 121,  58, 122,  70,  86,\n",
       "           86,  58,   6, 159, 156, 149, 129, 119],\n",
       "         [168, 168, 139,  71,  83,  82,  69,  83,  83,  70,  69,  82,  70,  71,\n",
       "           73, 100, 101, 101, 100,  98,  95,  95],\n",
       "         [168, 168, 124,  57,  57,  19,   6,   0,  28,  57,  61,  62,  65,  68,\n",
       "           63, 128,  44,   4, 158, 114,  98, 133],\n",
       "         [168, 168, 141,  60,  68,  81,  57,  70,  71,  86,  68,  74,  74,  65,\n",
       "           67,  67,  82,  76,  34,  56, 113,  91],\n",
       "         [166, 166, 139, 110,  97, 106, 105,  97,  90,  77,  55,  41,  45,  56,\n",
       "           53,  89,   7,  54, 156, 162,  38,  61],\n",
       "         [169, 169, 169,  12, 116,  64,   0,  13, 139,  49, 100, 120, 130, 169,\n",
       "          169, 169, 169, 169, 169, 169, 169, 169],\n",
       "         [169, 169, 169, 169,  12, 115,  28,  43,  59,   1,  51,  89,  91, 134,\n",
       "          160, 157, 159, 129,  12, 169, 169, 169],\n",
       "         [ 99,  99,   0, 160, 168,  10,   4, 161, 111,  57, 121, 161,  70,  72,\n",
       "           99, 124, 108, 145, 149, 112, 140, 159]]])"
      ]
     },
     "execution_count": 4,
     "metadata": {},
     "output_type": "execute_result"
    }
   ],
   "source": [
    "motion_tokens = torch.cat((batch[\"ac/target_pos\"], batch[\"gt/pos\"][:, :, ::model.decoder.sampling_step,]), dim = -2).to('cpu')\n",
    "actuals, _ = tokenize_motion(motion_tokens,\n",
    "    model.decoder.pos_bins, \n",
    "    model.decoder.verlet_wrapper, \n",
    "    model.decoder.n_verlet_steps,\n",
    "    model.decoder.max_delta)\n",
    "actuals[~torch.cat([batch[\"input/target_valid\"], batch[\"gt/valid\"][:, :, ::model.decoder.sampling_step,]], dim=-1)] = 169\n",
    "actuals"
   ]
  },
  {
   "cell_type": "code",
   "execution_count": 11,
   "metadata": {},
   "outputs": [
    {
     "data": {
      "text/plain": [
       "(tensor([[[ 84,  84,  84,  84,  84, 164,   4,  84,  84,  84, 168,   0,  84,  84,\n",
       "            84, 168,   1,  84,  84,  84, 168,   0,  84,  84,  84, 168,   0,  84,\n",
       "            84,  84, 168,   0,  84,  84,  84, 168,   0,  84,  84,  84, 168,   0,\n",
       "            84,  84,  84, 168,   0,  84,  84,  84, 168,   0,  84,  84,  84, 168,\n",
       "             0,  84,  84,  84],\n",
       "          [ 84,  84,  84,  84,  84, 168,   0,  84,  84,  84, 168,   0,  84,  84,\n",
       "            84, 168,   0,  84,  84,  84, 168,   0,  84,  84,  84, 168,   0,  84,\n",
       "            84,  84, 168,   0,  84,  84,  84, 168,   0,  84,  84,  84, 168,   0,\n",
       "            84,  84,  84, 168,   0,  84,  84,  84, 168,   0,  84,  84,  84, 168,\n",
       "             0,  84,  84,  84],\n",
       "          [ 84,  84,  84,  84,  84, 168,   0,  84,  84,  84, 168,   0,  84,  84,\n",
       "            84, 168,   0,  84,  84,  84, 168,   0,  84,  84,  84, 168,   0,  84,\n",
       "            84,  84, 168,   0,  84,  84,  84, 168,   0,  84,  84,  84, 168,   0,\n",
       "            84,  84,  84, 168,   0,  84,  84,  84, 168,   0,  84,  84,  84, 168,\n",
       "             0,  84,  84,  84],\n",
       "          [ 84,  84,  84,  84,  84, 168,   0,  84,  84,  84, 168,   0,  84,  84,\n",
       "            84, 168,   0,  84,  84,  84, 168,   0,  84,  84,  84, 168,   0,  84,\n",
       "            84,  84, 168,   0,  84,  84,  84, 168,   0,  84,  84,  84, 168,   0,\n",
       "            84,  84,  84, 168,   0,  84,  84,  84, 168,   0,  84,  84,  84, 168,\n",
       "             0,  84,  84,  84],\n",
       "          [ 84,  84,  84,  84,  84, 168,   0,  84,  84,  84, 168,   0,  84,  84,\n",
       "            84, 168,   0,  84,  84,  84, 168,   0,  84,  84,  84, 168,   0,  84,\n",
       "            84,  84, 168,   0,  84,  84,  84, 168,   0,  84,  84,  84, 168,   0,\n",
       "            84,  84,  84, 168,   0,  84,  84,  84, 168,   0,  84,  84,  84, 168,\n",
       "             0,  84,  84,  84],\n",
       "          [ 84,  84,  84,  84,  84,   3, 165,  84,  84,  84,   3, 166,  84,  84,\n",
       "            84, 169, 168,  84,  84,  84,  84,  84,  84,  84,  84,  84,  84,  84,\n",
       "            84,  84,  84,  84,  84,  84,  84,  84,  84,  84,  84,  84,  84,  84,\n",
       "            84,  84,  84,  84,  84,  84,  84,  84,  84,  84,  84,  84,  84,  84,\n",
       "            84,  84,  84,  84],\n",
       "          [ 84,  84,  84,  84,  84, 120,  49,  84,  84,  84, 168,   1,  84,  84,\n",
       "            84, 168,   0,  84,  84,  84, 168,   0,  84,  84,  84, 168,   0,  84,\n",
       "            84,  84, 168,   0,  84,  84,  84,  25, 156,  84,  84,  84, 168,   0,\n",
       "            84,  84, 169, 168,  84,  84,  84,  84,  84,  84,  84,  84,  84,  84,\n",
       "            84,  84,  84,  84],\n",
       "          [ 84,  84,  84,  84,  84,  35, 133,  84,  84,  84,  48, 133,  84,  84,\n",
       "            84,  48, 133,  84,  84,  84,  49, 133,  84,  84,  84,  49, 133,  84,\n",
       "            84,  84,  49, 133,  84,  84,  84,  49, 133,  84,  84,  84,  49, 133,\n",
       "            84,  84,  84,  49, 133,  84,  84,  84,  49, 132,  84,  84,  84,  49,\n",
       "           132,  84,  84,  84]]]),\n",
       " tensor([[[75, 75],\n",
       "          [75, 75],\n",
       "          [75, 75],\n",
       "          [75, 75],\n",
       "          [75, 75],\n",
       "          [75, 75],\n",
       "          [75, 75],\n",
       "          [75, 75]]]))"
      ]
     },
     "execution_count": 11,
     "metadata": {},
     "output_type": "execute_result"
    }
   ],
   "source": [
    "pred_tokens = tokenize_motion(prediction[0].unsqueeze(0),\n",
    "    model.decoder.pos_bins, \n",
    "    model.decoder.verlet_wrapper, \n",
    "    model.decoder.n_verlet_steps,\n",
    "    model.decoder.max_delta)\n",
    "pred_tokens"
   ]
  },
  {
   "cell_type": "code",
   "execution_count": 11,
   "metadata": {},
   "outputs": [
    {
     "ename": "SyntaxError",
     "evalue": "'break' outside loop (668683560.py, line 1)",
     "output_type": "error",
     "traceback": [
      "\u001b[0;36m  Cell \u001b[0;32mIn[11], line 1\u001b[0;36m\u001b[0m\n\u001b[0;31m    break\u001b[0m\n\u001b[0m    ^\u001b[0m\n\u001b[0;31mSyntaxError\u001b[0m\u001b[0;31m:\u001b[0m 'break' outside loop\n"
     ]
    }
   ],
   "source": [
    "break"
   ]
  },
  {
   "cell_type": "code",
   "execution_count": null,
   "metadata": {},
   "outputs": [
    {
     "data": {
      "text/plain": [
       "tensor([[[[0.0100],\n",
       "          [0.3600],\n",
       "          [0.1000],\n",
       "          [0.6700],\n",
       "          [0.1900]],\n",
       "\n",
       "         [[0.0700],\n",
       "          [0.4900],\n",
       "          [0.5600],\n",
       "          [0.7900],\n",
       "          [0.5100]],\n",
       "\n",
       "         [[0.0700],\n",
       "          [0.9600],\n",
       "          [0.8500],\n",
       "          [0.8000],\n",
       "          [0.8800]]],\n",
       "\n",
       "\n",
       "        [[[0.8700],\n",
       "          [0.3300],\n",
       "          [0.6800],\n",
       "          [0.7200],\n",
       "          [0.4500]],\n",
       "\n",
       "         [[0.8100],\n",
       "          [0.9300],\n",
       "          [0.5300],\n",
       "          [0.9100],\n",
       "          [0.6600]],\n",
       "\n",
       "         [[0.8000],\n",
       "          [0.9000],\n",
       "          [0.9000],\n",
       "          [0.1000],\n",
       "          [0.9500]]]])"
      ]
     },
     "execution_count": 3,
     "metadata": {},
     "output_type": "execute_result"
    }
   ],
   "source": [
    "import torch\n",
    "\n",
    "token = torch.randint(100, (2, 3, 5, 1)) / 100.\n",
    "token"
   ]
  },
  {
   "cell_type": "code",
   "execution_count": null,
   "metadata": {},
   "outputs": [
    {
     "name": "stdout",
     "output_type": "stream",
     "text": [
      "torch.Size([2, 15, 1])\n",
      "tensor([[[0.0100],\n",
      "         [0.3600],\n",
      "         [0.1000],\n",
      "         [0.6700],\n",
      "         [0.1900],\n",
      "         [0.0700],\n",
      "         [0.4900],\n",
      "         [0.5600],\n",
      "         [0.7900],\n",
      "         [0.5100],\n",
      "         [0.0700],\n",
      "         [0.9600],\n",
      "         [0.8500],\n",
      "         [0.8000],\n",
      "         [0.8800]],\n",
      "\n",
      "        [[0.8700],\n",
      "         [0.3300],\n",
      "         [0.6800],\n",
      "         [0.7200],\n",
      "         [0.4500],\n",
      "         [0.8100],\n",
      "         [0.9300],\n",
      "         [0.5300],\n",
      "         [0.9100],\n",
      "         [0.6600],\n",
      "         [0.8000],\n",
      "         [0.9000],\n",
      "         [0.9000],\n",
      "         [0.1000],\n",
      "         [0.9500]]])\n"
     ]
    }
   ],
   "source": [
    "motion_embeddings = token.flatten(1,2)\n",
    "print(motion_embeddings.shape)\n",
    "print(motion_embeddings)\n",
    "query = motion_embeddings"
   ]
  },
  {
   "cell_type": "code",
   "execution_count": null,
   "metadata": {},
   "outputs": [
    {
     "name": "stdout",
     "output_type": "stream",
     "text": [
      "torch.Size([15, 15])\n",
      "tensor([[False,  True,  True,  True,  True, False,  True,  True,  True,  True,\n",
      "         False,  True,  True,  True,  True],\n",
      "        [False, False,  True,  True,  True, False, False,  True,  True,  True,\n",
      "         False, False,  True,  True,  True],\n",
      "        [False, False, False,  True,  True, False, False, False,  True,  True,\n",
      "         False, False, False,  True,  True],\n",
      "        [False, False, False, False,  True, False, False, False, False,  True,\n",
      "         False, False, False, False,  True],\n",
      "        [False, False, False, False, False, False, False, False, False, False,\n",
      "         False, False, False, False, False],\n",
      "        [False,  True,  True,  True,  True, False,  True,  True,  True,  True,\n",
      "         False,  True,  True,  True,  True],\n",
      "        [False, False,  True,  True,  True, False, False,  True,  True,  True,\n",
      "         False, False,  True,  True,  True],\n",
      "        [False, False, False,  True,  True, False, False, False,  True,  True,\n",
      "         False, False, False,  True,  True],\n",
      "        [False, False, False, False,  True, False, False, False, False,  True,\n",
      "         False, False, False, False,  True],\n",
      "        [False, False, False, False, False, False, False, False, False, False,\n",
      "         False, False, False, False, False],\n",
      "        [False,  True,  True,  True,  True, False,  True,  True,  True,  True,\n",
      "         False,  True,  True,  True,  True],\n",
      "        [False, False,  True,  True,  True, False, False,  True,  True,  True,\n",
      "         False, False,  True,  True,  True],\n",
      "        [False, False, False,  True,  True, False, False, False,  True,  True,\n",
      "         False, False, False,  True,  True],\n",
      "        [False, False, False, False,  True, False, False, False, False,  True,\n",
      "         False, False, False, False,  True],\n",
      "        [False, False, False, False, False, False, False, False, False, False,\n",
      "         False, False, False, False, False]])\n"
     ]
    }
   ],
   "source": [
    "from src.modeling.modules.lm_utils import get_attention_mask\n",
    "\n",
    "attn_mask = get_attention_mask(5, query.shape[1])\n",
    "print(attn_mask.shape)\n",
    "print(attn_mask)"
   ]
  },
  {
   "cell_type": "code",
   "execution_count": null,
   "metadata": {},
   "outputs": [
    {
     "name": "stdout",
     "output_type": "stream",
     "text": [
      "torch.Size([2, 15])\n",
      "tensor([[0, 1, 0, 0, 1, 1, 1, 0, 0, 0, 1, 0, 1, 0, 0],\n",
      "        [1, 0, 0, 0, 1, 1, 1, 1, 0, 1, 1, 1, 0, 0, 0]])\n"
     ]
    }
   ],
   "source": [
    "padding_mask = torch.randint(0, 2, [2, 3, 5]).flatten(1, -1)\n",
    "print(padding_mask.shape)\n",
    "print(padding_mask)"
   ]
  },
  {
   "cell_type": "code",
   "execution_count": null,
   "metadata": {},
   "outputs": [],
   "source": [
    "import torch.nn as nn\n",
    "\n",
    "self_attn = nn.MultiheadAttention(embed_dim = 1, num_heads = 1, batch_first=True)"
   ]
  },
  {
   "cell_type": "code",
   "execution_count": null,
   "metadata": {},
   "outputs": [
    {
     "name": "stdout",
     "output_type": "stream",
     "text": [
      "torch.Size([2, 15, 1])\n",
      "tensor([[[0.0063],\n",
      "         [0.3032],\n",
      "         [0.2576],\n",
      "         [0.3483],\n",
      "         [0.3709],\n",
      "         [0.0063],\n",
      "         [0.3017],\n",
      "         [0.2541],\n",
      "         [0.3476],\n",
      "         [0.3693],\n",
      "         [0.0063],\n",
      "         [0.2962],\n",
      "         [0.2519],\n",
      "         [0.3475],\n",
      "         [0.3673]],\n",
      "\n",
      "        [[   nan],\n",
      "         [0.2092],\n",
      "         [0.4017],\n",
      "         [0.3813],\n",
      "         [0.4136],\n",
      "         [   nan],\n",
      "         [0.2092],\n",
      "         [0.4021],\n",
      "         [0.3804],\n",
      "         [0.4126],\n",
      "         [   nan],\n",
      "         [0.2092],\n",
      "         [0.4010],\n",
      "         [0.3841],\n",
      "         [0.4112]]], grad_fn=<TransposeBackward0>)\n"
     ]
    }
   ],
   "source": [
    "attn_out_1, _ = self_attn(query, query, query, attn_mask=attn_mask, key_padding_mask = padding_mask.bool())\n",
    "print(attn_out_1.shape)\n",
    "print(attn_out_1)"
   ]
  },
  {
   "cell_type": "code",
   "execution_count": null,
   "metadata": {},
   "outputs": [
    {
     "name": "stdout",
     "output_type": "stream",
     "text": [
      "torch.Size([6, 5, 1])\n",
      "tensor([[[0.0063],\n",
      "         [0.3032],\n",
      "         [0.2576],\n",
      "         [0.3483],\n",
      "         [0.3709]],\n",
      "\n",
      "        [[0.0063],\n",
      "         [0.3017],\n",
      "         [0.2541],\n",
      "         [0.3476],\n",
      "         [0.3693]],\n",
      "\n",
      "        [[0.0063],\n",
      "         [0.2962],\n",
      "         [0.2519],\n",
      "         [0.3475],\n",
      "         [0.3673]],\n",
      "\n",
      "        [[   nan],\n",
      "         [0.2092],\n",
      "         [0.4017],\n",
      "         [0.3813],\n",
      "         [0.4136]],\n",
      "\n",
      "        [[   nan],\n",
      "         [0.2092],\n",
      "         [0.4021],\n",
      "         [0.3804],\n",
      "         [0.4126]],\n",
      "\n",
      "        [[   nan],\n",
      "         [0.2092],\n",
      "         [0.4010],\n",
      "         [0.3841],\n",
      "         [0.4112]]], grad_fn=<UnsafeViewBackward0>)\n"
     ]
    }
   ],
   "source": [
    "attn_out_2 = attn_out_1.unflatten(dim=1, sizes=(3, 5)).flatten(0, 1)\n",
    "print(attn_out_2.shape)\n",
    "print(attn_out_2)"
   ]
  },
  {
   "cell_type": "code",
   "execution_count": null,
   "metadata": {},
   "outputs": [
    {
     "data": {
      "text/plain": [
       "tensor([[[0.7100],\n",
       "         [0.2300],\n",
       "         [0.3800],\n",
       "         [0.4900],\n",
       "         [0.5300],\n",
       "         [0.9300],\n",
       "         [0.0900],\n",
       "         [0.3300],\n",
       "         [0.6300],\n",
       "         [0.6800]],\n",
       "\n",
       "        [[0.5500],\n",
       "         [0.7000],\n",
       "         [0.2400],\n",
       "         [0.9500],\n",
       "         [0.3100],\n",
       "         [0.1500],\n",
       "         [0.8400],\n",
       "         [0.3400],\n",
       "         [0.8100],\n",
       "         [0.1000]],\n",
       "\n",
       "        [[0.7500],\n",
       "         [0.5600],\n",
       "         [0.1000],\n",
       "         [0.6200],\n",
       "         [0.4000],\n",
       "         [0.1800],\n",
       "         [0.6400],\n",
       "         [0.3500],\n",
       "         [0.2100],\n",
       "         [0.0500]],\n",
       "\n",
       "        [[0.2600],\n",
       "         [0.2200],\n",
       "         [0.0600],\n",
       "         [0.0100],\n",
       "         [0.8800],\n",
       "         [0.5100],\n",
       "         [0.4800],\n",
       "         [0.9100],\n",
       "         [0.5800],\n",
       "         [0.2500]],\n",
       "\n",
       "        [[0.7500],\n",
       "         [0.2300],\n",
       "         [0.4900],\n",
       "         [0.9500],\n",
       "         [0.4800],\n",
       "         [0.4800],\n",
       "         [0.6900],\n",
       "         [0.4100],\n",
       "         [0.2800],\n",
       "         [0.1400]],\n",
       "\n",
       "        [[0.9000],\n",
       "         [0.2100],\n",
       "         [0.6800],\n",
       "         [0.7700],\n",
       "         [0.2800],\n",
       "         [0.0700],\n",
       "         [0.9500],\n",
       "         [0.1400],\n",
       "         [0.2900],\n",
       "         [0.3700]]])"
      ]
     },
     "execution_count": 10,
     "metadata": {},
     "output_type": "execute_result"
    }
   ],
   "source": [
    "fused_emb = torch.randint(100, (6, 10, 1)) / 100.\n",
    "fused_emb"
   ]
  },
  {
   "cell_type": "code",
   "execution_count": null,
   "metadata": {},
   "outputs": [],
   "source": [
    "cross_attn = nn.MultiheadAttention(embed_dim = 1, num_heads = 1, batch_first=True)"
   ]
  },
  {
   "cell_type": "code",
   "execution_count": null,
   "metadata": {},
   "outputs": [
    {
     "name": "stdout",
     "output_type": "stream",
     "text": [
      "torch.Size([6, 5, 1])\n",
      "tensor([[[0.1355],\n",
      "         [0.1363],\n",
      "         [0.1362],\n",
      "         [0.1364],\n",
      "         [0.1365]],\n",
      "\n",
      "        [[0.1352],\n",
      "         [0.1364],\n",
      "         [0.1362],\n",
      "         [0.1366],\n",
      "         [0.1367]],\n",
      "\n",
      "        [[0.1046],\n",
      "         [0.1054],\n",
      "         [0.1052],\n",
      "         [0.1055],\n",
      "         [0.1055]],\n",
      "\n",
      "        [[   nan],\n",
      "         [0.1136],\n",
      "         [0.1144],\n",
      "         [0.1143],\n",
      "         [0.1144]],\n",
      "\n",
      "        [[   nan],\n",
      "         [0.1333],\n",
      "         [0.1338],\n",
      "         [0.1338],\n",
      "         [0.1338]],\n",
      "\n",
      "        [[   nan],\n",
      "         [0.1272],\n",
      "         [0.1281],\n",
      "         [0.1280],\n",
      "         [0.1281]]], grad_fn=<TransposeBackward0>)\n"
     ]
    }
   ],
   "source": [
    "query, _ = cross_attn(attn_out_2, fused_emb, fused_emb)\n",
    "print(query.shape)\n",
    "print(query)"
   ]
  },
  {
   "cell_type": "code",
   "execution_count": null,
   "metadata": {},
   "outputs": [
    {
     "name": "stdout",
     "output_type": "stream",
     "text": [
      "torch.Size([2, 15, 1])\n",
      "tensor([[[0.1355],\n",
      "         [0.1363],\n",
      "         [0.1362],\n",
      "         [0.1364],\n",
      "         [0.1365],\n",
      "         [0.1352],\n",
      "         [0.1364],\n",
      "         [0.1362],\n",
      "         [0.1366],\n",
      "         [0.1367],\n",
      "         [0.1046],\n",
      "         [0.1054],\n",
      "         [0.1052],\n",
      "         [0.1055],\n",
      "         [0.1055]],\n",
      "\n",
      "        [[   nan],\n",
      "         [0.1136],\n",
      "         [0.1144],\n",
      "         [0.1143],\n",
      "         [0.1144],\n",
      "         [   nan],\n",
      "         [0.1333],\n",
      "         [0.1338],\n",
      "         [0.1338],\n",
      "         [0.1338],\n",
      "         [   nan],\n",
      "         [0.1272],\n",
      "         [0.1281],\n",
      "         [0.1280],\n",
      "         [0.1281]]], grad_fn=<UnsafeViewBackward0>)\n"
     ]
    }
   ],
   "source": [
    "query = query.unflatten(dim=0, sizes=(2, 3)).flatten(1, 2)\n",
    "print(query.shape)\n",
    "print(query)"
   ]
  },
  {
   "cell_type": "code",
   "execution_count": null,
   "metadata": {},
   "outputs": [
    {
     "data": {
      "text/plain": [
       "torch.Size([201, 1])"
      ]
     },
     "execution_count": 14,
     "metadata": {},
     "output_type": "execute_result"
    }
   ],
   "source": [
    "target_valid = torch.randint(0, 2, [2, 8, 25])\n",
    "if target_valid.shape[-1] != 55:\n",
    "    target_valid = torch.cat([target_valid, torch.ones([2, 8, 55 - target_valid.shape[-1]])], dim=-1)\n",
    "torch.randn([2, 8, 55, 1])[~target_valid.bool()].shape"
   ]
  },
  {
   "cell_type": "code",
   "execution_count": null,
   "metadata": {},
   "outputs": [],
   "source": []
  }
 ],
 "metadata": {
  "kernelspec": {
   "display_name": "venv",
   "language": "python",
   "name": "python3"
  },
  "language_info": {
   "codemirror_mode": {
    "name": "ipython",
    "version": 3
   },
   "file_extension": ".py",
   "mimetype": "text/x-python",
   "name": "python",
   "nbconvert_exporter": "python",
   "pygments_lexer": "ipython3",
   "version": "3.12.3"
  }
 },
 "nbformat": 4,
 "nbformat_minor": 2
}
