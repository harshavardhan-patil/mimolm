{
 "cells": [
  {
   "cell_type": "code",
   "execution_count": 4,
   "metadata": {},
   "outputs": [
    {
     "name": "stderr",
     "output_type": "stream",
     "text": [
      "/home/harshavardhan-patil/Work/Projects/mimolm/venv/lib/python3.12/site-packages/tqdm/auto.py:21: TqdmWarning: IProgress not found. Please update jupyter and ipywidgets. See https://ipywidgets.readthedocs.io/en/stable/user_install.html\n",
      "  from .autonotebook import tqdm as notebook_tqdm\n"
     ]
    },
    {
     "name": "stdout",
     "output_type": "stream",
     "text": [
      "/home/harshavardhan-patil/Work/Projects/mimolm/notebooks\n"
     ]
    }
   ],
   "source": [
    "import sys\n",
    "from pathlib import Path\n",
    "from os.path  import join\n",
    "from src.config import DATA_DIR, CONFIG_DIR, MODELS_DIR\n",
    "from omegaconf import OmegaConf\n",
    "from src.external.hptr.src.data_modules.agent_centric import AgentCentricPreProcessing\n",
    "from src.external.hptr.src.data_modules.ac_global import AgentCentricGlobal\n",
    "from src.mimolm import InputProjections, EarlyFusionEncoder, MotionDecoder\n",
    "import torch\n",
    "import torch.nn.functional as F\n",
    "import lightning as pl\n",
    "\n",
    "# Add the project root to sys.path\n",
    "project_root = Path().resolve().parent  # Adjust as needed to point to the root folder\n",
    "sys.path.append(str(project_root))\n",
    "\n",
    "print(Path.cwd())  # Check if the path is added"
   ]
  },
  {
   "cell_type": "code",
   "execution_count": 5,
   "metadata": {},
   "outputs": [
    {
     "ename": "ValueError",
     "evalue": "expected sequence of length 3 at dim 1 (got 0)",
     "output_type": "error",
     "traceback": [
      "\u001b[0;31m---------------------------------------------------------------------------\u001b[0m",
      "\u001b[0;31mValueError\u001b[0m                                Traceback (most recent call last)",
      "Cell \u001b[0;32mIn[5], line 10\u001b[0m\n\u001b[1;32m      7\u001b[0m data_module\u001b[38;5;241m.\u001b[39msetup(stage\u001b[38;5;241m=\u001b[39m\u001b[38;5;124m\"\u001b[39m\u001b[38;5;124mvalidate\u001b[39m\u001b[38;5;124m\"\u001b[39m)\n\u001b[1;32m      8\u001b[0m val_loader \u001b[38;5;241m=\u001b[39m data_module\u001b[38;5;241m.\u001b[39mval_dataloader()\n\u001b[0;32m---> 10\u001b[0m model \u001b[38;5;241m=\u001b[39m \u001b[43mMimoLM\u001b[49m\u001b[38;5;241;43m.\u001b[39;49m\u001b[43mload_from_checkpoint\u001b[49m\u001b[43m(\u001b[49m\u001b[43mcheckpoint_path\u001b[49m\u001b[38;5;241;43m=\u001b[39;49m\u001b[38;5;28;43mstr\u001b[39;49m\u001b[43m(\u001b[49m\u001b[43mMODELS_DIR\u001b[49m\u001b[43m \u001b[49m\u001b[38;5;241;43m/\u001b[39;49m\u001b[43m \u001b[49m\u001b[38;5;124;43m\"\u001b[39;49m\u001b[38;5;124;43mv2Me59.ckpt\u001b[39;49m\u001b[38;5;124;43m\"\u001b[39;49m\u001b[43m \u001b[49m\u001b[43m)\u001b[49m\n\u001b[1;32m     11\u001b[0m \u001b[43m                                    \u001b[49m\u001b[43m,\u001b[49m\u001b[43m \u001b[49m\u001b[43mdata_size\u001b[49m\u001b[38;5;241;43m=\u001b[39;49m\u001b[43mdata_module\u001b[49m\u001b[38;5;241;43m.\u001b[39;49m\u001b[43mtensor_size_val\u001b[49m\n\u001b[1;32m     12\u001b[0m \u001b[43m                                    \u001b[49m\u001b[43m,\u001b[49m\u001b[43m \u001b[49m\u001b[43mn_rollouts\u001b[49m\u001b[43m \u001b[49m\u001b[38;5;241;43m=\u001b[39;49m\u001b[43m \u001b[49m\u001b[38;5;241;43m64\u001b[39;49m\n\u001b[1;32m     13\u001b[0m \u001b[43m                                    \u001b[49m\u001b[43m,\u001b[49m\u001b[43m \u001b[49m\u001b[43mlearning_rate\u001b[49m\u001b[43m \u001b[49m\u001b[38;5;241;43m=\u001b[39;49m\u001b[43m \u001b[49m\u001b[38;5;241;43m8.e-8\u001b[39;49m\u001b[43m)\u001b[49m\n\u001b[1;32m     14\u001b[0m trainer \u001b[38;5;241m=\u001b[39m pl\u001b[38;5;241m.\u001b[39mTrainer(fast_dev_run\u001b[38;5;241m=\u001b[39m\u001b[38;5;241m1\u001b[39m)\n\u001b[1;32m     15\u001b[0m output \u001b[38;5;241m=\u001b[39m trainer\u001b[38;5;241m.\u001b[39mtest(model\u001b[38;5;241m=\u001b[39mmodel, dataloaders\u001b[38;5;241m=\u001b[39mval_loader)\n",
      "File \u001b[0;32m~/Work/Projects/mimolm/venv/lib/python3.12/site-packages/lightning/pytorch/utilities/model_helpers.py:125\u001b[0m, in \u001b[0;36m_restricted_classmethod_impl.__get__.<locals>.wrapper\u001b[0;34m(*args, **kwargs)\u001b[0m\n\u001b[1;32m    120\u001b[0m \u001b[38;5;28;01mif\u001b[39;00m instance \u001b[38;5;129;01mis\u001b[39;00m \u001b[38;5;129;01mnot\u001b[39;00m \u001b[38;5;28;01mNone\u001b[39;00m \u001b[38;5;129;01mand\u001b[39;00m \u001b[38;5;129;01mnot\u001b[39;00m is_scripting:\n\u001b[1;32m    121\u001b[0m     \u001b[38;5;28;01mraise\u001b[39;00m \u001b[38;5;167;01mTypeError\u001b[39;00m(\n\u001b[1;32m    122\u001b[0m         \u001b[38;5;124mf\u001b[39m\u001b[38;5;124m\"\u001b[39m\u001b[38;5;124mThe classmethod `\u001b[39m\u001b[38;5;132;01m{\u001b[39;00m\u001b[38;5;28mcls\u001b[39m\u001b[38;5;241m.\u001b[39m\u001b[38;5;18m__name__\u001b[39m\u001b[38;5;132;01m}\u001b[39;00m\u001b[38;5;124m.\u001b[39m\u001b[38;5;132;01m{\u001b[39;00m\u001b[38;5;28mself\u001b[39m\u001b[38;5;241m.\u001b[39mmethod\u001b[38;5;241m.\u001b[39m\u001b[38;5;18m__name__\u001b[39m\u001b[38;5;132;01m}\u001b[39;00m\u001b[38;5;124m` cannot be called on an instance.\u001b[39m\u001b[38;5;124m\"\u001b[39m\n\u001b[1;32m    123\u001b[0m         \u001b[38;5;124m\"\u001b[39m\u001b[38;5;124m Please call it on the class type and make sure the return value is used.\u001b[39m\u001b[38;5;124m\"\u001b[39m\n\u001b[1;32m    124\u001b[0m     )\n\u001b[0;32m--> 125\u001b[0m \u001b[38;5;28;01mreturn\u001b[39;00m \u001b[38;5;28;43mself\u001b[39;49m\u001b[38;5;241;43m.\u001b[39;49m\u001b[43mmethod\u001b[49m\u001b[43m(\u001b[49m\u001b[38;5;28;43mcls\u001b[39;49m\u001b[43m,\u001b[49m\u001b[43m \u001b[49m\u001b[38;5;241;43m*\u001b[39;49m\u001b[43margs\u001b[49m\u001b[43m,\u001b[49m\u001b[43m \u001b[49m\u001b[38;5;241;43m*\u001b[39;49m\u001b[38;5;241;43m*\u001b[39;49m\u001b[43mkwargs\u001b[49m\u001b[43m)\u001b[49m\n",
      "File \u001b[0;32m~/Work/Projects/mimolm/venv/lib/python3.12/site-packages/lightning/pytorch/core/module.py:1581\u001b[0m, in \u001b[0;36mLightningModule.load_from_checkpoint\u001b[0;34m(cls, checkpoint_path, map_location, hparams_file, strict, **kwargs)\u001b[0m\n\u001b[1;32m   1492\u001b[0m \u001b[38;5;129m@_restricted_classmethod\u001b[39m\n\u001b[1;32m   1493\u001b[0m \u001b[38;5;28;01mdef\u001b[39;00m\u001b[38;5;250m \u001b[39m\u001b[38;5;21mload_from_checkpoint\u001b[39m(\n\u001b[1;32m   1494\u001b[0m     \u001b[38;5;28mcls\u001b[39m,\n\u001b[0;32m   (...)\u001b[0m\n\u001b[1;32m   1499\u001b[0m     \u001b[38;5;241m*\u001b[39m\u001b[38;5;241m*\u001b[39mkwargs: Any,\n\u001b[1;32m   1500\u001b[0m ) \u001b[38;5;241m-\u001b[39m\u001b[38;5;241m>\u001b[39m Self:\n\u001b[1;32m   1501\u001b[0m \u001b[38;5;250m    \u001b[39m\u001b[38;5;124mr\u001b[39m\u001b[38;5;124;03m\"\"\"Primary way of loading a model from a checkpoint. When Lightning saves a checkpoint it stores the arguments\u001b[39;00m\n\u001b[1;32m   1502\u001b[0m \u001b[38;5;124;03m    passed to ``__init__``  in the checkpoint under ``\"hyper_parameters\"``.\u001b[39;00m\n\u001b[1;32m   1503\u001b[0m \n\u001b[0;32m   (...)\u001b[0m\n\u001b[1;32m   1579\u001b[0m \n\u001b[1;32m   1580\u001b[0m \u001b[38;5;124;03m    \"\"\"\u001b[39;00m\n\u001b[0;32m-> 1581\u001b[0m     loaded \u001b[38;5;241m=\u001b[39m \u001b[43m_load_from_checkpoint\u001b[49m\u001b[43m(\u001b[49m\n\u001b[1;32m   1582\u001b[0m \u001b[43m        \u001b[49m\u001b[38;5;28;43mcls\u001b[39;49m\u001b[43m,\u001b[49m\n\u001b[1;32m   1583\u001b[0m \u001b[43m        \u001b[49m\u001b[43mcheckpoint_path\u001b[49m\u001b[43m,\u001b[49m\n\u001b[1;32m   1584\u001b[0m \u001b[43m        \u001b[49m\u001b[43mmap_location\u001b[49m\u001b[43m,\u001b[49m\n\u001b[1;32m   1585\u001b[0m \u001b[43m        \u001b[49m\u001b[43mhparams_file\u001b[49m\u001b[43m,\u001b[49m\n\u001b[1;32m   1586\u001b[0m \u001b[43m        \u001b[49m\u001b[43mstrict\u001b[49m\u001b[43m,\u001b[49m\n\u001b[1;32m   1587\u001b[0m \u001b[43m        \u001b[49m\u001b[38;5;241;43m*\u001b[39;49m\u001b[38;5;241;43m*\u001b[39;49m\u001b[43mkwargs\u001b[49m\u001b[43m,\u001b[49m\n\u001b[1;32m   1588\u001b[0m \u001b[43m    \u001b[49m\u001b[43m)\u001b[49m\n\u001b[1;32m   1589\u001b[0m     \u001b[38;5;28;01mreturn\u001b[39;00m cast(Self, loaded)\n",
      "File \u001b[0;32m~/Work/Projects/mimolm/venv/lib/python3.12/site-packages/lightning/pytorch/core/saving.py:91\u001b[0m, in \u001b[0;36m_load_from_checkpoint\u001b[0;34m(cls, checkpoint_path, map_location, hparams_file, strict, **kwargs)\u001b[0m\n\u001b[1;32m     89\u001b[0m     \u001b[38;5;28;01mreturn\u001b[39;00m _load_state(\u001b[38;5;28mcls\u001b[39m, checkpoint, \u001b[38;5;241m*\u001b[39m\u001b[38;5;241m*\u001b[39mkwargs)\n\u001b[1;32m     90\u001b[0m \u001b[38;5;28;01mif\u001b[39;00m \u001b[38;5;28missubclass\u001b[39m(\u001b[38;5;28mcls\u001b[39m, pl\u001b[38;5;241m.\u001b[39mLightningModule):\n\u001b[0;32m---> 91\u001b[0m     model \u001b[38;5;241m=\u001b[39m \u001b[43m_load_state\u001b[49m\u001b[43m(\u001b[49m\u001b[38;5;28;43mcls\u001b[39;49m\u001b[43m,\u001b[49m\u001b[43m \u001b[49m\u001b[43mcheckpoint\u001b[49m\u001b[43m,\u001b[49m\u001b[43m \u001b[49m\u001b[43mstrict\u001b[49m\u001b[38;5;241;43m=\u001b[39;49m\u001b[43mstrict\u001b[49m\u001b[43m,\u001b[49m\u001b[43m \u001b[49m\u001b[38;5;241;43m*\u001b[39;49m\u001b[38;5;241;43m*\u001b[39;49m\u001b[43mkwargs\u001b[49m\u001b[43m)\u001b[49m\n\u001b[1;32m     92\u001b[0m     state_dict \u001b[38;5;241m=\u001b[39m checkpoint[\u001b[38;5;124m\"\u001b[39m\u001b[38;5;124mstate_dict\u001b[39m\u001b[38;5;124m\"\u001b[39m]\n\u001b[1;32m     93\u001b[0m     \u001b[38;5;28;01mif\u001b[39;00m \u001b[38;5;129;01mnot\u001b[39;00m state_dict:\n",
      "File \u001b[0;32m~/Work/Projects/mimolm/venv/lib/python3.12/site-packages/lightning/pytorch/core/saving.py:165\u001b[0m, in \u001b[0;36m_load_state\u001b[0;34m(cls, checkpoint, strict, **cls_kwargs_new)\u001b[0m\n\u001b[1;32m    161\u001b[0m \u001b[38;5;28;01mif\u001b[39;00m \u001b[38;5;129;01mnot\u001b[39;00m cls_spec\u001b[38;5;241m.\u001b[39mvarkw:\n\u001b[1;32m    162\u001b[0m     \u001b[38;5;66;03m# filter kwargs according to class init unless it allows any argument via kwargs\u001b[39;00m\n\u001b[1;32m    163\u001b[0m     _cls_kwargs \u001b[38;5;241m=\u001b[39m {k: v \u001b[38;5;28;01mfor\u001b[39;00m k, v \u001b[38;5;129;01min\u001b[39;00m _cls_kwargs\u001b[38;5;241m.\u001b[39mitems() \u001b[38;5;28;01mif\u001b[39;00m k \u001b[38;5;129;01min\u001b[39;00m cls_init_args_name}\n\u001b[0;32m--> 165\u001b[0m obj \u001b[38;5;241m=\u001b[39m instantiator(\u001b[38;5;28mcls\u001b[39m, _cls_kwargs) \u001b[38;5;28;01mif\u001b[39;00m instantiator \u001b[38;5;28;01melse\u001b[39;00m \u001b[38;5;28;43mcls\u001b[39;49m\u001b[43m(\u001b[49m\u001b[38;5;241;43m*\u001b[39;49m\u001b[38;5;241;43m*\u001b[39;49m\u001b[43m_cls_kwargs\u001b[49m\u001b[43m)\u001b[49m\n\u001b[1;32m    167\u001b[0m \u001b[38;5;28;01mif\u001b[39;00m \u001b[38;5;28misinstance\u001b[39m(obj, pl\u001b[38;5;241m.\u001b[39mLightningDataModule):\n\u001b[1;32m    168\u001b[0m     \u001b[38;5;28;01mif\u001b[39;00m obj\u001b[38;5;241m.\u001b[39m\u001b[38;5;18m__class__\u001b[39m\u001b[38;5;241m.\u001b[39m\u001b[38;5;18m__qualname__\u001b[39m \u001b[38;5;129;01min\u001b[39;00m checkpoint:\n",
      "File \u001b[0;32m~/Work/Projects/mimolm/src/mimolm.py:94\u001b[0m, in \u001b[0;36mMimoLM.__init__\u001b[0;34m(self, data_size, n_rollouts, learning_rate, sampling_rate, n_targets, enc_dim, dec_dim, n_heads, n_layers, **kwargs)\u001b[0m\n\u001b[1;32m     70\u001b[0m \u001b[38;5;28mself\u001b[39m\u001b[38;5;241m.\u001b[39minput_projections \u001b[38;5;241m=\u001b[39m InputProjections(agent_attr_dim\u001b[38;5;241m=\u001b[39m\u001b[38;5;28mself\u001b[39m\u001b[38;5;241m.\u001b[39mpreprocessor\u001b[38;5;241m.\u001b[39mpre_2\u001b[38;5;241m.\u001b[39mmodel_kwargs[\u001b[38;5;124m\"\u001b[39m\u001b[38;5;124magent_attr_dim\u001b[39m\u001b[38;5;124m\"\u001b[39m],\n\u001b[1;32m     71\u001b[0m                             map_attr_dim\u001b[38;5;241m=\u001b[39m\u001b[38;5;28mself\u001b[39m\u001b[38;5;241m.\u001b[39mpreprocessor\u001b[38;5;241m.\u001b[39mpre_2\u001b[38;5;241m.\u001b[39mmodel_kwargs[\u001b[38;5;124m\"\u001b[39m\u001b[38;5;124mmap_attr_dim\u001b[39m\u001b[38;5;124m\"\u001b[39m],\n\u001b[1;32m     72\u001b[0m                             n_step_hist\u001b[38;5;241m=\u001b[39m\u001b[38;5;28mself\u001b[39m\u001b[38;5;241m.\u001b[39mpreprocessor\u001b[38;5;241m.\u001b[39mpre_2\u001b[38;5;241m.\u001b[39mmodel_kwargs[\u001b[38;5;124m\"\u001b[39m\u001b[38;5;124mn_step_hist\u001b[39m\u001b[38;5;124m\"\u001b[39m],\n\u001b[0;32m   (...)\u001b[0m\n\u001b[1;32m     79\u001b[0m                                         \u001b[38;5;124m\"\u001b[39m\u001b[38;5;124muse_batchnorm\u001b[39m\u001b[38;5;124m\"\u001b[39m : \u001b[38;5;28;01mFalse\u001b[39;00m,\n\u001b[1;32m     80\u001b[0m                                         \u001b[38;5;124m\"\u001b[39m\u001b[38;5;124mdropout_p\u001b[39m\u001b[38;5;124m\"\u001b[39m : \u001b[38;5;28;01mNone\u001b[39;00m,})\n\u001b[1;32m     82\u001b[0m \u001b[38;5;28mself\u001b[39m\u001b[38;5;241m.\u001b[39mencoder \u001b[38;5;241m=\u001b[39m EarlyFusionEncoder(hidden_dim\u001b[38;5;241m=\u001b[39menc_dim,\n\u001b[1;32m     83\u001b[0m                             tf_cfg\u001b[38;5;241m=\u001b[39m{\u001b[38;5;124m\"\u001b[39m\u001b[38;5;124mn_head\u001b[39m\u001b[38;5;124m\"\u001b[39m: n_heads,\n\u001b[1;32m     84\u001b[0m                                     \u001b[38;5;124m\"\u001b[39m\u001b[38;5;124mdropout_p\u001b[39m\u001b[38;5;124m\"\u001b[39m: \u001b[38;5;241m0.1\u001b[39m,\n\u001b[0;32m   (...)\u001b[0m\n\u001b[1;32m     91\u001b[0m                             n_latent_query\u001b[38;5;241m=\u001b[39menc_dim \u001b[38;5;241m-\u001b[39m \u001b[38;5;241m32\u001b[39m,\n\u001b[1;32m     92\u001b[0m                             n_encoder_layers\u001b[38;5;241m=\u001b[39mn_layers)  \n\u001b[0;32m---> 94\u001b[0m \u001b[38;5;28mself\u001b[39m\u001b[38;5;241m.\u001b[39mdecoder \u001b[38;5;241m=\u001b[39m \u001b[43mMotionDecoder\u001b[49m\u001b[43m(\u001b[49m\u001b[43mmax_delta\u001b[49m\u001b[43m \u001b[49m\u001b[38;5;241;43m=\u001b[39;49m\u001b[43m \u001b[49m\u001b[38;5;241;43m8.0\u001b[39;49m\u001b[43m,\u001b[49m\u001b[43m \u001b[49m\u001b[38;5;66;43;03m#meters\u001b[39;49;00m\n\u001b[1;32m     95\u001b[0m \u001b[43m                        \u001b[49m\u001b[43mn_quantization_bins\u001b[49m\u001b[43m \u001b[49m\u001b[38;5;241;43m=\u001b[39;49m\u001b[43m \u001b[49m\u001b[38;5;241;43m128\u001b[39;49m\u001b[43m,\u001b[49m\n\u001b[1;32m     96\u001b[0m \u001b[43m                        \u001b[49m\u001b[43mn_verlet_steps\u001b[49m\u001b[43m \u001b[49m\u001b[38;5;241;43m=\u001b[39;49m\u001b[43m \u001b[49m\u001b[38;5;241;43m13\u001b[39;49m\u001b[43m,\u001b[49m\n\u001b[1;32m     97\u001b[0m \u001b[43m                        \u001b[49m\u001b[43memb_dim\u001b[49m\u001b[43m \u001b[49m\u001b[38;5;241;43m=\u001b[39;49m\u001b[43m \u001b[49m\u001b[43mdec_dim\u001b[49m\u001b[43m,\u001b[49m\n\u001b[1;32m     98\u001b[0m \u001b[43m                        \u001b[49m\u001b[43menc_dim\u001b[49m\u001b[43m \u001b[49m\u001b[38;5;241;43m=\u001b[39;49m\u001b[43m \u001b[49m\u001b[43menc_dim\u001b[49m\u001b[43m,\u001b[49m\n\u001b[1;32m     99\u001b[0m \u001b[43m                        \u001b[49m\u001b[43msampling_rate\u001b[49m\u001b[43m \u001b[49m\u001b[38;5;241;43m=\u001b[39;49m\u001b[43m \u001b[49m\u001b[38;5;28;43mself\u001b[39;49m\u001b[38;5;241;43m.\u001b[39;49m\u001b[43msampling_rate\u001b[49m\u001b[43m,\u001b[49m\n\u001b[1;32m    100\u001b[0m \u001b[43m                        \u001b[49m\u001b[43mn_time_steps\u001b[49m\u001b[43m \u001b[49m\u001b[38;5;241;43m=\u001b[39;49m\u001b[43m \u001b[49m\u001b[38;5;241;43m110\u001b[39;49m\u001b[43m,\u001b[49m\n\u001b[1;32m    101\u001b[0m \u001b[43m                        \u001b[49m\u001b[43mn_target\u001b[49m\u001b[43m \u001b[49m\u001b[38;5;241;43m=\u001b[39;49m\u001b[43m \u001b[49m\u001b[38;5;28;43mself\u001b[39;49m\u001b[38;5;241;43m.\u001b[39;49m\u001b[43mn_targets\u001b[49m\u001b[43m,\u001b[49m\u001b[43m \u001b[49m\u001b[38;5;66;43;03m#should be same as AgentCentricProcessing\u001b[39;49;00m\n\u001b[1;32m    102\u001b[0m \u001b[43m                        \u001b[49m\u001b[43mtime_step_end\u001b[49m\u001b[43m \u001b[49m\u001b[38;5;241;43m=\u001b[39;49m\u001b[43m \u001b[49m\u001b[38;5;241;43m49\u001b[39;49m\u001b[43m,\u001b[49m\n\u001b[1;32m    103\u001b[0m \u001b[43m                        \u001b[49m\u001b[43mdropout_rate\u001b[49m\u001b[43m \u001b[49m\u001b[38;5;241;43m=\u001b[39;49m\u001b[43m \u001b[49m\u001b[38;5;241;43m0.2\u001b[39;49m\u001b[43m,\u001b[49m\n\u001b[1;32m    104\u001b[0m \u001b[43m                        \u001b[49m\u001b[43mn_rollouts\u001b[49m\u001b[43m \u001b[49m\u001b[38;5;241;43m=\u001b[39;49m\u001b[43m \u001b[49m\u001b[38;5;28;43mself\u001b[39;49m\u001b[38;5;241;43m.\u001b[39;49m\u001b[43mn_rollouts\u001b[49m\u001b[43m,\u001b[49m\n\u001b[1;32m    105\u001b[0m \u001b[43m                        \u001b[49m\u001b[43mn_heads\u001b[49m\u001b[43m \u001b[49m\u001b[38;5;241;43m=\u001b[39;49m\u001b[43m \u001b[49m\u001b[43mn_heads\u001b[49m\u001b[43m,\u001b[49m\n\u001b[1;32m    106\u001b[0m \u001b[43m                        \u001b[49m\u001b[43mn_layers\u001b[49m\u001b[43m \u001b[49m\u001b[38;5;241;43m=\u001b[39;49m\u001b[43m \u001b[49m\u001b[43mn_layers\u001b[49m\u001b[43m,\u001b[49m\u001b[43m)\u001b[49m\n\u001b[1;32m    108\u001b[0m \u001b[38;5;28mself\u001b[39m\u001b[38;5;241m.\u001b[39mcriterion \u001b[38;5;241m=\u001b[39m torch\u001b[38;5;241m.\u001b[39mnn\u001b[38;5;241m.\u001b[39mCrossEntropyLoss()\n",
      "File \u001b[0;32m~/Work/Projects/mimolm/src/mimolm.py:463\u001b[0m, in \u001b[0;36mMotionDecoder.__init__\u001b[0;34m(self, max_delta, sampling_rate, n_target, emb_dim, enc_dim, dropout_rate, n_rollouts, n_quantization_bins, n_verlet_steps, n_time_steps, time_step_end, n_heads, n_layers)\u001b[0m\n\u001b[1;32m    460\u001b[0m \u001b[38;5;28mself\u001b[39m\u001b[38;5;241m.\u001b[39mn_rollouts \u001b[38;5;241m=\u001b[39m n_rollouts\n\u001b[1;32m    461\u001b[0m \u001b[38;5;28mself\u001b[39m\u001b[38;5;241m.\u001b[39mn_heads \u001b[38;5;241m=\u001b[39m n_heads\n\u001b[0;32m--> 463\u001b[0m vocabulary, pos_bins, verlet_wrapper \u001b[38;5;241m=\u001b[39m \u001b[43mcreate_vocabulary\u001b[49m\u001b[43m(\u001b[49m\u001b[38;5;28;43mself\u001b[39;49m\u001b[38;5;241;43m.\u001b[39;49m\u001b[43mmax_delta\u001b[49m\u001b[43m,\u001b[49m\u001b[43m \u001b[49m\n\u001b[1;32m    464\u001b[0m \u001b[43m                                                        \u001b[49m\u001b[38;5;28;43mself\u001b[39;49m\u001b[38;5;241;43m.\u001b[39;49m\u001b[43mn_quantization_bins\u001b[49m\u001b[43m,\u001b[49m\u001b[43m \u001b[49m\n\u001b[1;32m    465\u001b[0m \u001b[43m                                                        \u001b[49m\u001b[38;5;28;43mself\u001b[39;49m\u001b[38;5;241;43m.\u001b[39;49m\u001b[43mn_verlet_steps\u001b[49m\u001b[43m)\u001b[49m\n\u001b[1;32m    466\u001b[0m \u001b[38;5;28mself\u001b[39m\u001b[38;5;241m.\u001b[39mregister_buffer(\u001b[38;5;124m\"\u001b[39m\u001b[38;5;124mmask_token\u001b[39m\u001b[38;5;124m\"\u001b[39m, n_verlet_steps \u001b[38;5;241m*\u001b[39m\u001b[38;5;241m*\u001b[39m \u001b[38;5;241m2\u001b[39m)\n\u001b[1;32m    467\u001b[0m \u001b[38;5;28mself\u001b[39m\u001b[38;5;241m.\u001b[39mregister_buffer(\u001b[38;5;124m\"\u001b[39m\u001b[38;5;124mvocabulary\u001b[39m\u001b[38;5;124m\"\u001b[39m, vocabulary)\n",
      "File \u001b[0;32m~/Work/Projects/mimolm/src/modeling/modules/lm_utils.py:51\u001b[0m, in \u001b[0;36mcreate_vocabulary\u001b[0;34m(max_delta, n_quantization_bins, n_verlet_steps)\u001b[0m\n\u001b[1;32m     48\u001b[0m     vocabulary[k] \u001b[38;5;241m=\u001b[39m [i \u001b[38;5;241m*\u001b[39m n_verlet_steps \u001b[38;5;241m+\u001b[39m j, i, j]\n\u001b[1;32m     49\u001b[0m     k\u001b[38;5;241m+\u001b[39m\u001b[38;5;241m=\u001b[39m\u001b[38;5;241m1\u001b[39m\n\u001b[0;32m---> 51\u001b[0m \u001b[38;5;28;01mreturn\u001b[39;00m \u001b[43mtorch\u001b[49m\u001b[38;5;241;43m.\u001b[39;49m\u001b[43mtensor\u001b[49m\u001b[43m(\u001b[49m\u001b[43mvocabulary\u001b[49m\u001b[43m)\u001b[49m, bins, verlet_wrapper\n",
      "\u001b[0;31mValueError\u001b[0m: expected sequence of length 3 at dim 1 (got 0)"
     ]
    }
   ],
   "source": [
    "from src.external.hptr.src.data_modules.data_h5_av2 import DataH5av2\n",
    "from src.mimolm import MimoLM\n",
    "from src.modeling.modules.lm_utils import interpolate_trajectory, cluster_rollouts, non_maximum_suppression\n",
    "\n",
    "torch.set_printoptions(sci_mode=False)\n",
    "data_module = DataH5av2(DATA_DIR)\n",
    "data_module.setup(stage=\"validate\")\n",
    "val_loader = data_module.val_dataloader()\n",
    "\n",
    "model = MimoLM.load_from_checkpoint(checkpoint_path=str(MODELS_DIR / \"v2Me59.ckpt\" )\n",
    "                                    , data_size=data_module.tensor_size_val\n",
    "                                    , n_rollouts = 64\n",
    "                                    , learning_rate = 8.e-8)\n",
    "trainer = pl.Trainer(fast_dev_run=1)\n",
    "output = trainer.test(model=model, dataloaders=val_loader)"
   ]
  },
  {
   "cell_type": "code",
   "execution_count": 13,
   "metadata": {},
   "outputs": [
    {
     "data": {
      "text/plain": [
       "tensor([[[[0.2900],\n",
       "          [0.6300],\n",
       "          [0.4900],\n",
       "          [0.5200],\n",
       "          [0.6900]],\n",
       "\n",
       "         [[0.9900],\n",
       "          [0.1900],\n",
       "          [0.9900],\n",
       "          [0.3200],\n",
       "          [0.9900]],\n",
       "\n",
       "         [[0.7900],\n",
       "          [0.9300],\n",
       "          [0.5500],\n",
       "          [0.4700],\n",
       "          [0.0800]]],\n",
       "\n",
       "\n",
       "        [[[0.7100],\n",
       "          [0.1900],\n",
       "          [0.2900],\n",
       "          [0.3100],\n",
       "          [0.3800]],\n",
       "\n",
       "         [[0.7100],\n",
       "          [0.0700],\n",
       "          [0.6800],\n",
       "          [0.3900],\n",
       "          [0.4900]],\n",
       "\n",
       "         [[0.5900],\n",
       "          [0.5000],\n",
       "          [0.0500],\n",
       "          [0.8100],\n",
       "          [0.1700]]]])"
      ]
     },
     "execution_count": 13,
     "metadata": {},
     "output_type": "execute_result"
    }
   ],
   "source": [
    "import torch\n",
    "\n",
    "token = torch.randint(100, (2, 3, 5, 1)) / 100.\n",
    "token"
   ]
  },
  {
   "cell_type": "code",
   "execution_count": 14,
   "metadata": {},
   "outputs": [
    {
     "name": "stdout",
     "output_type": "stream",
     "text": [
      "torch.Size([2, 15, 1])\n",
      "tensor([[[0.2900],\n",
      "         [0.6300],\n",
      "         [0.4900],\n",
      "         [0.5200],\n",
      "         [0.6900],\n",
      "         [0.9900],\n",
      "         [0.1900],\n",
      "         [0.9900],\n",
      "         [0.3200],\n",
      "         [0.9900],\n",
      "         [0.7900],\n",
      "         [0.9300],\n",
      "         [0.5500],\n",
      "         [0.4700],\n",
      "         [0.0800]],\n",
      "\n",
      "        [[0.7100],\n",
      "         [0.1900],\n",
      "         [0.2900],\n",
      "         [0.3100],\n",
      "         [0.3800],\n",
      "         [0.7100],\n",
      "         [0.0700],\n",
      "         [0.6800],\n",
      "         [0.3900],\n",
      "         [0.4900],\n",
      "         [0.5900],\n",
      "         [0.5000],\n",
      "         [0.0500],\n",
      "         [0.8100],\n",
      "         [0.1700]]])\n"
     ]
    }
   ],
   "source": [
    "motion_embeddings = token.flatten(1,2)\n",
    "print(motion_embeddings.shape)\n",
    "print(motion_embeddings)\n",
    "query = motion_embeddings"
   ]
  },
  {
   "cell_type": "code",
   "execution_count": 15,
   "metadata": {},
   "outputs": [
    {
     "name": "stdout",
     "output_type": "stream",
     "text": [
      "torch.Size([15, 15])\n",
      "tensor([[False,  True,  True,  True,  True, False,  True,  True,  True,  True,\n",
      "         False,  True,  True,  True,  True],\n",
      "        [False, False,  True,  True,  True, False, False,  True,  True,  True,\n",
      "         False, False,  True,  True,  True],\n",
      "        [False, False, False,  True,  True, False, False, False,  True,  True,\n",
      "         False, False, False,  True,  True],\n",
      "        [False, False, False, False,  True, False, False, False, False,  True,\n",
      "         False, False, False, False,  True],\n",
      "        [False, False, False, False, False, False, False, False, False, False,\n",
      "         False, False, False, False, False],\n",
      "        [False,  True,  True,  True,  True, False,  True,  True,  True,  True,\n",
      "         False,  True,  True,  True,  True],\n",
      "        [False, False,  True,  True,  True, False, False,  True,  True,  True,\n",
      "         False, False,  True,  True,  True],\n",
      "        [False, False, False,  True,  True, False, False, False,  True,  True,\n",
      "         False, False, False,  True,  True],\n",
      "        [False, False, False, False,  True, False, False, False, False,  True,\n",
      "         False, False, False, False,  True],\n",
      "        [False, False, False, False, False, False, False, False, False, False,\n",
      "         False, False, False, False, False],\n",
      "        [False,  True,  True,  True,  True, False,  True,  True,  True,  True,\n",
      "         False,  True,  True,  True,  True],\n",
      "        [False, False,  True,  True,  True, False, False,  True,  True,  True,\n",
      "         False, False,  True,  True,  True],\n",
      "        [False, False, False,  True,  True, False, False, False,  True,  True,\n",
      "         False, False, False,  True,  True],\n",
      "        [False, False, False, False,  True, False, False, False, False,  True,\n",
      "         False, False, False, False,  True],\n",
      "        [False, False, False, False, False, False, False, False, False, False,\n",
      "         False, False, False, False, False]])\n"
     ]
    }
   ],
   "source": [
    "from src.modeling.modules.lm_utils import get_attention_mask\n",
    "\n",
    "attn_mask = get_attention_mask(5, query.shape[1])\n",
    "print(attn_mask.shape)\n",
    "print(attn_mask)"
   ]
  },
  {
   "cell_type": "code",
   "execution_count": 33,
   "metadata": {},
   "outputs": [
    {
     "name": "stdout",
     "output_type": "stream",
     "text": [
      "torch.Size([2, 15])\n",
      "tensor([[0, 0, 1, 0, 1, 1, 1, 1, 0, 0, 0, 1, 0, 1, 0],\n",
      "        [0, 0, 1, 0, 1, 1, 1, 1, 1, 1, 1, 0, 0, 0, 0]])\n"
     ]
    }
   ],
   "source": [
    "padding_mask = torch.randint(0, 2, [2, 3, 5]).flatten(1, -1)\n",
    "print(padding_mask.shape)\n",
    "print(padding_mask)"
   ]
  },
  {
   "cell_type": "code",
   "execution_count": 21,
   "metadata": {},
   "outputs": [],
   "source": [
    "import torch.nn as nn\n",
    "\n",
    "self_attn = nn.MultiheadAttention(embed_dim = 1, num_heads = 1, batch_first=True)"
   ]
  },
  {
   "cell_type": "code",
   "execution_count": 34,
   "metadata": {},
   "outputs": [
    {
     "name": "stdout",
     "output_type": "stream",
     "text": [
      "torch.Size([2, 15, 1])\n",
      "tensor([[[0.1288],\n",
      "         [0.1348],\n",
      "         [0.1352],\n",
      "         [0.1235],\n",
      "         [0.1198],\n",
      "         [0.1228],\n",
      "         [0.1375],\n",
      "         [0.1329],\n",
      "         [0.1243],\n",
      "         [0.1167],\n",
      "         [0.1245],\n",
      "         [0.1329],\n",
      "         [0.1349],\n",
      "         [0.1237],\n",
      "         [0.1260]],\n",
      "\n",
      "        [[0.1727],\n",
      "         [0.1123],\n",
      "         [0.0855],\n",
      "         [0.1010],\n",
      "         [0.0915],\n",
      "         [0.1727],\n",
      "         [0.1131],\n",
      "         [0.0819],\n",
      "         [0.1002],\n",
      "         [0.0904],\n",
      "         [0.1727],\n",
      "         [0.1103],\n",
      "         [0.0877],\n",
      "         [0.0960],\n",
      "         [0.0935]]], grad_fn=<TransposeBackward0>)\n"
     ]
    }
   ],
   "source": [
    "attn_out_1, _ = self_attn(query, query, query, attn_mask=attn_mask, key_padding_mask = padding_mask.bool())\n",
    "print(attn_out_1.shape)\n",
    "print(attn_out_1)"
   ]
  },
  {
   "cell_type": "code",
   "execution_count": 10,
   "metadata": {},
   "outputs": [
    {
     "name": "stdout",
     "output_type": "stream",
     "text": [
      "torch.Size([6, 5, 1])\n",
      "tensor([[[-0.0537],\n",
      "         [-0.0602],\n",
      "         [-0.0839],\n",
      "         [-0.0966],\n",
      "         [-0.1006]],\n",
      "\n",
      "        [[-0.0534],\n",
      "         [-0.0605],\n",
      "         [-0.0844],\n",
      "         [-0.0968],\n",
      "         [-0.1008]],\n",
      "\n",
      "        [[-0.0532],\n",
      "         [-0.0606],\n",
      "         [-0.0843],\n",
      "         [-0.0967],\n",
      "         [-0.1008]],\n",
      "\n",
      "        [[-0.0551],\n",
      "         [-0.0532],\n",
      "         [-0.0714],\n",
      "         [-0.0936],\n",
      "         [-0.0828]],\n",
      "\n",
      "        [[-0.0553],\n",
      "         [-0.0533],\n",
      "         [-0.0723],\n",
      "         [-0.0931],\n",
      "         [-0.0825]],\n",
      "\n",
      "        [[-0.0552],\n",
      "         [-0.0532],\n",
      "         [-0.0727],\n",
      "         [-0.0934],\n",
      "         [-0.0826]]], grad_fn=<UnsafeViewBackward0>)\n"
     ]
    }
   ],
   "source": [
    "attn_out_2 = attn_out_1.unflatten(dim=1, sizes=(3, 5)).flatten(0, 1)\n",
    "print(attn_out_2.shape)\n",
    "print(attn_out_2)"
   ]
  },
  {
   "cell_type": "code",
   "execution_count": 11,
   "metadata": {},
   "outputs": [
    {
     "data": {
      "text/plain": [
       "tensor([[[0.9000],\n",
       "         [0.5100],\n",
       "         [0.2600],\n",
       "         [0.2400],\n",
       "         [0.4700],\n",
       "         [0.8200],\n",
       "         [0.0900],\n",
       "         [0.7400],\n",
       "         [0.8800],\n",
       "         [0.7900]],\n",
       "\n",
       "        [[0.8700],\n",
       "         [0.1100],\n",
       "         [0.9900],\n",
       "         [0.6200],\n",
       "         [0.3300],\n",
       "         [0.2100],\n",
       "         [0.7300],\n",
       "         [0.4600],\n",
       "         [0.8400],\n",
       "         [0.7100]],\n",
       "\n",
       "        [[0.1400],\n",
       "         [0.9400],\n",
       "         [0.3500],\n",
       "         [0.8800],\n",
       "         [0.9200],\n",
       "         [0.7500],\n",
       "         [0.0600],\n",
       "         [0.3700],\n",
       "         [0.7800],\n",
       "         [0.9900]],\n",
       "\n",
       "        [[0.5700],\n",
       "         [0.8500],\n",
       "         [0.7900],\n",
       "         [0.5300],\n",
       "         [0.1200],\n",
       "         [0.1300],\n",
       "         [0.8700],\n",
       "         [0.5700],\n",
       "         [0.4700],\n",
       "         [0.6300]],\n",
       "\n",
       "        [[0.6900],\n",
       "         [0.8000],\n",
       "         [0.1600],\n",
       "         [0.8700],\n",
       "         [0.8400],\n",
       "         [0.7300],\n",
       "         [0.2600],\n",
       "         [0.6700],\n",
       "         [0.8600],\n",
       "         [0.2500]],\n",
       "\n",
       "        [[0.6400],\n",
       "         [0.0100],\n",
       "         [0.9700],\n",
       "         [0.1800],\n",
       "         [0.3200],\n",
       "         [0.2900],\n",
       "         [0.9300],\n",
       "         [0.7200],\n",
       "         [0.9600],\n",
       "         [0.8400]]])"
      ]
     },
     "execution_count": 11,
     "metadata": {},
     "output_type": "execute_result"
    }
   ],
   "source": [
    "fused_emb = torch.randint(100, (6, 10, 1)) / 100.\n",
    "fused_emb"
   ]
  },
  {
   "cell_type": "code",
   "execution_count": 12,
   "metadata": {},
   "outputs": [],
   "source": [
    "cross_attn = nn.MultiheadAttention(embed_dim = 1, num_heads = 1, batch_first=True)"
   ]
  },
  {
   "cell_type": "code",
   "execution_count": 13,
   "metadata": {},
   "outputs": [
    {
     "name": "stdout",
     "output_type": "stream",
     "text": [
      "torch.Size([6, 5, 1])\n",
      "tensor([[[0.3561],\n",
      "         [0.3561],\n",
      "         [0.3563],\n",
      "         [0.3565],\n",
      "         [0.3565]],\n",
      "\n",
      "        [[0.3667],\n",
      "         [0.3667],\n",
      "         [0.3670],\n",
      "         [0.3671],\n",
      "         [0.3671]],\n",
      "\n",
      "        [[0.3862],\n",
      "         [0.3863],\n",
      "         [0.3866],\n",
      "         [0.3868],\n",
      "         [0.3868]],\n",
      "\n",
      "        [[0.3454],\n",
      "         [0.3453],\n",
      "         [0.3455],\n",
      "         [0.3456],\n",
      "         [0.3456]],\n",
      "\n",
      "        [[0.3828],\n",
      "         [0.3828],\n",
      "         [0.3830],\n",
      "         [0.3831],\n",
      "         [0.3831]],\n",
      "\n",
      "        [[0.3663],\n",
      "         [0.3663],\n",
      "         [0.3665],\n",
      "         [0.3668],\n",
      "         [0.3667]]], grad_fn=<TransposeBackward0>)\n"
     ]
    }
   ],
   "source": [
    "query, _ = cross_attn(attn_out_2, fused_emb, fused_emb)\n",
    "print(query.shape)\n",
    "print(query)"
   ]
  },
  {
   "cell_type": "code",
   "execution_count": 14,
   "metadata": {},
   "outputs": [
    {
     "name": "stdout",
     "output_type": "stream",
     "text": [
      "torch.Size([2, 15, 1])\n",
      "tensor([[[0.3561],\n",
      "         [0.3561],\n",
      "         [0.3563],\n",
      "         [0.3565],\n",
      "         [0.3565],\n",
      "         [0.3667],\n",
      "         [0.3667],\n",
      "         [0.3670],\n",
      "         [0.3671],\n",
      "         [0.3671],\n",
      "         [0.3862],\n",
      "         [0.3863],\n",
      "         [0.3866],\n",
      "         [0.3868],\n",
      "         [0.3868]],\n",
      "\n",
      "        [[0.3454],\n",
      "         [0.3453],\n",
      "         [0.3455],\n",
      "         [0.3456],\n",
      "         [0.3456],\n",
      "         [0.3828],\n",
      "         [0.3828],\n",
      "         [0.3830],\n",
      "         [0.3831],\n",
      "         [0.3831],\n",
      "         [0.3663],\n",
      "         [0.3663],\n",
      "         [0.3665],\n",
      "         [0.3668],\n",
      "         [0.3667]]], grad_fn=<UnsafeViewBackward0>)\n"
     ]
    }
   ],
   "source": [
    "query = query.unflatten(dim=0, sizes=(2, 3)).flatten(1, 2)\n",
    "print(query.shape)\n",
    "print(query)"
   ]
  },
  {
   "cell_type": "code",
   "execution_count": 49,
   "metadata": {},
   "outputs": [
    {
     "data": {
      "text/plain": [
       "torch.Size([198, 1])"
      ]
     },
     "execution_count": 49,
     "metadata": {},
     "output_type": "execute_result"
    }
   ],
   "source": [
    "target_valid = torch.randint(0, 2, [2, 8, 25])\n",
    "if target_valid.shape[-1] != 55:\n",
    "    target_valid = torch.cat([target_valid, torch.ones([2, 8, 55 - target_valid.shape[-1]])], dim=-1)\n",
    "torch.randn([2, 8, 55, 1])[~target_valid.bool()].shape"
   ]
  },
  {
   "cell_type": "code",
   "execution_count": null,
   "metadata": {},
   "outputs": [],
   "source": []
  }
 ],
 "metadata": {
  "kernelspec": {
   "display_name": "venv",
   "language": "python",
   "name": "python3"
  },
  "language_info": {
   "codemirror_mode": {
    "name": "ipython",
    "version": 3
   },
   "file_extension": ".py",
   "mimetype": "text/x-python",
   "name": "python",
   "nbconvert_exporter": "python",
   "pygments_lexer": "ipython3",
   "version": "3.12.3"
  }
 },
 "nbformat": 4,
 "nbformat_minor": 2
}
