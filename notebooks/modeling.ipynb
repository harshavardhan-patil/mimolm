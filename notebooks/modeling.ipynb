{
 "cells": [
  {
   "cell_type": "code",
   "execution_count": 1,
   "metadata": {},
   "outputs": [
    {
     "name": "stderr",
     "output_type": "stream",
     "text": [
      "\u001b[32m2025-02-04 22:17:07.128\u001b[0m | \u001b[1mINFO    \u001b[0m | \u001b[36msrc.config\u001b[0m:\u001b[36m<module>\u001b[0m:\u001b[36m11\u001b[0m - \u001b[1mPROJ_ROOT path is: /home/harshavardhan-patil/Work/Projects/mimolm\u001b[0m\n",
      "/home/harshavardhan-patil/Work/Projects/mimolm/venv/lib/python3.12/site-packages/tqdm/auto.py:21: TqdmWarning: IProgress not found. Please update jupyter and ipywidgets. See https://ipywidgets.readthedocs.io/en/stable/user_install.html\n",
      "  from .autonotebook import tqdm as notebook_tqdm\n"
     ]
    },
    {
     "name": "stdout",
     "output_type": "stream",
     "text": [
      "/home/harshavardhan-patil/Work/Projects/mimolm/notebooks\n"
     ]
    }
   ],
   "source": [
    "import sys\n",
    "from pathlib import Path\n",
    "from os.path  import join\n",
    "from src.config import DATA_DIR, CONFIG_DIR\n",
    "from omegaconf import OmegaConf\n",
    "from src.external.hptr.src.data_modules.agent_centric import AgentCentricPreProcessing\n",
    "from src.external.hptr.src.data_modules.ac_global import AgentCentricGlobal\n",
    "from src.mimolm import InputProjections, EarlyFusionEncoder, MotionDecoder\n",
    "import torch\n",
    "import torch.nn.functional as F\n",
    "import lightning as pl\n",
    "\n",
    "# Add the project root to sys.path\n",
    "project_root = Path().resolve().parent  # Adjust as needed to point to the root folder\n",
    "sys.path.append(str(project_root))\n",
    "\n",
    "print(Path.cwd())  # Check if the path is added"
   ]
  },
  {
   "cell_type": "code",
   "execution_count": 2,
   "metadata": {},
   "outputs": [
    {
     "name": "stderr",
     "output_type": "stream",
     "text": [
      "GPU available: True (cuda), used: True\n",
      "TPU available: False, using: 0 TPU cores\n",
      "HPU available: False, using: 0 HPUs\n",
      "/home/harshavardhan-patil/Work/Projects/mimolm/venv/lib/python3.12/site-packages/lightning/pytorch/trainer/connectors/logger_connector/logger_connector.py:76: Starting from v1.9.0, `tensorboardX` has been removed as a dependency of the `lightning.pytorch` package, due to potential conflicts with other packages in the ML ecosystem. For this reason, `logger=True` will use `CSVLogger` as the default logger, unless the `tensorboard` or `tensorboardX` packages are found. Please `pip install lightning[extra]` or one of them to enable TensorBoard support by default\n",
      "Running in `fast_dev_run` mode: will run the requested loop using 1 batch(es). Logging and checkpointing is suppressed.\n",
      "You are using a CUDA device ('NVIDIA GeForce RTX 3060 Laptop GPU') that has Tensor Cores. To properly utilize them, you should set `torch.set_float32_matmul_precision('medium' | 'high')` which will trade-off precision for performance. For more details, read https://pytorch.org/docs/stable/generated/torch.set_float32_matmul_precision.html#torch.set_float32_matmul_precision\n",
      "LOCAL_RANK: 0 - CUDA_VISIBLE_DEVICES: [0]\n",
      "\n",
      "  | Name              | Type               | Params | Mode \n",
      "-----------------------------------------------------------------\n",
      "0 | preprocessor      | Sequential         | 0      | train\n",
      "1 | input_projections | InputProjections   | 443 K  | train\n",
      "2 | encoder           | EarlyFusionEncoder | 2.4 M  | train\n",
      "3 | decoder           | MotionDecoder      | 2.2 M  | train\n",
      "4 | logsoftmax        | LogSoftmax         | 0      | train\n",
      "5 | criterion         | NLLLoss            | 0      | train\n",
      "-----------------------------------------------------------------\n",
      "5.1 M     Trainable params\n",
      "0         Non-trainable params\n",
      "5.1 M     Total params\n",
      "20.287    Total estimated model params size (MB)\n",
      "104       Modules in train mode\n",
      "0         Modules in eval mode\n"
     ]
    },
    {
     "name": "stdout",
     "output_type": "stream",
     "text": [
      "Epoch 0: 100%|██████████| 1/1 [00:00<00:00,  1.51it/s]"
     ]
    },
    {
     "name": "stderr",
     "output_type": "stream",
     "text": [
      "/home/harshavardhan-patil/Work/Projects/mimolm/venv/lib/python3.12/site-packages/lightning/pytorch/utilities/data.py:79: Trying to infer the `batch_size` from an ambiguous collection. The batch size we found is 2. To avoid any miscalculations, use `self.log(..., batch_size=batch_size)`.\n"
     ]
    },
    {
     "name": "stdout",
     "output_type": "stream",
     "text": [
      "Epoch 0: 100%|██████████| 1/1 [00:01<00:00,  0.69it/s, val_loss=4.630, train_loss=5.140]"
     ]
    },
    {
     "name": "stderr",
     "output_type": "stream",
     "text": [
      "`Trainer.fit` stopped: `max_steps=1` reached.\n"
     ]
    },
    {
     "name": "stdout",
     "output_type": "stream",
     "text": [
      "Epoch 0: 100%|██████████| 1/1 [00:01<00:00,  0.69it/s, val_loss=4.630, train_loss=5.140]\n"
     ]
    }
   ],
   "source": [
    "from src.external.hptr.src.data_modules.data_h5_av2 import DataH5av2\n",
    "from src.mimolm import MimoLM\n",
    "\n",
    "data_module = DataH5av2(DATA_DIR / \"interim\" / \"train\")\n",
    "data_module.setup(stage=\"fit\")\n",
    "train_loader = data_module.train_dataloader()\n",
    "val_loader = data_module.val_dataloader()\n",
    "\n",
    "model = MimoLM(data_size=data_module.tensor_size_val)\n",
    "\n",
    "trainer = pl.Trainer(fast_dev_run=1,)\n",
    "trainer.fit(model=model, train_dataloaders=train_loader, val_dataloaders=val_loader)"
   ]
  },
  {
   "cell_type": "code",
   "execution_count": 26,
   "metadata": {},
   "outputs": [
    {
     "data": {
      "text/plain": [
       "tensor([129, 111, 137, 136,  95, 108,  83,   1,  88, 156, 126,  43,  80,  70,\n",
       "         73, 153])"
      ]
     },
     "execution_count": 26,
     "metadata": {},
     "output_type": "execute_result"
    }
   ],
   "source": [
    "import torch.nn.functional as F\n",
    "F.softmax(torch.rand((16, 55, 169))[:, -1], dim=-1).argmax(dim=1)"
   ]
  },
  {
   "cell_type": "code",
   "execution_count": 4,
   "metadata": {},
   "outputs": [],
   "source": [
    "from src.modeling.modules import lm_utils\n",
    "\n",
    "_, pos_bins, verlet_wrapper = lm_utils.create_vocabulary(max_delta=9, n_quantization_bins=128, n_verlet_steps=13)"
   ]
  },
  {
   "cell_type": "code",
   "execution_count": 5,
   "metadata": {},
   "outputs": [
    {
     "data": {
      "text/plain": [
       "tensor([[-9.0000, -8.8583, -8.7165, -8.5748, -8.4331, -8.2913, -8.1496, -8.0079,\n",
       "         -7.8661, -7.7244, -7.5827, -7.4409, -7.2992, -7.1575, -7.0157, -6.8740,\n",
       "         -6.7323, -6.5906, -6.4488, -6.3071, -6.1654, -6.0236, -5.8819, -5.7402,\n",
       "         -5.5984, -5.4567, -5.3150, -5.1732, -5.0315, -4.8898, -4.7480, -4.6063,\n",
       "         -4.4646, -4.3228, -4.1811, -4.0394, -3.8976, -3.7559, -3.6142, -3.4724,\n",
       "         -3.3307, -3.1890, -3.0472, -2.9055, -2.7638, -2.6220, -2.4803, -2.3386,\n",
       "         -2.1969, -2.0551, -1.9134, -1.7717, -1.6299, -1.4882, -1.3465, -1.2047,\n",
       "         -1.0630, -0.9213, -0.7795, -0.6378, -0.4961, -0.3543, -0.2126, -0.0709,\n",
       "          0.0709,  0.2126,  0.3543,  0.4961,  0.6378,  0.7795,  0.9213,  1.0630,\n",
       "          1.2047,  1.3465,  1.4882,  1.6299,  1.7717,  1.9134,  2.0551,  2.1969,\n",
       "          2.3386,  2.4803,  2.6220,  2.7638,  2.9055,  3.0472,  3.1890,  3.3307,\n",
       "          3.4724,  3.6142,  3.7559,  3.8976,  4.0394,  4.1811,  4.3228,  4.4646,\n",
       "          4.6063,  4.7480,  4.8898,  5.0315,  5.1732,  5.3150,  5.4567,  5.5984,\n",
       "          5.7402,  5.8819,  6.0236,  6.1654,  6.3071,  6.4488,  6.5906,  6.7323,\n",
       "          6.8740,  7.0157,  7.1575,  7.2992,  7.4409,  7.5827,  7.7244,  7.8661,\n",
       "          8.0079,  8.1496,  8.2913,  8.4331,  8.5748,  8.7165,  8.8583,  9.0000],\n",
       "        [-9.0000, -8.8583, -8.7165, -8.5748, -8.4331, -8.2913, -8.1496, -8.0079,\n",
       "         -7.8661, -7.7244, -7.5827, -7.4409, -7.2992, -7.1575, -7.0157, -6.8740,\n",
       "         -6.7323, -6.5906, -6.4488, -6.3071, -6.1654, -6.0236, -5.8819, -5.7402,\n",
       "         -5.5984, -5.4567, -5.3150, -5.1732, -5.0315, -4.8898, -4.7480, -4.6063,\n",
       "         -4.4646, -4.3228, -4.1811, -4.0394, -3.8976, -3.7559, -3.6142, -3.4724,\n",
       "         -3.3307, -3.1890, -3.0472, -2.9055, -2.7638, -2.6220, -2.4803, -2.3386,\n",
       "         -2.1969, -2.0551, -1.9134, -1.7717, -1.6299, -1.4882, -1.3465, -1.2047,\n",
       "         -1.0630, -0.9213, -0.7795, -0.6378, -0.4961, -0.3543, -0.2126, -0.0709,\n",
       "          0.0709,  0.2126,  0.3543,  0.4961,  0.6378,  0.7795,  0.9213,  1.0630,\n",
       "          1.2047,  1.3465,  1.4882,  1.6299,  1.7717,  1.9134,  2.0551,  2.1969,\n",
       "          2.3386,  2.4803,  2.6220,  2.7638,  2.9055,  3.0472,  3.1890,  3.3307,\n",
       "          3.4724,  3.6142,  3.7559,  3.8976,  4.0394,  4.1811,  4.3228,  4.4646,\n",
       "          4.6063,  4.7480,  4.8898,  5.0315,  5.1732,  5.3150,  5.4567,  5.5984,\n",
       "          5.7402,  5.8819,  6.0236,  6.1654,  6.3071,  6.4488,  6.5906,  6.7323,\n",
       "          6.8740,  7.0157,  7.1575,  7.2992,  7.4409,  7.5827,  7.7244,  7.8661,\n",
       "          8.0079,  8.1496,  8.2913,  8.4331,  8.5748,  8.7165,  8.8583,  9.0000]])"
      ]
     },
     "execution_count": 5,
     "metadata": {},
     "output_type": "execute_result"
    }
   ],
   "source": [
    "pos_bins"
   ]
  },
  {
   "cell_type": "code",
   "execution_count": 8,
   "metadata": {},
   "outputs": [
    {
     "data": {
      "text/plain": [
       "tensor([-5.3150, -4.4646,  2.9055])"
      ]
     },
     "execution_count": 8,
     "metadata": {},
     "output_type": "execute_result"
    }
   ],
   "source": [
    "pos_bins[0][[26, 32, 84]]"
   ]
  },
  {
   "cell_type": "code",
   "execution_count": 7,
   "metadata": {},
   "outputs": [
    {
     "data": {
      "text/plain": [
       "tensor([-6., -5., -4., -3., -2., -1.,  0.,  1.,  2.,  3.,  4.,  5.,  6.])"
      ]
     },
     "execution_count": 7,
     "metadata": {},
     "output_type": "execute_result"
    }
   ],
   "source": [
    "verlet_wrapper"
   ]
  },
  {
   "cell_type": "code",
   "execution_count": 29,
   "metadata": {},
   "outputs": [
    {
     "data": {
      "text/plain": [
       "tensor([[[-3.,  4.],\n",
       "         [-2.,  5.],\n",
       "         [-1., -4.],\n",
       "         [ 2., -3.],\n",
       "         [-5., -6.],\n",
       "         [ 0., -1.],\n",
       "         [ 4.,  6.],\n",
       "         [ 6., -2.]],\n",
       "\n",
       "        [[ 6.,  0.],\n",
       "         [ 6., -5.],\n",
       "         [-3.,  0.],\n",
       "         [-4.,  2.],\n",
       "         [ 2., -1.],\n",
       "         [ 1., -4.],\n",
       "         [-4., -1.],\n",
       "         [ 2., -3.]]])"
      ]
     },
     "execution_count": 29,
     "metadata": {},
     "output_type": "execute_result"
    }
   ],
   "source": [
    "#lasttoken = 2, 8, 2\n",
    "verlet_wrapper[torch.randint(low=0, high=13, size=[16, 3])[:, 1:].unflatten(dim=0, sizes=(2, 8))]\n"
   ]
  },
  {
   "cell_type": "code",
   "execution_count": 20,
   "metadata": {},
   "outputs": [
    {
     "ename": "NameError",
     "evalue": "name 'hjask' is not defined",
     "output_type": "error",
     "traceback": [
      "\u001b[0;31m---------------------------------------------------------------------------\u001b[0m",
      "\u001b[0;31mNameError\u001b[0m                                 Traceback (most recent call last)",
      "Cell \u001b[0;32mIn[20], line 1\u001b[0m\n\u001b[0;32m----> 1\u001b[0m \u001b[43mhjask\u001b[49m\n",
      "\u001b[0;31mNameError\u001b[0m: name 'hjask' is not defined"
     ]
    }
   ],
   "source": [
    "hjask"
   ]
  },
  {
   "cell_type": "code",
   "execution_count": 2,
   "metadata": {},
   "outputs": [],
   "source": [
    "from src.external.hptr.src.data_modules.data_h5_av2 import DataH5av2\n",
    "\n",
    "data_module = DataH5av2(DATA_DIR / \"interim\" / \"train\" )\n",
    "data_module.setup(stage=\"fit\")\n",
    "dl = data_module.train_dataloader()"
   ]
  },
  {
   "cell_type": "code",
   "execution_count": 3,
   "metadata": {},
   "outputs": [
    {
     "name": "stdout",
     "output_type": "stream",
     "text": [
      "Input projections parameters: 0.47M\n",
      "Encoder parameters: 2.42M\n",
      "Decoder parameters: 1.63M\n"
     ]
    }
   ],
   "source": [
    "from src.mimolm import MimoLM\n",
    "\n",
    "model = MimoLM(data_size=data_module.tensor_size_train)"
   ]
  },
  {
   "cell_type": "code",
   "execution_count": 16,
   "metadata": {},
   "outputs": [],
   "source": [
    "from src.modeling.modules.lm_utils import tokenize_motion\n",
    "\n",
    "#dic = OmegaConf.load(Path(CONFIG_DIR / \"model/ac_wayformer.yaml\"))\n",
    "episode = None\n",
    "fmask = None\n",
    "prepreprocess = AgentCentricPreProcessing(time_step_current=49, \n",
    "                                          data_size=data_module.tensor_size_train, \n",
    "                                          n_target=8,\n",
    "                                          n_other=48,\n",
    "                                          n_map=512,\n",
    "                                          mask_invalid=False)\n",
    "\n",
    "preprocess = AgentCentricGlobal(time_step_current=49,\n",
    "                                data_size=data_module.tensor_size_train,\n",
    "                                dropout_p_history=0.15, \n",
    "                                add_ohe=True,\n",
    "                                pl_aggr=False,\n",
    "                                pose_pe= {\"agent\": \"xy_dir\",\n",
    "                                        \"map\": \"mpa_pl\"})\n",
    "\n",
    "inputproj = InputProjections(hidden_dim=256,\n",
    "                             agent_attr_dim=preprocess.model_kwargs[\"agent_attr_dim\"],\n",
    "                             map_attr_dim=preprocess.model_kwargs[\"map_attr_dim\"],\n",
    "                             n_step_hist=preprocess.model_kwargs[\"n_step_hist\"],\n",
    "                             n_pl_node=preprocess.model_kwargs[\"n_pl_node\"],\n",
    "                             add_learned_pe=True,\n",
    "                             n_layer_mlp=3,\n",
    "                             mlp_cfg={\"end_layer_activation\" : True,\n",
    "                                        \"use_layernorm\" :  False,\n",
    "                                        \"use_batchnorm\" : False,\n",
    "                                        \"dropout_p\" : None,})\n",
    "\n",
    "encoder = EarlyFusionEncoder(hidden_dim=256,\n",
    "                             tf_cfg={\"n_head\": 4,\n",
    "                                     \"dropout_p\": 0.1,\n",
    "                                     \"norm_first\": True,\n",
    "                                     \"bias\": True},\n",
    "                             latent_query={\"use_agent_type\": False,\n",
    "                                           \"mode_emb\": \"none\", # linear, mlp, add, none\n",
    "                                           \"mode_init\": \"xavier\", # uniform, xavier\n",
    "                                           \"scale\": 5.0},\n",
    "                             n_latent_query=192,\n",
    "                             n_encoder_layers=2)  \n",
    "\n",
    "decoder = MotionDecoder()\n",
    "logsoftmax = torch.nn.LogSoftmax(dim=-1)\n",
    "loss_fn = torch.nn.NLLLoss()"
   ]
  },
  {
   "cell_type": "code",
   "execution_count": 19,
   "metadata": {},
   "outputs": [
    {
     "name": "stdout",
     "output_type": "stream",
     "text": [
      "torch.Size([2, 8, 110])\n",
      "tensor(5.1317, grad_fn=<NllLossBackward0>)\n"
     ]
    }
   ],
   "source": [
    "f = None\n",
    "femb = None\n",
    "a = None\n",
    "l = None\n",
    "for batch in dl:\n",
    "    batch = prepreprocess(batch=batch)\n",
    "    batch = preprocess(batch=batch)\n",
    "    actuals = tokenize_motion(batch[\"gt/pos\"],\n",
    "                            decoder.pos_bins, \n",
    "                            decoder.verlet_wrapper, \n",
    "                            decoder.n_verlet_steps, \n",
    "                            decoder.n_time_steps)\n",
    "    a = actuals\n",
    "    motion_tokens = torch.cat((batch[\"ac/target_pos\"], batch[\"gt/pos\"]), dim = -2)\n",
    "    target_types = batch[\"ac/target_type\"]\n",
    "    input_dict = {\n",
    "    k.split(\"input/\")[-1]: v for k, v in batch.items() if \"input/\" in k\n",
    "    }\n",
    "    valid = input_dict[\"target_valid\"].any(-1)\n",
    "    target_emb, target_valid, other_emb, other_valid, map_emb, map_valid = inputproj(target_valid = input_dict[\"target_valid\"], \n",
    "              target_attr = input_dict[\"target_attr\"],\n",
    "              other_valid = input_dict[\"other_valid\"],\n",
    "              other_attr = input_dict[\"other_attr\"],\n",
    "              map_valid = input_dict[\"map_valid\"],\n",
    "              map_attr = input_dict[\"map_attr\"],)\n",
    "    fused_emb, fused_emb_invalid = encoder(\n",
    "                target_emb, target_valid, other_emb, other_valid, map_emb, map_valid, input_dict[\"target_type\"], valid\n",
    "            )\n",
    "    pred = decoder(motion_tokens, target_types, fused_emb, fused_emb_invalid)\n",
    "    episode = pred\n",
    "    loss = loss_fn(\n",
    "        logsoftmax(pred[:, 50:, :].flatten(0, 1)), \n",
    "        actuals.flatten(0, 1).flatten(0, 1).repeat(64))\n",
    "    print(loss)\n",
    "    break"
   ]
  },
  {
   "cell_type": "code",
   "execution_count": 5,
   "metadata": {},
   "outputs": [
    {
     "data": {
      "text/plain": [
       "torch.Size([1024, 110, 169])"
      ]
     },
     "execution_count": 5,
     "metadata": {},
     "output_type": "execute_result"
    }
   ],
   "source": [
    "episode.shape"
   ]
  },
  {
   "cell_type": "code",
   "execution_count": 6,
   "metadata": {},
   "outputs": [
    {
     "data": {
      "text/plain": [
       "torch.Size([61440, 169])"
      ]
     },
     "execution_count": 6,
     "metadata": {},
     "output_type": "execute_result"
    }
   ],
   "source": [
    "episode[:, 50:, :].flatten(0, 1).shape"
   ]
  },
  {
   "cell_type": "code",
   "execution_count": null,
   "metadata": {},
   "outputs": [],
   "source": [
    "loss_fn(F.log_softmax(episode[:, 50:, :].flatten(0, 1), dim=-1), a.flatten(0, 1).flatten(0, 1))"
   ]
  },
  {
   "cell_type": "code",
   "execution_count": 9,
   "metadata": {},
   "outputs": [
    {
     "data": {
      "text/plain": [
       "torch.Size([2, 8, 60])"
      ]
     },
     "execution_count": 9,
     "metadata": {},
     "output_type": "execute_result"
    }
   ],
   "source": [
    "a.shape"
   ]
  },
  {
   "cell_type": "code",
   "execution_count": 14,
   "metadata": {},
   "outputs": [
    {
     "data": {
      "text/plain": [
       "torch.Size([960])"
      ]
     },
     "execution_count": 14,
     "metadata": {},
     "output_type": "execute_result"
    }
   ],
   "source": [
    "a.flatten(0, 1).flatten(0, 1).shape"
   ]
  },
  {
   "cell_type": "code",
   "execution_count": 7,
   "metadata": {},
   "outputs": [
    {
     "data": {
      "text/plain": [
       "torch.Size([16, 192, 256])"
      ]
     },
     "execution_count": 7,
     "metadata": {},
     "output_type": "execute_result"
    }
   ],
   "source": [
    "femb.shape"
   ]
  },
  {
   "cell_type": "code",
   "execution_count": 8,
   "metadata": {},
   "outputs": [
    {
     "data": {
      "text/plain": [
       "tensor([[[  0,   1,   2,  ..., 107, 108, 109],\n",
       "         [  0,   1,   2,  ..., 107, 108, 109],\n",
       "         [  0,   1,   2,  ..., 107, 108, 109],\n",
       "         ...,\n",
       "         [  0,   1,   2,  ..., 107, 108, 109],\n",
       "         [  0,   1,   2,  ..., 107, 108, 109],\n",
       "         [  0,   1,   2,  ..., 107, 108, 109]],\n",
       "\n",
       "        [[  0,   1,   2,  ..., 107, 108, 109],\n",
       "         [  0,   1,   2,  ..., 107, 108, 109],\n",
       "         [  0,   1,   2,  ..., 107, 108, 109],\n",
       "         ...,\n",
       "         [  0,   1,   2,  ..., 107, 108, 109],\n",
       "         [  0,   1,   2,  ..., 107, 108, 109],\n",
       "         [  0,   1,   2,  ..., 107, 108, 109]]])"
      ]
     },
     "execution_count": 8,
     "metadata": {},
     "output_type": "execute_result"
    }
   ],
   "source": [
    "temp = torch.arange(0, 110)\n",
    "temp.unsqueeze(0).repeat(motion_tokens.shape[1], 1).unsqueeze(0).repeat(motion_tokens.shape[0], 1, 1)"
   ]
  },
  {
   "cell_type": "code",
   "execution_count": 9,
   "metadata": {},
   "outputs": [
    {
     "data": {
      "text/plain": [
       "torch.Size([1024, 110, 169])"
      ]
     },
     "execution_count": 9,
     "metadata": {},
     "output_type": "execute_result"
    }
   ],
   "source": [
    "episode.shape"
   ]
  },
  {
   "cell_type": "code",
   "execution_count": null,
   "metadata": {},
   "outputs": [],
   "source": [
    "episode[1] == episode.reshape((-1, 256))[110:220]"
   ]
  },
  {
   "cell_type": "code",
   "execution_count": 11,
   "metadata": {},
   "outputs": [
    {
     "data": {
      "text/plain": [
       "torch.Size([16, 192])"
      ]
     },
     "execution_count": 11,
     "metadata": {},
     "output_type": "execute_result"
    }
   ],
   "source": [
    "fmask.shape"
   ]
  },
  {
   "cell_type": "code",
   "execution_count": 12,
   "metadata": {},
   "outputs": [
    {
     "data": {
      "text/plain": [
       "torch.Size([16, 192, 256])"
      ]
     },
     "execution_count": 12,
     "metadata": {},
     "output_type": "execute_result"
    }
   ],
   "source": [
    "fused_emb.shape"
   ]
  },
  {
   "cell_type": "code",
   "execution_count": 81,
   "metadata": {},
   "outputs": [
    {
     "data": {
      "text/plain": [
       "torch.Size([6, 192])"
      ]
     },
     "execution_count": 81,
     "metadata": {},
     "output_type": "execute_result"
    }
   ],
   "source": [
    "fmask.shape"
   ]
  },
  {
   "cell_type": "code",
   "execution_count": 7,
   "metadata": {},
   "outputs": [
    {
     "data": {
      "text/plain": [
       "(tensor([[  0,   0,   0],\n",
       "         [  1,   0,   1],\n",
       "         [  2,   0,   2],\n",
       "         [  3,   0,   3],\n",
       "         [  4,   0,   4],\n",
       "         [  5,   0,   5],\n",
       "         [  6,   0,   6],\n",
       "         [  7,   0,   7],\n",
       "         [  8,   0,   8],\n",
       "         [  9,   0,   9],\n",
       "         [ 10,   0,  10],\n",
       "         [ 11,   0,  11],\n",
       "         [ 12,   0,  12],\n",
       "         [ 13,   1,   0],\n",
       "         [ 14,   1,   1],\n",
       "         [ 15,   1,   2],\n",
       "         [ 16,   1,   3],\n",
       "         [ 17,   1,   4],\n",
       "         [ 18,   1,   5],\n",
       "         [ 19,   1,   6],\n",
       "         [ 20,   1,   7],\n",
       "         [ 21,   1,   8],\n",
       "         [ 22,   1,   9],\n",
       "         [ 23,   1,  10],\n",
       "         [ 24,   1,  11],\n",
       "         [ 25,   1,  12],\n",
       "         [ 26,   2,   0],\n",
       "         [ 27,   2,   1],\n",
       "         [ 28,   2,   2],\n",
       "         [ 29,   2,   3],\n",
       "         [ 30,   2,   4],\n",
       "         [ 31,   2,   5],\n",
       "         [ 32,   2,   6],\n",
       "         [ 33,   2,   7],\n",
       "         [ 34,   2,   8],\n",
       "         [ 35,   2,   9],\n",
       "         [ 36,   2,  10],\n",
       "         [ 37,   2,  11],\n",
       "         [ 38,   2,  12],\n",
       "         [ 39,   3,   0],\n",
       "         [ 40,   3,   1],\n",
       "         [ 41,   3,   2],\n",
       "         [ 42,   3,   3],\n",
       "         [ 43,   3,   4],\n",
       "         [ 44,   3,   5],\n",
       "         [ 45,   3,   6],\n",
       "         [ 46,   3,   7],\n",
       "         [ 47,   3,   8],\n",
       "         [ 48,   3,   9],\n",
       "         [ 49,   3,  10],\n",
       "         [ 50,   3,  11],\n",
       "         [ 51,   3,  12],\n",
       "         [ 52,   4,   0],\n",
       "         [ 53,   4,   1],\n",
       "         [ 54,   4,   2],\n",
       "         [ 55,   4,   3],\n",
       "         [ 56,   4,   4],\n",
       "         [ 57,   4,   5],\n",
       "         [ 58,   4,   6],\n",
       "         [ 59,   4,   7],\n",
       "         [ 60,   4,   8],\n",
       "         [ 61,   4,   9],\n",
       "         [ 62,   4,  10],\n",
       "         [ 63,   4,  11],\n",
       "         [ 64,   4,  12],\n",
       "         [ 65,   5,   0],\n",
       "         [ 66,   5,   1],\n",
       "         [ 67,   5,   2],\n",
       "         [ 68,   5,   3],\n",
       "         [ 69,   5,   4],\n",
       "         [ 70,   5,   5],\n",
       "         [ 71,   5,   6],\n",
       "         [ 72,   5,   7],\n",
       "         [ 73,   5,   8],\n",
       "         [ 74,   5,   9],\n",
       "         [ 75,   5,  10],\n",
       "         [ 76,   5,  11],\n",
       "         [ 77,   5,  12],\n",
       "         [ 78,   6,   0],\n",
       "         [ 79,   6,   1],\n",
       "         [ 80,   6,   2],\n",
       "         [ 81,   6,   3],\n",
       "         [ 82,   6,   4],\n",
       "         [ 83,   6,   5],\n",
       "         [ 84,   6,   6],\n",
       "         [ 85,   6,   7],\n",
       "         [ 86,   6,   8],\n",
       "         [ 87,   6,   9],\n",
       "         [ 88,   6,  10],\n",
       "         [ 89,   6,  11],\n",
       "         [ 90,   6,  12],\n",
       "         [ 91,   7,   0],\n",
       "         [ 92,   7,   1],\n",
       "         [ 93,   7,   2],\n",
       "         [ 94,   7,   3],\n",
       "         [ 95,   7,   4],\n",
       "         [ 96,   7,   5],\n",
       "         [ 97,   7,   6],\n",
       "         [ 98,   7,   7],\n",
       "         [ 99,   7,   8],\n",
       "         [100,   7,   9],\n",
       "         [101,   7,  10],\n",
       "         [102,   7,  11],\n",
       "         [103,   7,  12],\n",
       "         [104,   8,   0],\n",
       "         [105,   8,   1],\n",
       "         [106,   8,   2],\n",
       "         [107,   8,   3],\n",
       "         [108,   8,   4],\n",
       "         [109,   8,   5],\n",
       "         [110,   8,   6],\n",
       "         [111,   8,   7],\n",
       "         [112,   8,   8],\n",
       "         [113,   8,   9],\n",
       "         [114,   8,  10],\n",
       "         [115,   8,  11],\n",
       "         [116,   8,  12],\n",
       "         [117,   9,   0],\n",
       "         [118,   9,   1],\n",
       "         [119,   9,   2],\n",
       "         [120,   9,   3],\n",
       "         [121,   9,   4],\n",
       "         [122,   9,   5],\n",
       "         [123,   9,   6],\n",
       "         [124,   9,   7],\n",
       "         [125,   9,   8],\n",
       "         [126,   9,   9],\n",
       "         [127,   9,  10],\n",
       "         [128,   9,  11],\n",
       "         [129,   9,  12],\n",
       "         [130,  10,   0],\n",
       "         [131,  10,   1],\n",
       "         [132,  10,   2],\n",
       "         [133,  10,   3],\n",
       "         [134,  10,   4],\n",
       "         [135,  10,   5],\n",
       "         [136,  10,   6],\n",
       "         [137,  10,   7],\n",
       "         [138,  10,   8],\n",
       "         [139,  10,   9],\n",
       "         [140,  10,  10],\n",
       "         [141,  10,  11],\n",
       "         [142,  10,  12],\n",
       "         [143,  11,   0],\n",
       "         [144,  11,   1],\n",
       "         [145,  11,   2],\n",
       "         [146,  11,   3],\n",
       "         [147,  11,   4],\n",
       "         [148,  11,   5],\n",
       "         [149,  11,   6],\n",
       "         [150,  11,   7],\n",
       "         [151,  11,   8],\n",
       "         [152,  11,   9],\n",
       "         [153,  11,  10],\n",
       "         [154,  11,  11],\n",
       "         [155,  11,  12],\n",
       "         [156,  12,   0],\n",
       "         [157,  12,   1],\n",
       "         [158,  12,   2],\n",
       "         [159,  12,   3],\n",
       "         [160,  12,   4],\n",
       "         [161,  12,   5],\n",
       "         [162,  12,   6],\n",
       "         [163,  12,   7],\n",
       "         [164,  12,   8],\n",
       "         [165,  12,   9],\n",
       "         [166,  12,  10],\n",
       "         [167,  12,  11],\n",
       "         [168,  12,  12]]),\n",
       " tensor([[-8.0000, -7.8740, -7.7480, -7.6220, -7.4961, -7.3701, -7.2441, -7.1181,\n",
       "          -6.9921, -6.8661, -6.7402, -6.6142, -6.4882, -6.3622, -6.2362, -6.1102,\n",
       "          -5.9843, -5.8583, -5.7323, -5.6063, -5.4803, -5.3543, -5.2283, -5.1024,\n",
       "          -4.9764, -4.8504, -4.7244, -4.5984, -4.4724, -4.3465, -4.2205, -4.0945,\n",
       "          -3.9685, -3.8425, -3.7165, -3.5906, -3.4646, -3.3386, -3.2126, -3.0866,\n",
       "          -2.9606, -2.8346, -2.7087, -2.5827, -2.4567, -2.3307, -2.2047, -2.0787,\n",
       "          -1.9528, -1.8268, -1.7008, -1.5748, -1.4488, -1.3228, -1.1969, -1.0709,\n",
       "          -0.9449, -0.8189, -0.6929, -0.5669, -0.4409, -0.3150, -0.1890, -0.0630,\n",
       "           0.0630,  0.1890,  0.3150,  0.4409,  0.5669,  0.6929,  0.8189,  0.9449,\n",
       "           1.0709,  1.1969,  1.3228,  1.4488,  1.5748,  1.7008,  1.8268,  1.9528,\n",
       "           2.0787,  2.2047,  2.3307,  2.4567,  2.5827,  2.7087,  2.8346,  2.9606,\n",
       "           3.0866,  3.2126,  3.3386,  3.4646,  3.5906,  3.7165,  3.8425,  3.9685,\n",
       "           4.0945,  4.2205,  4.3465,  4.4724,  4.5984,  4.7244,  4.8504,  4.9764,\n",
       "           5.1024,  5.2283,  5.3543,  5.4803,  5.6063,  5.7323,  5.8583,  5.9843,\n",
       "           6.1102,  6.2362,  6.3622,  6.4882,  6.6142,  6.7402,  6.8661,  6.9921,\n",
       "           7.1181,  7.2441,  7.3701,  7.4961,  7.6220,  7.7480,  7.8740,  8.0000],\n",
       "         [-8.0000, -7.8740, -7.7480, -7.6220, -7.4961, -7.3701, -7.2441, -7.1181,\n",
       "          -6.9921, -6.8661, -6.7402, -6.6142, -6.4882, -6.3622, -6.2362, -6.1102,\n",
       "          -5.9843, -5.8583, -5.7323, -5.6063, -5.4803, -5.3543, -5.2283, -5.1024,\n",
       "          -4.9764, -4.8504, -4.7244, -4.5984, -4.4724, -4.3465, -4.2205, -4.0945,\n",
       "          -3.9685, -3.8425, -3.7165, -3.5906, -3.4646, -3.3386, -3.2126, -3.0866,\n",
       "          -2.9606, -2.8346, -2.7087, -2.5827, -2.4567, -2.3307, -2.2047, -2.0787,\n",
       "          -1.9528, -1.8268, -1.7008, -1.5748, -1.4488, -1.3228, -1.1969, -1.0709,\n",
       "          -0.9449, -0.8189, -0.6929, -0.5669, -0.4409, -0.3150, -0.1890, -0.0630,\n",
       "           0.0630,  0.1890,  0.3150,  0.4409,  0.5669,  0.6929,  0.8189,  0.9449,\n",
       "           1.0709,  1.1969,  1.3228,  1.4488,  1.5748,  1.7008,  1.8268,  1.9528,\n",
       "           2.0787,  2.2047,  2.3307,  2.4567,  2.5827,  2.7087,  2.8346,  2.9606,\n",
       "           3.0866,  3.2126,  3.3386,  3.4646,  3.5906,  3.7165,  3.8425,  3.9685,\n",
       "           4.0945,  4.2205,  4.3465,  4.4724,  4.5984,  4.7244,  4.8504,  4.9764,\n",
       "           5.1024,  5.2283,  5.3543,  5.4803,  5.6063,  5.7323,  5.8583,  5.9843,\n",
       "           6.1102,  6.2362,  6.3622,  6.4882,  6.6142,  6.7402,  6.8661,  6.9921,\n",
       "           7.1181,  7.2441,  7.3701,  7.4961,  7.6220,  7.7480,  7.8740,  8.0000]]),\n",
       " tensor([-6., -5., -4., -3., -2., -1.,  0.,  1.,  2.,  3.,  4.,  5.,  6.]))"
      ]
     },
     "execution_count": 7,
     "metadata": {},
     "output_type": "execute_result"
    }
   ],
   "source": [
    "from src.modeling.modules.lm_utils import create_vocabulary\n",
    "\n",
    "create_vocabulary(8, 128, 13)"
   ]
  },
  {
   "cell_type": "code",
   "execution_count": null,
   "metadata": {},
   "outputs": [],
   "source": []
  }
 ],
 "metadata": {
  "kernelspec": {
   "display_name": "venv",
   "language": "python",
   "name": "python3"
  },
  "language_info": {
   "codemirror_mode": {
    "name": "ipython",
    "version": 3
   },
   "file_extension": ".py",
   "mimetype": "text/x-python",
   "name": "python",
   "nbconvert_exporter": "python",
   "pygments_lexer": "ipython3",
   "version": "3.12.3"
  }
 },
 "nbformat": 4,
 "nbformat_minor": 2
}
