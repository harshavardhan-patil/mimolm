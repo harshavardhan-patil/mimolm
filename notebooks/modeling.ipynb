{
 "cells": [
  {
   "cell_type": "code",
   "execution_count": 1,
   "metadata": {},
   "outputs": [
    {
     "name": "stderr",
     "output_type": "stream",
     "text": [
      "\u001b[32m2025-01-25 18:43:41.026\u001b[0m | \u001b[1mINFO    \u001b[0m | \u001b[36msrc.config\u001b[0m:\u001b[36m<module>\u001b[0m:\u001b[36m11\u001b[0m - \u001b[1mPROJ_ROOT path is: G:\\Work\\DS\\mimolm\u001b[0m\n"
     ]
    },
    {
     "name": "stdout",
     "output_type": "stream",
     "text": [
      "g:\\Work\\DS\\mimolm\\notebooks\n"
     ]
    }
   ],
   "source": [
    "import sys\n",
    "from pathlib import Path\n",
    "from os.path  import join\n",
    "from src.config import DATA_DIR, CONFIG_DIR\n",
    "from omegaconf import OmegaConf\n",
    "from src.external.hptr.src.data_modules.agent_centric import AgentCentricPreProcessing\n",
    "from src.external.hptr.src.data_modules.ac_global import AgentCentricGlobal\n",
    "from src.mimolm import InputProjections, EarlyFusionEncoder, MotionDecoder\n",
    "import torch\n",
    "\n",
    "# Add the project root to sys.path\n",
    "project_root = Path().resolve().parent  # Adjust as needed to point to the root folder\n",
    "sys.path.append(str(project_root))\n",
    "\n",
    "print(Path.cwd())  # Check if the path is added"
   ]
  },
  {
   "cell_type": "code",
   "execution_count": 2,
   "metadata": {},
   "outputs": [
    {
     "name": "stderr",
     "output_type": "stream",
     "text": [
      "c:\\Users\\Harshavardhan Patil\\.virtualenvs\\mimolm-kv68Yv56\\lib\\site-packages\\tqdm\\auto.py:21: TqdmWarning: IProgress not found. Please update jupyter and ipywidgets. See https://ipywidgets.readthedocs.io/en/stable/user_install.html\n",
      "  from .autonotebook import tqdm as notebook_tqdm\n"
     ]
    }
   ],
   "source": [
    "from src.external.hptr.src.data_modules.data_h5_av2 import DataH5av2\n",
    "\n",
    "data_module = DataH5av2(DATA_DIR / \"interim\" / \"train\" )\n",
    "data_module.setup(stage=\"fit\")\n",
    "dl = data_module.train_dataloader()"
   ]
  },
  {
   "cell_type": "code",
   "execution_count": 3,
   "metadata": {},
   "outputs": [],
   "source": [
    "#dic = OmegaConf.load(Path(CONFIG_DIR / \"model/ac_wayformer.yaml\"))\n",
    "episode = None\n",
    "fmask = None\n",
    "prepreprocess = AgentCentricPreProcessing(time_step_current=49, \n",
    "                                          data_size=data_module.tensor_size_train, \n",
    "                                          n_target=8,\n",
    "                                          n_other=48,\n",
    "                                          n_map=512,\n",
    "                                          mask_invalid=False)\n",
    "\n",
    "preprocess = AgentCentricGlobal(time_step_current=49,\n",
    "                                data_size=data_module.tensor_size_train,\n",
    "                                dropout_p_history=0.15, \n",
    "                                add_ohe=True,\n",
    "                                pl_aggr=False,\n",
    "                                pose_pe= {\"agent\": \"xy_dir\",\n",
    "                                        \"map\": \"mpa_pl\"})\n",
    "\n",
    "inputproj = InputProjections(hidden_dim=256,\n",
    "                             agent_attr_dim=preprocess.model_kwargs[\"agent_attr_dim\"],\n",
    "                             map_attr_dim=preprocess.model_kwargs[\"map_attr_dim\"],\n",
    "                             n_step_hist=preprocess.model_kwargs[\"n_step_hist\"],\n",
    "                             n_pl_node=preprocess.model_kwargs[\"n_pl_node\"],\n",
    "                             add_learned_pe=True,\n",
    "                             n_layer_mlp=3,\n",
    "                             mlp_cfg={\"end_layer_activation\" : True,\n",
    "                                        \"use_layernorm\" :  False,\n",
    "                                        \"use_batchnorm\" : False,\n",
    "                                        \"dropout_p\" : None,})\n",
    "\n",
    "encoder = EarlyFusionEncoder(hidden_dim=256,\n",
    "                             tf_cfg={\"n_head\": 4,\n",
    "                                     \"dropout_p\": 0.1,\n",
    "                                     \"norm_first\": True,\n",
    "                                     \"bias\": True},\n",
    "                             latent_query={\"use_agent_type\": False,\n",
    "                                           \"mode_emb\": \"none\", # linear, mlp, add, none\n",
    "                                           \"mode_init\": \"xavier\", # uniform, xavier\n",
    "                                           \"scale\": 5.0},\n",
    "                             n_latent_query=192,\n",
    "                             n_encoder_layers=2)  \n",
    "\n",
    "decoder = MotionDecoder()"
   ]
  },
  {
   "cell_type": "code",
   "execution_count": 4,
   "metadata": {},
   "outputs": [
    {
     "name": "stdout",
     "output_type": "stream",
     "text": [
      "torch.Size([2, 110, 64, 2])\n",
      "torch.Size([2, 8, 110, 2])\n",
      "torch.Size([16, 50]) torch.Size([16, 2400]) torch.Size([16, 10240])\n"
     ]
    }
   ],
   "source": [
    "f = None\n",
    "femb = None\n",
    "t = None\n",
    "for batch in dl:\n",
    "    print(batch['agent/pos'].shape)\n",
    "    batch = prepreprocess(batch=batch)\n",
    "    batch = preprocess(batch=batch)\n",
    "    motion_tokens = torch.cat((batch[\"ac/target_pos\"], batch[\"gt/pos\"]), dim = -2)\n",
    "    target_types = batch[\"ac/target_type\"]\n",
    "    t = motion_tokens\n",
    "    print(motion_tokens.shape)\n",
    "    input_dict = {\n",
    "    k.split(\"input/\")[-1]: v for k, v in batch.items() if \"input/\" in k\n",
    "    }\n",
    "    valid = input_dict[\"target_valid\"].any(-1)\n",
    "    target_emb, target_valid, other_emb, other_valid, map_emb, map_valid = inputproj(target_valid = input_dict[\"target_valid\"], \n",
    "              target_attr = input_dict[\"target_attr\"],\n",
    "              other_valid = input_dict[\"other_valid\"],\n",
    "              other_attr = input_dict[\"other_attr\"],\n",
    "              map_valid = input_dict[\"map_valid\"],\n",
    "              map_attr = input_dict[\"map_attr\"],)\n",
    "    print(target_valid.shape, other_valid.shape, map_valid.shape)\n",
    "    fused_emb, fused_emb_invalid = encoder(\n",
    "                target_emb, target_valid, other_emb, other_valid, map_emb, map_valid, input_dict[\"target_type\"], valid\n",
    "            )\n",
    "    episode = decoder(motion_tokens, target_types, fused_emb, fused_emb_invalid)\n",
    "    f = (target_emb, target_valid, other_emb, other_valid, map_emb, map_valid)\n",
    "    femb = fused_emb\n",
    "    fmask = fused_emb_invalid\n",
    "    break"
   ]
  },
  {
   "cell_type": "code",
   "execution_count": 5,
   "metadata": {},
   "outputs": [
    {
     "data": {
      "text/plain": [
       "torch.Size([1760, 256])"
      ]
     },
     "execution_count": 5,
     "metadata": {},
     "output_type": "execute_result"
    }
   ],
   "source": [
    "episode.shape"
   ]
  },
  {
   "cell_type": "code",
   "execution_count": 6,
   "metadata": {},
   "outputs": [
    {
     "data": {
      "text/plain": [
       "tensor([[True, True],\n",
       "        [True, True],\n",
       "        [True, True],\n",
       "        [True, True],\n",
       "        [True, True],\n",
       "        [True, True],\n",
       "        [True, True],\n",
       "        [True, True],\n",
       "        [True, True],\n",
       "        [True, True],\n",
       "        [True, True],\n",
       "        [True, True],\n",
       "        [True, True],\n",
       "        [True, True],\n",
       "        [True, True],\n",
       "        [True, True],\n",
       "        [True, True],\n",
       "        [True, True],\n",
       "        [True, True],\n",
       "        [True, True],\n",
       "        [True, True],\n",
       "        [True, True],\n",
       "        [True, True],\n",
       "        [True, True],\n",
       "        [True, True],\n",
       "        [True, True],\n",
       "        [True, True],\n",
       "        [True, True],\n",
       "        [True, True],\n",
       "        [True, True],\n",
       "        [True, True],\n",
       "        [True, True],\n",
       "        [True, True],\n",
       "        [True, True],\n",
       "        [True, True],\n",
       "        [True, True],\n",
       "        [True, True],\n",
       "        [True, True],\n",
       "        [True, True],\n",
       "        [True, True],\n",
       "        [True, True],\n",
       "        [True, True],\n",
       "        [True, True],\n",
       "        [True, True],\n",
       "        [True, True],\n",
       "        [True, True],\n",
       "        [True, True],\n",
       "        [True, True],\n",
       "        [True, True],\n",
       "        [True, True],\n",
       "        [True, True],\n",
       "        [True, True],\n",
       "        [True, True],\n",
       "        [True, True],\n",
       "        [True, True],\n",
       "        [True, True],\n",
       "        [True, True],\n",
       "        [True, True],\n",
       "        [True, True],\n",
       "        [True, True],\n",
       "        [True, True],\n",
       "        [True, True],\n",
       "        [True, True],\n",
       "        [True, True],\n",
       "        [True, True],\n",
       "        [True, True],\n",
       "        [True, True],\n",
       "        [True, True],\n",
       "        [True, True],\n",
       "        [True, True],\n",
       "        [True, True],\n",
       "        [True, True],\n",
       "        [True, True],\n",
       "        [True, True],\n",
       "        [True, True],\n",
       "        [True, True],\n",
       "        [True, True],\n",
       "        [True, True],\n",
       "        [True, True],\n",
       "        [True, True],\n",
       "        [True, True],\n",
       "        [True, True],\n",
       "        [True, True],\n",
       "        [True, True],\n",
       "        [True, True],\n",
       "        [True, True],\n",
       "        [True, True],\n",
       "        [True, True],\n",
       "        [True, True],\n",
       "        [True, True],\n",
       "        [True, True],\n",
       "        [True, True],\n",
       "        [True, True],\n",
       "        [True, True],\n",
       "        [True, True],\n",
       "        [True, True],\n",
       "        [True, True],\n",
       "        [True, True],\n",
       "        [True, True],\n",
       "        [True, True],\n",
       "        [True, True],\n",
       "        [True, True],\n",
       "        [True, True],\n",
       "        [True, True],\n",
       "        [True, True],\n",
       "        [True, True],\n",
       "        [True, True],\n",
       "        [True, True],\n",
       "        [True, True],\n",
       "        [True, True]])"
      ]
     },
     "execution_count": 6,
     "metadata": {},
     "output_type": "execute_result"
    }
   ],
   "source": [
    "t.reshape((-1, 110, 2))[1] == t[0][1]"
   ]
  },
  {
   "cell_type": "code",
   "execution_count": 7,
   "metadata": {},
   "outputs": [
    {
     "data": {
      "text/plain": [
       "torch.Size([1760, 256])"
      ]
     },
     "execution_count": 7,
     "metadata": {},
     "output_type": "execute_result"
    }
   ],
   "source": [
    "episode.shape"
   ]
  },
  {
   "cell_type": "code",
   "execution_count": 8,
   "metadata": {},
   "outputs": [
    {
     "data": {
      "text/plain": [
       "tensor([[False, False, False,  ..., False, False, False],\n",
       "        [False, False, False,  ..., False, False, False],\n",
       "        [False, False, False,  ..., False, False, False],\n",
       "        ...,\n",
       "        [False, False, False,  ..., False, False, False],\n",
       "        [False, False, False,  ..., False, False, False],\n",
       "        [False, False, False,  ..., False, False, False]])"
      ]
     },
     "execution_count": 8,
     "metadata": {},
     "output_type": "execute_result"
    }
   ],
   "source": [
    "episode[1] == episode.reshape((-1, 256))[110:220]"
   ]
  },
  {
   "cell_type": "code",
   "execution_count": 9,
   "metadata": {},
   "outputs": [
    {
     "data": {
      "text/plain": [
       "tensor([[[True, True],\n",
       "         [True, True],\n",
       "         [True, True],\n",
       "         ...,\n",
       "         [True, True],\n",
       "         [True, True],\n",
       "         [True, True]],\n",
       "\n",
       "        [[True, True],\n",
       "         [True, True],\n",
       "         [True, True],\n",
       "         ...,\n",
       "         [True, True],\n",
       "         [True, True],\n",
       "         [True, True]],\n",
       "\n",
       "        [[True, True],\n",
       "         [True, True],\n",
       "         [True, True],\n",
       "         ...,\n",
       "         [True, True],\n",
       "         [True, True],\n",
       "         [True, True]],\n",
       "\n",
       "        ...,\n",
       "\n",
       "        [[True, True],\n",
       "         [True, True],\n",
       "         [True, True],\n",
       "         ...,\n",
       "         [True, True],\n",
       "         [True, True],\n",
       "         [True, True]],\n",
       "\n",
       "        [[True, True],\n",
       "         [True, True],\n",
       "         [True, True],\n",
       "         ...,\n",
       "         [True, True],\n",
       "         [True, True],\n",
       "         [True, True]],\n",
       "\n",
       "        [[True, True],\n",
       "         [True, True],\n",
       "         [True, True],\n",
       "         ...,\n",
       "         [True, True],\n",
       "         [True, True],\n",
       "         [True, True]]])"
      ]
     },
     "execution_count": 9,
     "metadata": {},
     "output_type": "execute_result"
    }
   ],
   "source": [
    "import numpy as np\n",
    "\n",
    "t[1] == t.reshape((-1, 110, 2))[8:]"
   ]
  },
  {
   "cell_type": "code",
   "execution_count": 10,
   "metadata": {},
   "outputs": [
    {
     "data": {
      "text/plain": [
       "tensor([[ 1.3078, -0.7891,  1.1052,  ..., -0.5589,  0.9723,  0.2858],\n",
       "        [ 1.9711,  0.1538,  0.0097,  ...,  0.9854,  0.6055, -1.1061],\n",
       "        [ 0.3877, -2.1134,  0.0943,  ...,  2.2777,  2.0868, -0.5535],\n",
       "        ...,\n",
       "        [-0.3336, -0.5869,  0.3268,  ...,  0.1246,  2.5931,  0.6938],\n",
       "        [ 1.4502, -1.0639, -0.2516,  ...,  0.7508,  4.1432,  0.5801],\n",
       "        [ 0.7104, -0.8970, -1.9450,  ...,  0.8618,  1.9894,  2.3208]],\n",
       "       grad_fn=<ViewBackward0>)"
      ]
     },
     "execution_count": 10,
     "metadata": {},
     "output_type": "execute_result"
    }
   ],
   "source": [
    "episode#.reshape(2, 8, 110, -1).shape#.unsqueeze(1)#.repeat(1, 6, 1, 1, 1).shape"
   ]
  },
  {
   "cell_type": "code",
   "execution_count": 11,
   "metadata": {},
   "outputs": [
    {
     "data": {
      "text/plain": [
       "tensor([[[ 1.3078, -0.7891,  1.1052,  ..., -0.5589,  0.9723,  0.2858],\n",
       "         [ 1.9711,  0.1538,  0.0097,  ...,  0.9854,  0.6055, -1.1061],\n",
       "         [ 0.3877, -2.1134,  0.0943,  ...,  2.2777,  2.0868, -0.5535],\n",
       "         ...,\n",
       "         [-0.3336, -0.5869,  0.3268,  ...,  0.1246,  2.5931,  0.6938],\n",
       "         [ 1.4502, -1.0639, -0.2516,  ...,  0.7508,  4.1432,  0.5801],\n",
       "         [ 0.7104, -0.8970, -1.9450,  ...,  0.8618,  1.9894,  2.3208]],\n",
       "\n",
       "        [[ 1.3078, -0.7891,  1.1052,  ..., -0.5589,  0.9723,  0.2858],\n",
       "         [ 1.9711,  0.1538,  0.0097,  ...,  0.9854,  0.6055, -1.1061],\n",
       "         [ 0.3877, -2.1134,  0.0943,  ...,  2.2777,  2.0868, -0.5535],\n",
       "         ...,\n",
       "         [-0.3336, -0.5869,  0.3268,  ...,  0.1246,  2.5931,  0.6938],\n",
       "         [ 1.4502, -1.0639, -0.2516,  ...,  0.7508,  4.1432,  0.5801],\n",
       "         [ 0.7104, -0.8970, -1.9450,  ...,  0.8618,  1.9894,  2.3208]],\n",
       "\n",
       "        [[ 1.3078, -0.7891,  1.1052,  ..., -0.5589,  0.9723,  0.2858],\n",
       "         [ 1.9711,  0.1538,  0.0097,  ...,  0.9854,  0.6055, -1.1061],\n",
       "         [ 0.3877, -2.1134,  0.0943,  ...,  2.2777,  2.0868, -0.5535],\n",
       "         ...,\n",
       "         [-0.3336, -0.5869,  0.3268,  ...,  0.1246,  2.5931,  0.6938],\n",
       "         [ 1.4502, -1.0639, -0.2516,  ...,  0.7508,  4.1432,  0.5801],\n",
       "         [ 0.7104, -0.8970, -1.9450,  ...,  0.8618,  1.9894,  2.3208]],\n",
       "\n",
       "        [[ 1.3078, -0.7891,  1.1052,  ..., -0.5589,  0.9723,  0.2858],\n",
       "         [ 1.9711,  0.1538,  0.0097,  ...,  0.9854,  0.6055, -1.1061],\n",
       "         [ 0.3877, -2.1134,  0.0943,  ...,  2.2777,  2.0868, -0.5535],\n",
       "         ...,\n",
       "         [-0.3336, -0.5869,  0.3268,  ...,  0.1246,  2.5931,  0.6938],\n",
       "         [ 1.4502, -1.0639, -0.2516,  ...,  0.7508,  4.1432,  0.5801],\n",
       "         [ 0.7104, -0.8970, -1.9450,  ...,  0.8618,  1.9894,  2.3208]],\n",
       "\n",
       "        [[ 1.3078, -0.7891,  1.1052,  ..., -0.5589,  0.9723,  0.2858],\n",
       "         [ 1.9711,  0.1538,  0.0097,  ...,  0.9854,  0.6055, -1.1061],\n",
       "         [ 0.3877, -2.1134,  0.0943,  ...,  2.2777,  2.0868, -0.5535],\n",
       "         ...,\n",
       "         [-0.3336, -0.5869,  0.3268,  ...,  0.1246,  2.5931,  0.6938],\n",
       "         [ 1.4502, -1.0639, -0.2516,  ...,  0.7508,  4.1432,  0.5801],\n",
       "         [ 0.7104, -0.8970, -1.9450,  ...,  0.8618,  1.9894,  2.3208]],\n",
       "\n",
       "        [[ 1.3078, -0.7891,  1.1052,  ..., -0.5589,  0.9723,  0.2858],\n",
       "         [ 1.9711,  0.1538,  0.0097,  ...,  0.9854,  0.6055, -1.1061],\n",
       "         [ 0.3877, -2.1134,  0.0943,  ...,  2.2777,  2.0868, -0.5535],\n",
       "         ...,\n",
       "         [-0.3336, -0.5869,  0.3268,  ...,  0.1246,  2.5931,  0.6938],\n",
       "         [ 1.4502, -1.0639, -0.2516,  ...,  0.7508,  4.1432,  0.5801],\n",
       "         [ 0.7104, -0.8970, -1.9450,  ...,  0.8618,  1.9894,  2.3208]]],\n",
       "       grad_fn=<RepeatBackward0>)"
      ]
     },
     "execution_count": 11,
     "metadata": {},
     "output_type": "execute_result"
    }
   ],
   "source": [
    "episode.repeat(6, 1, 1)"
   ]
  },
  {
   "cell_type": "code",
   "execution_count": 12,
   "metadata": {},
   "outputs": [
    {
     "data": {
      "text/plain": [
       "torch.Size([16, 192, 256])"
      ]
     },
     "execution_count": 12,
     "metadata": {},
     "output_type": "execute_result"
    }
   ],
   "source": [
    "fused_emb.shape"
   ]
  },
  {
   "cell_type": "code",
   "execution_count": 13,
   "metadata": {},
   "outputs": [
    {
     "ename": "TypeError",
     "evalue": "'method' object is not subscriptable",
     "output_type": "error",
     "traceback": [
      "\u001b[1;31m---------------------------------------------------------------------------\u001b[0m",
      "\u001b[1;31mTypeError\u001b[0m                                 Traceback (most recent call last)",
      "Cell \u001b[1;32mIn[13], line 1\u001b[0m\n\u001b[1;32m----> 1\u001b[0m \u001b[38;5;28;43minput\u001b[39;49m\u001b[43m[\u001b[49m\u001b[38;5;124;43m'\u001b[39;49m\u001b[38;5;124;43mtarget_valid\u001b[39;49m\u001b[38;5;124;43m'\u001b[39;49m\u001b[43m]\u001b[49m[\u001b[38;5;241m1\u001b[39m][\u001b[38;5;241m5\u001b[39m]\n",
      "\u001b[1;31mTypeError\u001b[0m: 'method' object is not subscriptable"
     ]
    }
   ],
   "source": [
    "input['target_valid'][1][5]"
   ]
  },
  {
   "cell_type": "code",
   "execution_count": 81,
   "metadata": {},
   "outputs": [
    {
     "data": {
      "text/plain": [
       "torch.Size([6, 192])"
      ]
     },
     "execution_count": 81,
     "metadata": {},
     "output_type": "execute_result"
    }
   ],
   "source": [
    "fmask.shape"
   ]
  },
  {
   "cell_type": "code",
   "execution_count": 79,
   "metadata": {},
   "outputs": [
    {
     "data": {
      "text/plain": [
       "354000"
      ]
     },
     "execution_count": 79,
     "metadata": {},
     "output_type": "execute_result"
    }
   ],
   "source": [
    "177 * 2000"
   ]
  },
  {
   "cell_type": "code",
   "execution_count": 4,
   "metadata": {},
   "outputs": [],
   "source": [
    "from torch import nn\n",
    "import torch\n",
    "\n",
    "temp = torch.randn([18, 110, 256])\n",
    "self_attn = nn.MultiheadAttention(embed_dim = 256, \n",
    "                                num_heads = 2,\n",
    "                                dropout = 0.0,\n",
    "                                batch_first=True)"
   ]
  },
  {
   "cell_type": "code",
   "execution_count": null,
   "metadata": {},
   "outputs": [],
   "source": []
  }
 ],
 "metadata": {
  "kernelspec": {
   "display_name": "mimolm-kv68Yv56",
   "language": "python",
   "name": "python3"
  },
  "language_info": {
   "codemirror_mode": {
    "name": "ipython",
    "version": 3
   },
   "file_extension": ".py",
   "mimetype": "text/x-python",
   "name": "python",
   "nbconvert_exporter": "python",
   "pygments_lexer": "ipython3",
   "version": "3.10.4"
  }
 },
 "nbformat": 4,
 "nbformat_minor": 2
}
