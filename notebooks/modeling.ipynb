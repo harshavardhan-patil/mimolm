{
 "cells": [
  {
   "cell_type": "code",
   "execution_count": 1,
   "metadata": {},
   "outputs": [
    {
     "name": "stderr",
     "output_type": "stream",
     "text": [
      "\u001b[32m2025-01-27 18:43:57.252\u001b[0m | \u001b[1mINFO    \u001b[0m | \u001b[36msrc.config\u001b[0m:\u001b[36m<module>\u001b[0m:\u001b[36m11\u001b[0m - \u001b[1mPROJ_ROOT path is: G:\\Work\\DS\\mimolm\u001b[0m\n",
      "c:\\Users\\Harshavardhan Patil\\.virtualenvs\\mimolm-kv68Yv56\\lib\\site-packages\\tqdm\\auto.py:21: TqdmWarning: IProgress not found. Please update jupyter and ipywidgets. See https://ipywidgets.readthedocs.io/en/stable/user_install.html\n",
      "  from .autonotebook import tqdm as notebook_tqdm\n"
     ]
    },
    {
     "name": "stdout",
     "output_type": "stream",
     "text": [
      "g:\\Work\\DS\\mimolm\\notebooks\n"
     ]
    }
   ],
   "source": [
    "import sys\n",
    "from pathlib import Path\n",
    "from os.path  import join\n",
    "from src.config import DATA_DIR, CONFIG_DIR\n",
    "from omegaconf import OmegaConf\n",
    "from src.external.hptr.src.data_modules.agent_centric import AgentCentricPreProcessing\n",
    "from src.external.hptr.src.data_modules.ac_global import AgentCentricGlobal\n",
    "from src.mimolm import InputProjections, EarlyFusionEncoder, MotionDecoder\n",
    "import torch\n",
    "import torch.nn.functional as F\n",
    "import lightning as pl\n",
    "\n",
    "# Add the project root to sys.path\n",
    "project_root = Path().resolve().parent  # Adjust as needed to point to the root folder\n",
    "sys.path.append(str(project_root))\n",
    "\n",
    "print(Path.cwd())  # Check if the path is added"
   ]
  },
  {
   "cell_type": "code",
   "execution_count": 4,
   "metadata": {},
   "outputs": [
    {
     "name": "stderr",
     "output_type": "stream",
     "text": [
      "GPU available: True (cuda), used: True\n",
      "TPU available: False, using: 0 TPU cores\n",
      "HPU available: False, using: 0 HPUs\n",
      "LOCAL_RANK: 0 - CUDA_VISIBLE_DEVICES: [0]\n",
      "\n",
      "  | Name              | Type               | Params | Mode \n",
      "-----------------------------------------------------------------\n",
      "0 | preprocessor      | Sequential         | 0      | train\n",
      "1 | input_projections | InputProjections   | 469 K  | train\n",
      "2 | encoder           | EarlyFusionEncoder | 2.4 M  | train\n",
      "3 | decoder           | MotionDecoder      | 1.6 M  | train\n",
      "4 | logsoftmax        | LogSoftmax         | 0      | train\n",
      "5 | criterion         | NLLLoss            | 0      | train\n",
      "-----------------------------------------------------------------\n",
      "4.5 M     Trainable params\n",
      "0         Non-trainable params\n",
      "4.5 M     Total params\n",
      "18.071    Total estimated model params size (MB)\n",
      "94        Modules in train mode\n",
      "0         Modules in eval mode\n"
     ]
    },
    {
     "name": "stdout",
     "output_type": "stream",
     "text": [
      "Input projections parameters: 0.47M\n",
      "Encoder parameters: 2.42M\n",
      "Decoder parameters: 1.63M\n",
      "Epoch 1: 100%|██████████| 50/50 [03:30<00:00,  0.24it/s, v_num=4]"
     ]
    },
    {
     "name": "stderr",
     "output_type": "stream",
     "text": [
      "`Trainer.fit` stopped: `max_epochs=2` reached.\n"
     ]
    },
    {
     "name": "stdout",
     "output_type": "stream",
     "text": [
      "Epoch 1: 100%|██████████| 50/50 [03:31<00:00,  0.24it/s, v_num=4]\n"
     ]
    }
   ],
   "source": [
    "from src.external.hptr.src.data_modules.data_h5_av2 import DataH5av2\n",
    "from src.mimolm import MimoLM\n",
    "\n",
    "data_module = DataH5av2(DATA_DIR / \"interim\" / \"train\" )\n",
    "data_module.setup(stage=\"fit\")\n",
    "data_loader = data_module.train_dataloader()\n",
    "\n",
    "model = MimoLM(data_size=data_module.tensor_size_train)\n",
    "\n",
    "trainer = pl.Trainer(max_epochs=2)\n",
    "trainer.fit(model=model, train_dataloaders=data_loader)"
   ]
  },
  {
   "cell_type": "code",
   "execution_count": null,
   "metadata": {},
   "outputs": [],
   "source": [
    "model.to"
   ]
  },
  {
   "cell_type": "code",
   "execution_count": 3,
   "metadata": {},
   "outputs": [
    {
     "ename": "NameError",
     "evalue": "name 'hjask' is not defined",
     "output_type": "error",
     "traceback": [
      "\u001b[1;31m---------------------------------------------------------------------------\u001b[0m",
      "\u001b[1;31mNameError\u001b[0m                                 Traceback (most recent call last)",
      "Cell \u001b[1;32mIn[3], line 1\u001b[0m\n\u001b[1;32m----> 1\u001b[0m \u001b[43mhjask\u001b[49m\n",
      "\u001b[1;31mNameError\u001b[0m: name 'hjask' is not defined"
     ]
    }
   ],
   "source": [
    "hjask"
   ]
  },
  {
   "cell_type": "code",
   "execution_count": 2,
   "metadata": {},
   "outputs": [],
   "source": [
    "from src.external.hptr.src.data_modules.data_h5_av2 import DataH5av2\n",
    "\n",
    "data_module = DataH5av2(DATA_DIR / \"interim\" / \"train\" )\n",
    "data_module.setup(stage=\"fit\")\n",
    "dl = data_module.train_dataloader()"
   ]
  },
  {
   "cell_type": "code",
   "execution_count": 3,
   "metadata": {},
   "outputs": [
    {
     "name": "stdout",
     "output_type": "stream",
     "text": [
      "Input projections parameters: 0.47M\n",
      "Encoder parameters: 2.42M\n",
      "Decoder parameters: 1.63M\n"
     ]
    }
   ],
   "source": [
    "from src.mimolm import MimoLM\n",
    "\n",
    "model = MimoLM(data_size=data_module.tensor_size_train)"
   ]
  },
  {
   "cell_type": "code",
   "execution_count": 16,
   "metadata": {},
   "outputs": [],
   "source": [
    "from src.modeling.modules.lm_utils import tokenize_motion\n",
    "\n",
    "#dic = OmegaConf.load(Path(CONFIG_DIR / \"model/ac_wayformer.yaml\"))\n",
    "episode = None\n",
    "fmask = None\n",
    "prepreprocess = AgentCentricPreProcessing(time_step_current=49, \n",
    "                                          data_size=data_module.tensor_size_train, \n",
    "                                          n_target=8,\n",
    "                                          n_other=48,\n",
    "                                          n_map=512,\n",
    "                                          mask_invalid=False)\n",
    "\n",
    "preprocess = AgentCentricGlobal(time_step_current=49,\n",
    "                                data_size=data_module.tensor_size_train,\n",
    "                                dropout_p_history=0.15, \n",
    "                                add_ohe=True,\n",
    "                                pl_aggr=False,\n",
    "                                pose_pe= {\"agent\": \"xy_dir\",\n",
    "                                        \"map\": \"mpa_pl\"})\n",
    "\n",
    "inputproj = InputProjections(hidden_dim=256,\n",
    "                             agent_attr_dim=preprocess.model_kwargs[\"agent_attr_dim\"],\n",
    "                             map_attr_dim=preprocess.model_kwargs[\"map_attr_dim\"],\n",
    "                             n_step_hist=preprocess.model_kwargs[\"n_step_hist\"],\n",
    "                             n_pl_node=preprocess.model_kwargs[\"n_pl_node\"],\n",
    "                             add_learned_pe=True,\n",
    "                             n_layer_mlp=3,\n",
    "                             mlp_cfg={\"end_layer_activation\" : True,\n",
    "                                        \"use_layernorm\" :  False,\n",
    "                                        \"use_batchnorm\" : False,\n",
    "                                        \"dropout_p\" : None,})\n",
    "\n",
    "encoder = EarlyFusionEncoder(hidden_dim=256,\n",
    "                             tf_cfg={\"n_head\": 4,\n",
    "                                     \"dropout_p\": 0.1,\n",
    "                                     \"norm_first\": True,\n",
    "                                     \"bias\": True},\n",
    "                             latent_query={\"use_agent_type\": False,\n",
    "                                           \"mode_emb\": \"none\", # linear, mlp, add, none\n",
    "                                           \"mode_init\": \"xavier\", # uniform, xavier\n",
    "                                           \"scale\": 5.0},\n",
    "                             n_latent_query=192,\n",
    "                             n_encoder_layers=2)  \n",
    "\n",
    "decoder = MotionDecoder()\n",
    "logsoftmax = torch.nn.LogSoftmax(dim=-1)\n",
    "loss_fn = torch.nn.NLLLoss()"
   ]
  },
  {
   "cell_type": "code",
   "execution_count": 19,
   "metadata": {},
   "outputs": [
    {
     "name": "stdout",
     "output_type": "stream",
     "text": [
      "torch.Size([2, 8, 110])\n",
      "tensor(5.1317, grad_fn=<NllLossBackward0>)\n"
     ]
    }
   ],
   "source": [
    "f = None\n",
    "femb = None\n",
    "a = None\n",
    "l = None\n",
    "for batch in dl:\n",
    "    batch = prepreprocess(batch=batch)\n",
    "    batch = preprocess(batch=batch)\n",
    "    actuals = tokenize_motion(batch[\"gt/pos\"],\n",
    "                            decoder.pos_bins, \n",
    "                            decoder.verlet_wrapper, \n",
    "                            decoder.n_verlet_steps, \n",
    "                            decoder.n_time_steps)\n",
    "    a = actuals\n",
    "    motion_tokens = torch.cat((batch[\"ac/target_pos\"], batch[\"gt/pos\"]), dim = -2)\n",
    "    target_types = batch[\"ac/target_type\"]\n",
    "    input_dict = {\n",
    "    k.split(\"input/\")[-1]: v for k, v in batch.items() if \"input/\" in k\n",
    "    }\n",
    "    valid = input_dict[\"target_valid\"].any(-1)\n",
    "    target_emb, target_valid, other_emb, other_valid, map_emb, map_valid = inputproj(target_valid = input_dict[\"target_valid\"], \n",
    "              target_attr = input_dict[\"target_attr\"],\n",
    "              other_valid = input_dict[\"other_valid\"],\n",
    "              other_attr = input_dict[\"other_attr\"],\n",
    "              map_valid = input_dict[\"map_valid\"],\n",
    "              map_attr = input_dict[\"map_attr\"],)\n",
    "    fused_emb, fused_emb_invalid = encoder(\n",
    "                target_emb, target_valid, other_emb, other_valid, map_emb, map_valid, input_dict[\"target_type\"], valid\n",
    "            )\n",
    "    pred = decoder(motion_tokens, target_types, fused_emb, fused_emb_invalid)\n",
    "    episode = pred\n",
    "    loss = loss_fn(\n",
    "        logsoftmax(pred[:, 50:, :].flatten(0, 1)), \n",
    "        actuals.flatten(0, 1).flatten(0, 1).repeat(64))\n",
    "    print(loss)\n",
    "    break"
   ]
  },
  {
   "cell_type": "code",
   "execution_count": 5,
   "metadata": {},
   "outputs": [
    {
     "data": {
      "text/plain": [
       "torch.Size([1024, 110, 169])"
      ]
     },
     "execution_count": 5,
     "metadata": {},
     "output_type": "execute_result"
    }
   ],
   "source": [
    "episode.shape"
   ]
  },
  {
   "cell_type": "code",
   "execution_count": 6,
   "metadata": {},
   "outputs": [
    {
     "data": {
      "text/plain": [
       "torch.Size([61440, 169])"
      ]
     },
     "execution_count": 6,
     "metadata": {},
     "output_type": "execute_result"
    }
   ],
   "source": [
    "episode[:, 50:, :].flatten(0, 1).shape"
   ]
  },
  {
   "cell_type": "code",
   "execution_count": null,
   "metadata": {},
   "outputs": [],
   "source": [
    "loss_fn(F.log_softmax(episode[:, 50:, :].flatten(0, 1), dim=-1), a.flatten(0, 1).flatten(0, 1))"
   ]
  },
  {
   "cell_type": "code",
   "execution_count": 9,
   "metadata": {},
   "outputs": [
    {
     "data": {
      "text/plain": [
       "torch.Size([2, 8, 60])"
      ]
     },
     "execution_count": 9,
     "metadata": {},
     "output_type": "execute_result"
    }
   ],
   "source": [
    "a.shape"
   ]
  },
  {
   "cell_type": "code",
   "execution_count": 14,
   "metadata": {},
   "outputs": [
    {
     "data": {
      "text/plain": [
       "torch.Size([960])"
      ]
     },
     "execution_count": 14,
     "metadata": {},
     "output_type": "execute_result"
    }
   ],
   "source": [
    "a.flatten(0, 1).flatten(0, 1).shape"
   ]
  },
  {
   "cell_type": "code",
   "execution_count": 7,
   "metadata": {},
   "outputs": [
    {
     "data": {
      "text/plain": [
       "torch.Size([16, 192, 256])"
      ]
     },
     "execution_count": 7,
     "metadata": {},
     "output_type": "execute_result"
    }
   ],
   "source": [
    "femb.shape"
   ]
  },
  {
   "cell_type": "code",
   "execution_count": 8,
   "metadata": {},
   "outputs": [
    {
     "data": {
      "text/plain": [
       "tensor([[[  0,   1,   2,  ..., 107, 108, 109],\n",
       "         [  0,   1,   2,  ..., 107, 108, 109],\n",
       "         [  0,   1,   2,  ..., 107, 108, 109],\n",
       "         ...,\n",
       "         [  0,   1,   2,  ..., 107, 108, 109],\n",
       "         [  0,   1,   2,  ..., 107, 108, 109],\n",
       "         [  0,   1,   2,  ..., 107, 108, 109]],\n",
       "\n",
       "        [[  0,   1,   2,  ..., 107, 108, 109],\n",
       "         [  0,   1,   2,  ..., 107, 108, 109],\n",
       "         [  0,   1,   2,  ..., 107, 108, 109],\n",
       "         ...,\n",
       "         [  0,   1,   2,  ..., 107, 108, 109],\n",
       "         [  0,   1,   2,  ..., 107, 108, 109],\n",
       "         [  0,   1,   2,  ..., 107, 108, 109]]])"
      ]
     },
     "execution_count": 8,
     "metadata": {},
     "output_type": "execute_result"
    }
   ],
   "source": [
    "temp = torch.arange(0, 110)\n",
    "temp.unsqueeze(0).repeat(motion_tokens.shape[1], 1).unsqueeze(0).repeat(motion_tokens.shape[0], 1, 1)"
   ]
  },
  {
   "cell_type": "code",
   "execution_count": 9,
   "metadata": {},
   "outputs": [
    {
     "data": {
      "text/plain": [
       "torch.Size([1024, 110, 169])"
      ]
     },
     "execution_count": 9,
     "metadata": {},
     "output_type": "execute_result"
    }
   ],
   "source": [
    "episode.shape"
   ]
  },
  {
   "cell_type": "code",
   "execution_count": null,
   "metadata": {},
   "outputs": [],
   "source": [
    "episode[1] == episode.reshape((-1, 256))[110:220]"
   ]
  },
  {
   "cell_type": "code",
   "execution_count": 11,
   "metadata": {},
   "outputs": [
    {
     "data": {
      "text/plain": [
       "torch.Size([16, 192])"
      ]
     },
     "execution_count": 11,
     "metadata": {},
     "output_type": "execute_result"
    }
   ],
   "source": [
    "fmask.shape"
   ]
  },
  {
   "cell_type": "code",
   "execution_count": 12,
   "metadata": {},
   "outputs": [
    {
     "data": {
      "text/plain": [
       "torch.Size([16, 192, 256])"
      ]
     },
     "execution_count": 12,
     "metadata": {},
     "output_type": "execute_result"
    }
   ],
   "source": [
    "fused_emb.shape"
   ]
  },
  {
   "cell_type": "code",
   "execution_count": 81,
   "metadata": {},
   "outputs": [
    {
     "data": {
      "text/plain": [
       "torch.Size([6, 192])"
      ]
     },
     "execution_count": 81,
     "metadata": {},
     "output_type": "execute_result"
    }
   ],
   "source": [
    "fmask.shape"
   ]
  },
  {
   "cell_type": "code",
   "execution_count": null,
   "metadata": {},
   "outputs": [],
   "source": []
  }
 ],
 "metadata": {
  "kernelspec": {
   "display_name": "mimolm-kv68Yv56",
   "language": "python",
   "name": "python3"
  },
  "language_info": {
   "codemirror_mode": {
    "name": "ipython",
    "version": 3
   },
   "file_extension": ".py",
   "mimetype": "text/x-python",
   "name": "python",
   "nbconvert_exporter": "python",
   "pygments_lexer": "ipython3",
   "version": "3.10.4"
  }
 },
 "nbformat": 4,
 "nbformat_minor": 2
}
