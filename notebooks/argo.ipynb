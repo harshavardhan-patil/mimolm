{
 "cells": [
  {
   "cell_type": "code",
   "execution_count": 1,
   "metadata": {},
   "outputs": [
    {
     "name": "stdout",
     "output_type": "stream",
     "text": [
      "g:\\Work\\DS\\mimolm\\notebooks\n"
     ]
    }
   ],
   "source": [
    "import sys\n",
    "from pathlib import Path\n",
    "from os.path  import join\n",
    "\n",
    "# Add the project root to sys.path\n",
    "project_root = Path().resolve().parent  # Adjust as needed to point to the root folder\n",
    "sys.path.append(str(project_root))\n",
    "\n",
    "print(Path.cwd())  # Check if the path is added\n"
   ]
  },
  {
   "cell_type": "code",
   "execution_count": 2,
   "metadata": {},
   "outputs": [],
   "source": [
    "from av2.datasets.motion_forecasting import scenario_serialization\n",
    "from av2.map.map_api import ArgoverseStaticMap"
   ]
  },
  {
   "cell_type": "code",
   "execution_count": 32,
   "metadata": {},
   "outputs": [],
   "source": [
    "scenario_path = \"../data/argoex/0a0af725-fbc3-41de-b969-3be718f694e2/scenario_0a0af725-fbc3-41de-b969-3be718f694e2.parquet\"\n",
    "static_map_path = Path(\"../data/argoex/0a0af725-fbc3-41de-b969-3be718f694e2/log_map_archive_0a0af725-fbc3-41de-b969-3be718f694e2.json\")\n",
    "\n",
    "scenario = scenario_serialization.load_argoverse_scenario_parquet(scenario_path)\n",
    "argomap = ArgoverseStaticMap.from_json(static_map_path)\n",
    "\n",
    "visualize_scenario(scenario, argomap, Path(\"../data/argoex/argoext.mp4\"))"
   ]
  },
  {
   "cell_type": "code",
   "execution_count": 42,
   "metadata": {},
   "outputs": [
    {
     "data": {
      "text/plain": [
       "[ObjectState(observed=True, timestep=0, position=(1515.091954808732, -1215.7317426738146), heading=2.777955112814176, velocity=(-12.291568400810661, 4.676217144421995)),\n",
       " ObjectState(observed=True, timestep=1, position=(1514.403955126936, -1215.4765045129302), heading=2.7782476807769734, velocity=(-12.307088723510377, 4.677199214156245)),\n",
       " ObjectState(observed=True, timestep=2, position=(1513.5738215903039, -1215.1680550506903), heading=2.7785522575709924, velocity=(-12.306393235459426, 4.692237664918388)),\n",
       " ObjectState(observed=True, timestep=3, position=(1512.6104514288609, -1214.8103705033695), heading=2.7790718841732693, velocity=(-12.307019122889981, 4.693907204978763)),\n",
       " ObjectState(observed=True, timestep=4, position=(1511.52504088425, -1214.4058783224682), heading=2.779450371792981, velocity=(-12.31029833732354, 4.674579002850383)),\n",
       " ObjectState(observed=True, timestep=5, position=(1510.3380908833, -1213.9617133792474), heading=2.77973212382364, velocity=(-12.311628460079117, 4.6629759361108185)),\n",
       " ObjectState(observed=True, timestep=6, position=(1509.0680293612472, -1213.4857506192247), heading=2.779906295372069, velocity=(-12.319852797727702, 4.6473223090420515)),\n",
       " ObjectState(observed=True, timestep=7, position=(1507.7488340828054, -1212.9917417997508), heading=2.7801092968508065, velocity=(-12.3165407332719, 4.642667482815675)),\n",
       " ObjectState(observed=True, timestep=8, position=(1506.4149097360196, -1212.491446375199), heading=2.7802046187998366, velocity=(-12.307148362396028, 4.639899825571283)),\n",
       " ObjectState(observed=True, timestep=9, position=(1505.1121644195189, -1212.002554709984), heading=2.7802672385040155, velocity=(-12.294235331101705, 4.640681853163975)),\n",
       " ObjectState(observed=True, timestep=10, position=(1503.8834938305206, -1211.5406139796855), heading=2.7802146813758783, velocity=(-12.282736226176672, 4.640078790386399)),\n",
       " ObjectState(observed=True, timestep=11, position=(1502.6601413722888, -1211.0796488631495), heading=2.780064648303388, velocity=(-12.271094685610434, 4.638822163199873)),\n",
       " ObjectState(observed=True, timestep=12, position=(1501.4429312390976, -1210.6195602063071), heading=2.779375132786772, velocity=(-12.254183551768861, 4.650397062886781)),\n",
       " ObjectState(observed=True, timestep=13, position=(1500.230788659363, -1210.1609265020315), heading=2.778492625721804, velocity=(-12.23780391290811, 4.652773829232181)),\n",
       " ObjectState(observed=True, timestep=14, position=(1499.020840948731, -1209.7028050390431), heading=2.7776417257559927, velocity=(-12.214484017276733, 4.64553939568505)),\n",
       " ObjectState(observed=True, timestep=15, position=(1497.8111884076243, -1209.2427536255875), heading=2.7764425207814445, velocity=(-12.141060239153752, 4.616759458921141)),\n",
       " ObjectState(observed=True, timestep=16, position=(1496.603613677193, -1208.783969127829), heading=2.775280523292644, velocity=(-12.063015308804543, 4.594949498628449)),\n",
       " ObjectState(observed=True, timestep=17, position=(1495.4081770584457, -1208.3268383019567), heading=2.7738644299391884, velocity=(-11.990280741904055, 4.575052140415246)),\n",
       " ObjectState(observed=True, timestep=18, position=(1494.224349411128, -1207.874210660293), heading=2.7726714976352436, velocity=(-11.921802591782969, 4.56229271583907)),\n",
       " ObjectState(observed=True, timestep=19, position=(1493.0462721052559, -1207.4223433777315), heading=2.7714383619841265, velocity=(-11.860740646076268, 4.557372991064865)),\n",
       " ObjectState(observed=True, timestep=20, position=(1491.876161486734, -1206.9731170389198), heading=2.770603748185477, velocity=(-11.80575270341347, 4.557898722038428)),\n",
       " ObjectState(observed=True, timestep=21, position=(1490.7099163077305, -1206.522882737639), heading=2.76972009745247, velocity=(-11.745151907046832, 4.5656691373889435)),\n",
       " ObjectState(observed=True, timestep=22, position=(1489.5407964470905, -1206.0681701150343), heading=2.768578488160271, velocity=(-11.682392161326726, 4.572818755744773)),\n",
       " ObjectState(observed=True, timestep=23, position=(1488.3732218606278, -1205.6136831060994), heading=2.7676864572891193, velocity=(-11.621713290565166, 4.569887542022907)),\n",
       " ObjectState(observed=True, timestep=24, position=(1487.203320332862, -1205.159404873068), heading=2.7671323707559186, velocity=(-11.564168850476257, 4.555866336658437)),\n",
       " ObjectState(observed=True, timestep=25, position=(1486.03474406559, -1204.70507415671), heading=2.7667372366160583, velocity=(-11.509892901687774, 4.537355797293762)),\n",
       " ObjectState(observed=True, timestep=26, position=(1484.8662949098427, -1204.2488656444934), heading=2.7663272096611102, velocity=(-11.485454175229311, 4.523340396040986)),\n",
       " ObjectState(observed=True, timestep=27, position=(1483.7001263765837, -1203.7922266045903), heading=2.765980043218765, velocity=(-11.454990588116972, 4.510974389366899)),\n",
       " ObjectState(observed=True, timestep=28, position=(1482.5342050280592, -1203.334368653239), heading=2.7654338342818896, velocity=(-11.423974595618477, 4.4943494588011506)),\n",
       " ObjectState(observed=True, timestep=29, position=(1481.3759315476004, -1202.877168801479), heading=2.7646968470141897, velocity=(-11.418129323788467, 4.511802740764346)),\n",
       " ObjectState(observed=True, timestep=30, position=(1480.21903822448, -1202.4188871611113), heading=2.7637495162689056, velocity=(-11.413960790904408, 4.520131113989163)),\n",
       " ObjectState(observed=True, timestep=31, position=(1479.0664549834335, -1201.9602960074872), heading=2.7629115834240148, velocity=(-11.403809832035124, 4.517493369126316)),\n",
       " ObjectState(observed=True, timestep=32, position=(1477.9128948614618, -1201.4973943050272), heading=2.761627845470276, velocity=(-11.384026080269209, 4.517457958649347)),\n",
       " ObjectState(observed=True, timestep=33, position=(1476.7593183179854, -1201.032129435147), heading=2.760070043033576, velocity=(-11.351426472835808, 4.526706210407021)),\n",
       " ObjectState(observed=True, timestep=34, position=(1475.6127954826695, -1200.5684527646308), heading=2.7587572395216076, velocity=(-11.308379954792946, 4.534159197825352)),\n",
       " ObjectState(observed=True, timestep=35, position=(1474.4745548686506, -1200.105796911992), heading=2.757385742326262, velocity=(-11.265333436750083, 4.541612185243684)),\n",
       " ObjectState(observed=True, timestep=36, position=(1473.3377680126484, -1199.642813515426), heading=2.7562163167418685, velocity=(-11.219782603710836, 4.548666353808042)),\n",
       " ObjectState(observed=True, timestep=37, position=(1472.2066391203684, -1199.1788971422068), heading=2.7549226712813915, velocity=(-11.187076609102704, 4.5552627840247535)),\n",
       " ObjectState(observed=True, timestep=38, position=(1471.0777546741965, -1198.7180405029144), heading=2.754597742216339, velocity=(-11.195562632400707, 4.565055508311552)),\n",
       " ObjectState(observed=True, timestep=39, position=(1469.9465850487284, -1198.2519016415592), heading=2.753303594120849, velocity=(-11.227444390578123, 4.578055675128865)),\n",
       " ObjectState(observed=True, timestep=40, position=(1468.8208236987414, -1197.7900714590405), heading=2.75263146128327, velocity=(-11.277091927787964, 4.620705403115538)),\n",
       " ObjectState(observed=True, timestep=41, position=(1467.6999174718153, -1197.3296829299966), heading=2.751992520789761, velocity=(-11.275434939465237, 4.622485781571289)),\n",
       " ObjectState(observed=True, timestep=42, position=(1466.5788531154024, -1196.8678412371348), heading=2.751320513158938, velocity=(-11.273777951142508, 4.62426616002704)),\n",
       " ObjectState(observed=True, timestep=43, position=(1465.4561320232767, -1196.4044141099728), heading=2.7506689705360743, velocity=(-11.257693516811822, 4.628070897395438)),\n",
       " ObjectState(observed=True, timestep=44, position=(1464.3317003144537, -1195.9396870416274), heading=2.7501126401293248, velocity=(-11.27269084142211, 4.637921474006428)),\n",
       " ObjectState(observed=True, timestep=45, position=(1463.2040148098731, -1195.472869622805), heading=2.749619777682067, velocity=(-11.282232732301129, 4.6395781508177345)),\n",
       " ObjectState(observed=True, timestep=46, position=(1462.0747535346854, -1195.0035880700405), heading=2.749076332926354, velocity=(-11.296337537004941, 4.629128676333801)),\n",
       " ObjectState(observed=True, timestep=47, position=(1460.9422730246952, -1194.5303171239648), heading=2.7485482950635234, velocity=(-11.30328313963327, 4.671465007365975)),\n",
       " ObjectState(observed=True, timestep=48, position=(1459.8000845303184, -1194.05515409476), heading=2.7485841559728774, velocity=(-11.30244071344438, 4.671534058178116)),\n",
       " ObjectState(observed=True, timestep=49, position=(1458.6486976087153, -1193.5771052251848), heading=2.748809053203841, velocity=(-11.33664342515901, 4.716949673873299))]"
      ]
     },
     "execution_count": 42,
     "metadata": {},
     "output_type": "execute_result"
    }
   ],
   "source": [
    "scenario.tracks[3].object_states"
   ]
  },
  {
   "cell_type": "code",
   "execution_count": null,
   "metadata": {},
   "outputs": [],
   "source": [
    "import torch\n",
    "from torch_geometric.nn import GATConv\n",
    "from torch.nn import TransformerDecoder, TransformerDecoderLayer\n",
    "from torch_geometric.data import DataLoader\n",
    "\n",
    "class GNNEncoder(torch.nn.Module):\n",
    "    def __init__(self, node_feature_dim, edge_feature_dim, hidden_dim):\n",
    "        super().__init__()\n",
    "        self.gnn1 = GATConv(node_feature_dim, hidden_dim)\n",
    "        self.gnn2 = GATConv(hidden_dim, hidden_dim)\n",
    "\n",
    "    def forward(self, x, edge_index):\n",
    "        x = self.gnn1(x, edge_index).relu()\n",
    "        x = self.gnn2(x, edge_index)\n",
    "        return x\n",
    "\n",
    "class TrajectoryDecoder(torch.nn.Module):\n",
    "    def __init__(self, hidden_dim, num_tokens, num_layers=2):\n",
    "        super().__init__()\n",
    "        self.embedding = torch.nn.Embedding(num_tokens, hidden_dim)\n",
    "        self.decoder_layer = TransformerDecoderLayer(d_model=hidden_dim, nhead=4)\n",
    "        self.decoder = TransformerDecoder(self.decoder_layer, num_layers=num_layers)\n",
    "        self.output_layer = torch.nn.Linear(hidden_dim, num_tokens)\n",
    "\n",
    "    def forward(self, context, target_tokens):\n",
    "        target_embeddings = self.embedding(target_tokens)\n",
    "        decoded = self.decoder(target_embeddings, context)\n",
    "        return self.output_layer(decoded)\n",
    "\n",
    "class MotionModel(torch.nn.Module):\n",
    "    def __init__(self, node_feature_dim, edge_feature_dim, hidden_dim, num_tokens):\n",
    "        super().__init__()\n",
    "        self.encoder = GNNEncoder(node_feature_dim, edge_feature_dim, hidden_dim)\n",
    "        self.decoder = TrajectoryDecoder(hidden_dim, num_tokens)\n",
    "\n",
    "    def forward(self, graph, target_tokens):\n",
    "        context = self.encoder(graph.x, graph.edge_index)\n",
    "        output = self.decoder(context, target_tokens)\n",
    "        return output\n",
    "\n",
    "# Example training loop\n",
    "model = MotionModel(node_feature_dim=10, edge_feature_dim=5, hidden_dim=128, num_tokens=169)\n",
    "optimizer = torch.optim.Adam(model.parameters(), lr=1e-3)\n",
    "\n",
    "for batch in DataLoader(train_dataset, batch_size=32, shuffle=True):\n",
    "    optimizer.zero_grad()\n",
    "    predictions = model(batch, batch.target_tokens)\n",
    "    loss = torch.nn.CrossEntropyLoss()(predictions.view(-1, 169), batch.target_tokens.view(-1))\n",
    "    loss.backward()\n",
    "    optimizer.step()\n"
   ]
  }
 ],
 "metadata": {
  "kernelspec": {
   "display_name": "mimolm",
   "language": "python",
   "name": "python3"
  },
  "language_info": {
   "codemirror_mode": {
    "name": "ipython",
    "version": 3
   },
   "file_extension": ".py",
   "mimetype": "text/x-python",
   "name": "python",
   "nbconvert_exporter": "python",
   "pygments_lexer": "ipython3",
   "version": "3.10.16"
  }
 },
 "nbformat": 4,
 "nbformat_minor": 2
}
