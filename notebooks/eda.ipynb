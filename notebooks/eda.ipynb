{
 "cells": [
  {
   "cell_type": "code",
   "execution_count": 1,
   "metadata": {},
   "outputs": [
    {
     "name": "stderr",
     "output_type": "stream",
     "text": [
      "\u001b[32m2025-02-16 16:56:14.103\u001b[0m | \u001b[1mINFO    \u001b[0m | \u001b[36msrc.config\u001b[0m:\u001b[36m<module>\u001b[0m:\u001b[36m11\u001b[0m - \u001b[1mPROJ_ROOT path is: /home/harshavardhan-patil/Work/Projects/mimolm\u001b[0m\n"
     ]
    },
    {
     "name": "stderr",
     "output_type": "stream",
     "text": [
      "/home/harshavardhan-patil/Work/Projects/mimolm/venv/lib/python3.12/site-packages/tqdm/auto.py:21: TqdmWarning: IProgress not found. Please update jupyter and ipywidgets. See https://ipywidgets.readthedocs.io/en/stable/user_install.html\n",
      "  from .autonotebook import tqdm as notebook_tqdm\n"
     ]
    },
    {
     "name": "stdout",
     "output_type": "stream",
     "text": [
      "/home/harshavardhan-patil/Work/Projects/mimolm/notebooks\n"
     ]
    }
   ],
   "source": [
    "import sys\n",
    "from pathlib import Path\n",
    "from os.path  import join\n",
    "from src.config import DATA_DIR, CONFIG_DIR, MODELS_DIR\n",
    "from omegaconf import OmegaConf\n",
    "from src.external.hptr.src.data_modules.agent_centric import AgentCentricPreProcessing\n",
    "from src.external.hptr.src.data_modules.ac_global import AgentCentricGlobal\n",
    "from src.mimolm import InputProjections, EarlyFusionEncoder, MotionDecoder\n",
    "import torch\n",
    "import torch.nn.functional as F\n",
    "import lightning as pl\n",
    "from collections import OrderedDict\n",
    "import torch.nn as nn\n",
    "from tqdm import tqdm\n",
    "import numpy as np\n",
    "\n",
    "# Add the project root to sys.path\n",
    "project_root = Path().resolve().parent  # Adjust as needed to point to the root folder\n",
    "sys.path.append(str(project_root))\n",
    "\n",
    "print(Path.cwd())  # Check if the path is added"
   ]
  },
  {
   "cell_type": "code",
   "execution_count": 2,
   "metadata": {},
   "outputs": [],
   "source": [
    "from src.external.hptr.src.data_modules.data_h5_av2 import DataH5av2\n",
    "from src.mimolm import MimoLM\n",
    "from lightning.pytorch.callbacks import LearningRateMonitor\n",
    "\n",
    "torch.set_printoptions(threshold=10000, sci_mode=False)\n",
    "data_module = DataH5av2(DATA_DIR)\n",
    "data_module.setup(stage=\"fit\")\n",
    "train_loader = data_module.train_dataloader()\n",
    "# val_loader = data_module.val_dataloader()\n",
    "\n",
    "preprocessor = nn.Sequential(OrderedDict([\n",
    "            ('pre_1', AgentCentricPreProcessing(sampling_rate = 5,\n",
    "                                        time_step_current=49, \n",
    "                                        n_target=12,\n",
    "                                        n_other=48,\n",
    "                                        n_map=512,\n",
    "                                        mask_invalid=False)),\n",
    "            ('pre_2', AgentCentricGlobal(sampling_rate = 5,\n",
    "                                data_size=data_module.tensor_size_train,\n",
    "                               time_step_current=49,\n",
    "                                dropout_p_history=0.1, \n",
    "                                add_ohe=True,\n",
    "                                pl_aggr=False,\n",
    "                                pose_pe= {\"agent\": \"xy_dir\",\n",
    "                                        \"map\": \"mpa_pl\"}))\n",
    "                                        ]))\n",
    "\n",
    "decoder = MotionDecoder(max_delta = 2.0, #meters\n",
    "                                n_quantization_bins = 128,\n",
    "                                n_verlet_steps = 13,\n",
    "                                emb_dim = 256,\n",
    "                                enc_dim = 128,\n",
    "                                sampling_rate = 5,\n",
    "                                n_time_steps = 110,\n",
    "                                n_target = 5, #should be same as AgentCentricProcessing\n",
    "                                time_step_end = 49,\n",
    "                                dropout_rate = 0.2,\n",
    "                                n_rollouts = 1,\n",
    "                                n_heads = 2,\n",
    "                                n_layers = 2,)\n",
    "\n",
    "def tokenize_motion(motion_tokens, pos_bins, verlet_wrapper, n_verlet_steps):\n",
    "    # delta_x and delta_y\n",
    "    motion_tokens = torch.diff(motion_tokens, dim=2, prepend=motion_tokens[:, :, :1, :])\n",
    "    # for masking transitional diffs\n",
    "    invalid_indices = torch.cat(((motion_tokens < -8.0).nonzero()\n",
    "                                 , (motion_tokens > 8.0).nonzero()\n",
    "                                 , (motion_tokens == 0.).nonzero())) # == 0. only for bin generation \n",
    "    \n",
    "    # MotionLM uses greedy search, using bucketize here for simplicity\n",
    "    x_tokens = torch.bucketize(motion_tokens[:, :, :, 0].contiguous(), pos_bins,)\n",
    "    y_tokens = torch.bucketize(motion_tokens[:, :, :, 1].contiguous(), pos_bins,)\n",
    "    x_last = x_tokens[:, :, -1].unsqueeze(-1)\n",
    "    y_last = y_tokens[:, :, -1].unsqueeze(-1)\n",
    "    x_tokens_diff = torch.diff(x_tokens, dim=2, prepend = x_tokens[:, :, :1])\n",
    "    y_tokens_diff = torch.diff(y_tokens, dim=2, prepend = y_tokens[:, :, :1])\n",
    "    # Verlet Wrapper (see paper): The idea is that velocity of cars changes smoothly, \n",
    "    # so we can use a smaller vocabulary to represent the relative motion between the last two time steps.\n",
    "    # e.g: max_delta: float = 4.0,  n_quantization_bins: int = 128,  n_verlet_steps: int = 13, 10 Hz predicition, \n",
    "    # the max speed for the modeled agent is 4 x 10 = 40 m/s. \n",
    "    # 0 to max steps in Verlet Wrapper represents the max distance delta modeled. \n",
    "    # THIS IS NO LONGER THE CASE WITH NON-UNIFORM BINS \n",
    "    # For -6 to 6 with 13 steps in Verlet and for 128 bins, the max acceleration between timesteps is 3.1 m/s^2.\n",
    "    x_tokens = torch.clamp(torch.bucketize(x_tokens_diff, verlet_wrapper,), min = 0, max = n_verlet_steps - 1)\n",
    "    y_tokens = torch.clamp(torch.bucketize(y_tokens_diff, verlet_wrapper,), min = 0, max = n_verlet_steps - 1)\n",
    "    mask = torch.ones_like(motion_tokens, dtype=bool)\n",
    "    mask[invalid_indices[:, 0], invalid_indices[:, 1], invalid_indices[:, 2]] = 0.\n",
    "    # collapse the per-coordinate actions to a single integer indexing into their Cartesian product\n",
    "    cart_prod = torch.tensor(x_tokens * n_verlet_steps + y_tokens) \n",
    "    # invalid tokens\n",
    "    cart_prod[invalid_indices[:, 0], invalid_indices[:, 1], invalid_indices[:, 2]] = n_verlet_steps ** 2\n",
    "    cart_prod[:, :, :1] = n_verlet_steps ** 2\n",
    "    return cart_prod, torch.cat((x_last, y_last), dim=-1), motion_tokens[mask]"
   ]
  },
  {
   "cell_type": "code",
   "execution_count": null,
   "metadata": {},
   "outputs": [
    {
     "name": "stderr",
     "output_type": "stream",
     "text": [
      "  0%|          | 0/1562 [00:00<?, ?it/s]/tmp/ipykernel_9379/3785995113.py:69: UserWarning: To copy construct from a tensor, it is recommended to use sourceTensor.clone().detach() or sourceTensor.clone().detach().requires_grad_(True), rather than torch.tensor(sourceTensor).\n",
      "  cart_prod = torch.tensor(x_tokens * n_verlet_steps + y_tokens)\n",
      "/tmp/ipykernel_9379/3565751573.py:39: DeprecationWarning: __array_wrap__ must accept context and return_scalar arguments (positionally) in the future. (Deprecated NumPy 2.0)\n",
      "  verlet_indices += np.bincount(actuals, minlength=170)\n",
      "100%|██████████| 1562/1562 [52:23<00:00,  2.01s/it]\n"
     ]
    }
   ],
   "source": [
    "verlet_indices = torch.tensor([0] * 170)\n",
    "motion_diffs = []\n",
    "i = 0\n",
    "inds = None\n",
    "for batch in tqdm(train_loader):\n",
    "    batch = preprocessor(batch)\n",
    "    a = torch.cat((batch[\"ac/target_pos\"], batch[\"gt/pos\"][:, :, ::2,]), dim = -2)\n",
    "    actuals, _, diff = tokenize_motion(a,\n",
    "                decoder.pos_bins,\n",
    "                decoder.verlet_wrapper, \n",
    "                decoder.n_verlet_steps)\n",
    "    actuals[:, :, :decoder.step_current][~batch['input/target_valid']] = decoder.n_verlet_steps ** 2\n",
    "    actuals = actuals.flatten(0, -1)\n",
    "    verlet_indices += np.bincount(actuals, minlength=170)\n",
    "    motion_diffs.extend(diff.tolist())\n",
    "    break"
   ]
  },
  {
   "cell_type": "code",
   "execution_count": null,
   "metadata": {},
   "outputs": [
    {
     "data": {
      "text/plain": [
       "{'Min': -7.9998698234558105,\n",
       " 'Max': 7.999887943267822,\n",
       " 'Mean': 0.3238078189874087,\n",
       " 'Median': 0.002700429642572999,\n",
       " 'Std Dev': 0.769892570401297,\n",
       " '10th Percentile': -0.036982059478759766,\n",
       " '25th Percentile (Q1)': -0.0044559057569131255,\n",
       " '50th Percentile (Median)': 0.002700429642572999,\n",
       " '75th Percentile (Q3)': 0.13794898986816406,\n",
       " '90th Percentile': 1.5481891632080078,\n",
       " '99th Percentile': 3.1614227294921875}"
      ]
     },
     "execution_count": 4,
     "metadata": {},
     "output_type": "execute_result"
    }
   ],
   "source": [
    "data = motion_diffs\n",
    "\n",
    "summary = {\n",
    "    \"Min\": float(np.min(data)),\n",
    "    \"Max\": float(np.max(data)),\n",
    "    \"Mean\": float(np.mean(data)),\n",
    "    \"Median\": float(np.median(data)),\n",
    "    \"Std Dev\": float(np.std(data)),\n",
    "    \"10th Percentile\": float(np.percentile(data, 10)),\n",
    "    \"25th Percentile (Q1)\": float(np.percentile(data, 25)),\n",
    "    \"50th Percentile (Median)\": float(np.percentile(data, 50)),\n",
    "    \"75th Percentile (Q3)\": float(np.percentile(data, 75)),\n",
    "    \"90th Percentile\": float(np.percentile(data, 90)),\n",
    "    \"99th Percentile\": float(np.percentile(data, 99)),\n",
    "}\n",
    "\n",
    "summary\n",
    "# {'Min': -7.9998698234558105,\n",
    "#  'Max': 7.999887943267822,\n",
    "#  'Mean': 0.3238078189874087,\n",
    "#  'Median': 0.002700429642572999,\n",
    "#  'Std Dev': 0.769892570401297,\n",
    "#  '10th Percentile': -0.036982059478759766,\n",
    "#  '25th Percentile (Q1)': -0.0044559057569131255,\n",
    "#  '50th Percentile (Median)': 0.002700429642572999,\n",
    "#  '75th Percentile (Q3)': 0.13794898986816406,\n",
    "#  '90th Percentile': 1.5481891632080078,\n",
    "#  '99th Percentile': 3.1614227294921875}"
   ]
  },
  {
   "cell_type": "code",
   "execution_count": 5,
   "metadata": {},
   "outputs": [
    {
     "data": {
      "image/png": "[encoded data removed]",
      "text/plain": [
       "<Figure size 640x480 with 1 Axes>"
      ]
     },
     "metadata": {},
     "output_type": "display_data"
    }
   ],
   "source": [
    "import seaborn as sns\n",
    "import matplotlib.pyplot as plt\n",
    "\n",
    "sns.histplot(np.clip(data, -8.0, 8.0), bins=169, kde=True)\n",
    "\n",
    "plt.xlabel(\"Value\")\n",
    "plt.ylabel(\"Count/Density\")\n",
    "plt.title(\"Histogram with KDE\")\n",
    "\n",
    "plt.show()\n"
   ]
  },
  {
   "cell_type": "code",
   "execution_count": null,
   "metadata": {},
   "outputs": [],
   "source": [
    "np.savetxt(\"diff_data_5hz.txt\", data, fmt=\"%.2f\")"
   ]
  },
  {
   "cell_type": "code",
   "execution_count": 13,
   "metadata": {},
   "outputs": [
    {
     "ename": "RuntimeError",
     "evalue": "quantile() input tensor is too large",
     "output_type": "error",
     "traceback": [
      "\u001b[0;31m---------------------------------------------------------------------------\u001b[0m",
      "\u001b[0;31mRuntimeError\u001b[0m                              Traceback (most recent call last)",
      "Cell \u001b[0;32mIn[13], line 1\u001b[0m\n\u001b[0;32m----> 1\u001b[0m \u001b[43mtorch\u001b[49m\u001b[38;5;241;43m.\u001b[39;49m\u001b[43mquantile\u001b[49m\u001b[43m(\u001b[49m\u001b[43mtorch\u001b[49m\u001b[38;5;241;43m.\u001b[39;49m\u001b[43mtensor\u001b[49m\u001b[43m(\u001b[49m\u001b[43m[\u001b[49m\u001b[43mdata\u001b[49m\u001b[43m]\u001b[49m\u001b[43m)\u001b[49m\u001b[43m,\u001b[49m\u001b[43m \u001b[49m\u001b[43mtorch\u001b[49m\u001b[38;5;241;43m.\u001b[39;49m\u001b[43mlinspace\u001b[49m\u001b[43m(\u001b[49m\u001b[38;5;241;43m0\u001b[39;49m\u001b[43m,\u001b[49m\u001b[43m \u001b[49m\u001b[38;5;241;43m1\u001b[39;49m\u001b[43m,\u001b[49m\u001b[43m \u001b[49m\u001b[43msteps\u001b[49m\u001b[38;5;241;43m=\u001b[39;49m\u001b[38;5;241;43m128\u001b[39;49m\u001b[43m)\u001b[49m\u001b[43m)\u001b[49m\n",
      "\u001b[0;31mRuntimeError\u001b[0m: quantile() input tensor is too large"
     ]
    }
   ],
   "source": [
    "torch.quantile(torch.tensor([data]), torch.linspace(0, 1, steps=128))"
   ]
  },
  {
   "cell_type": "code",
   "execution_count": null,
   "metadata": {},
   "outputs": [
    {
     "data": {
      "text/plain": [
       "array([-7.99986982e+00, -4.80515516e-01, -2.90285110e-01, -2.07447052e-01,\n",
       "       -1.59583569e-01, -1.27577724e-01, -1.04294774e-01, -8.67421402e-02,\n",
       "       -7.30916895e-02, -6.22835159e-02, -5.35616875e-02, -4.64320183e-02,\n",
       "       -4.05269618e-02, -3.55925560e-02, -3.14068198e-02, -2.78291702e-02,\n",
       "       -2.47572687e-02, -2.20771438e-02, -1.97351646e-02, -1.76718980e-02,\n",
       "       -1.58494115e-02, -1.42278671e-02, -1.27836357e-02, -1.14975572e-02,\n",
       "       -1.03395581e-02, -9.29996371e-03, -8.36381689e-03, -7.51924515e-03,\n",
       "       -6.75643329e-03, -6.05793297e-03, -5.42628765e-03, -4.85761165e-03,\n",
       "       -4.33536619e-03, -3.85799213e-03, -3.41749191e-03, -3.01334262e-03,\n",
       "       -2.64929608e-03, -2.31454521e-03, -1.99968368e-03, -1.72257423e-03,\n",
       "       -1.46495062e-03, -1.22833711e-03, -1.01258140e-03, -8.32785008e-04,\n",
       "       -6.54524192e-04, -4.97348440e-04, -3.70107591e-04, -2.43315590e-04,\n",
       "       -1.31397753e-04, -4.13954258e-05,  5.31226397e-06,  8.01086426e-05,\n",
       "        1.87076628e-04,  3.04222107e-04,  4.44378471e-04,  5.76049089e-04,\n",
       "        7.46726990e-04,  9.39562917e-04,  1.13264285e-03,  1.36695057e-03,\n",
       "        1.61322951e-03,  1.89649314e-03,  2.19231565e-03,  2.52063614e-03,\n",
       "        2.88917124e-03,  3.28008792e-03,  3.71067226e-03,  4.17984853e-03,\n",
       "        4.69755940e-03,  5.26269712e-03,  5.87858405e-03,  6.56014672e-03,\n",
       "        7.30907917e-03,  8.13221931e-03,  9.04385212e-03,  1.00538624e-02,\n",
       "        1.11795549e-02,  1.24282837e-02,  1.38215423e-02,  1.53844066e-02,\n",
       "        1.71356201e-02,  1.91088915e-02,  2.13436857e-02,  2.38749981e-02,\n",
       "        2.67695154e-02,  3.01017761e-02,  3.39735746e-02,  3.85200977e-02,\n",
       "        4.38975613e-02,  5.03389764e-02,  5.81321716e-02,  6.76279068e-02,\n",
       "        7.92440176e-02,  9.34823545e-02,  1.10866308e-01,  1.32049561e-01,\n",
       "        1.57212257e-01,  1.85974430e-01,  2.16883183e-01,  2.47898817e-01,\n",
       "        2.79182177e-01,  3.15620422e-01,  3.68264713e-01,  4.39561844e-01,\n",
       "        5.20139694e-01,  6.09279673e-01,  7.03842163e-01,  8.02555725e-01,\n",
       "        9.02770581e-01,  1.00376892e+00,  1.10529518e+00,  1.20780325e+00,\n",
       "        1.30911268e+00,  1.41200435e+00,  1.51671028e+00,  1.62149048e+00,\n",
       "        1.72696686e+00,  1.83071518e+00,  1.93999265e+00,  2.05144119e+00,\n",
       "        2.16033173e+00,  2.25523979e+00,  2.39767838e+00,  2.55966759e+00,\n",
       "        2.72384644e+00,  2.97303963e+00,  3.27389012e+00,  7.99988794e+00])"
      ]
     },
     "execution_count": 14,
     "metadata": {},
     "output_type": "execute_result"
    }
   ],
   "source": [
    "np.set_printoptions()\n",
    "np.quantile(data, np.linspace(0, 1, num=128))"
   ]
  },
  {
   "cell_type": "code",
   "execution_count": 6,
   "metadata": {},
   "outputs": [
    {
     "data": {
      "text/plain": [
       "tensor([ 2421063,   307552,   388406,   509306,   657673,   785484,   948522,\n",
       "          787378,   653729,   493817,   387046,   302467,  2344400,   259443,\n",
       "           51518,    68708,    97274,   140132,   162449,   200444,   170620,\n",
       "          135803,    94318,    66714,    49205,   251386,   333557,    67576,\n",
       "           93145,   131625,   189534,   227577,   289082,   237817,   181961,\n",
       "          126950,    88830,    64746,   322328,   448522,    90924,   125940,\n",
       "          184066,   270554,   338778,   444570,   348152,   260014,   176264,\n",
       "          123854,    88776,   430488,   646546,   130227,   181273,   272269,\n",
       "          408209,   546178,   778411,   553712,   390665,   256478,   173335,\n",
       "          124881,   622577,  1279849,   239921,   334274,   496138,   781027,\n",
       "         1281047,  2100955,  1318401,   774729,   482150,   325870,   231766,\n",
       "         1235521,  2795222,   504507,   709730,  1062941,  1753484,  3257395,\n",
       "         6493248,  3344946,  1820945,  1067714,   710567,   499615,  2774138,\n",
       "         1202201,   226753,   317378,   469792,   745504,  1259905,  2075758,\n",
       "         1272344,   767321,   483847,   325280,   232043,  1225585,   626809,\n",
       "          123529,   171875,   251855,   378655,   539537,   774195,   525720,\n",
       "          433678,   267042,   183395,   129817,   653231,   439689,    89106,\n",
       "          124609,   179065,   259670,   346896,   432213,   328766,   273901,\n",
       "          188538,   130628,    93061,   461681,   337765,    67005,    92529,\n",
       "          133222,   186074,   241366,   293871,   229958,   193388,   138751,\n",
       "           96470,    69386,   356316,   262032,    51254,    69453,    99310,\n",
       "          136174,   169778,   200475,   161516,   137805,   100166,    70907,\n",
       "           53176,   273639,  2648648,   306924,   387424,   512053,   667021,\n",
       "          806222,   954443,   790285,   672411,   521477,   405893,   317333,\n",
       "         2752856, 35782284])"
      ]
     },
     "execution_count": 6,
     "metadata": {},
     "output_type": "execute_result"
    }
   ],
   "source": [
    "verlet_indices"
   ]
  },
  {
   "cell_type": "code",
   "execution_count": 18,
   "metadata": {},
   "outputs": [
    {
     "data": {
      "image/png": "[encoded data removed]",
      "text/plain": [
       "<Figure size 1000x500 with 1 Axes>"
      ]
     },
     "metadata": {},
     "output_type": "display_data"
    }
   ],
   "source": [
    "plt.figure(figsize=(10, 5))\n",
    "plt.bar(torch.arange(len(verlet_indices) - 1), verlet_indices[:-1])\n",
    "\n",
    "# Labels and title\n",
    "plt.xlabel(\"Index\")\n",
    "plt.ylabel(\"Value\")\n",
    "plt.title(\"Histogram of Verlet Indices\")\n",
    "\n",
    "# Show the plot\n",
    "plt.show()"
   ]
  },
  {
   "cell_type": "code",
   "execution_count": 3,
   "metadata": {},
   "outputs": [
    {
     "name": "stderr",
     "output_type": "stream",
     "text": [
      "  0%|          | 0/199908 [00:00<?, ?it/s]/tmp/ipykernel_22966/3785995113.py:69: UserWarning: To copy construct from a tensor, it is recommended to use sourceTensor.clone().detach() or sourceTensor.clone().detach().requires_grad_(True), rather than torch.tensor(sourceTensor).\n",
      "  cart_prod = torch.tensor(x_tokens * n_verlet_steps + y_tokens)\n",
      "/tmp/ipykernel_22966/1479553418.py:17: DeprecationWarning: __array_wrap__ must accept context and return_scalar arguments (positionally) in the future. (Deprecated NumPy 2.0)\n",
      "  verlet_indices += np.bincount(actuals, minlength=170)\n",
      "  0%|          | 0/199908 [00:00<?, ?it/s]\n"
     ]
    }
   ],
   "source": [
    "verlet_indices = torch.tensor([0] * 170)\n",
    "motion_diffs = []\n",
    "i = 0\n",
    "v = None\n",
    "for batch in tqdm(train_loader):\n",
    "    batch = preprocessor(batch)\n",
    "    v = batch['input/target_valid']\n",
    "    a = torch.cat((batch[\"ac/target_pos\"], batch[\"gt/pos\"][:, :, ::2,]), dim = -2)\n",
    "    actuals, _, diff = tokenize_motion(a,\n",
    "                decoder.pos_bins, \n",
    "                decoder.verlet_wrapper, \n",
    "                decoder.n_verlet_steps,)\n",
    "    b = actuals\n",
    "    actuals[:, :, :decoder.step_current][~batch['input/target_valid']] = decoder.n_verlet_steps ** 2\n",
    "    b = actuals\n",
    "    actuals = actuals.flatten(0, -1)\n",
    "    verlet_indices += np.bincount(actuals, minlength=170)\n",
    "    motion_diffs.extend(diff.tolist())\n",
    "    x = diff\n",
    "    if not v[v.any(dim=-1)][ :, -1].all():\n",
    "        print('broken')\n",
    "        break\n",
    "    if i == 0:\n",
    "        break\n",
    "   \n",
    " "
   ]
  },
  {
   "cell_type": "code",
   "execution_count": 5,
   "metadata": {},
   "outputs": [
    {
     "data": {
      "text/plain": [
       "torch.Size([1, 12, 25])"
      ]
     },
     "execution_count": 5,
     "metadata": {},
     "output_type": "execute_result"
    }
   ],
   "source": [
    "v.shape"
   ]
  },
  {
   "cell_type": "code",
   "execution_count": 22,
   "metadata": {},
   "outputs": [
    {
     "data": {
      "text/plain": [
       "tensor([[[169, 162, 162,  ...,  58,   6,   6],\n",
       "         [169, 162, 162,  ...,  84,   6,   6],\n",
       "         [169, 162, 162,  ...,  57,   6,   6],\n",
       "         ...,\n",
       "         [169, 169, 169,  ...,  84,  84,  84],\n",
       "         [169, 169, 169,  ...,  84,  84,  84],\n",
       "         [169, 169, 169,  ...,  84,  84,  84]],\n",
       "\n",
       "        [[169, 164, 163,  ...,  85,  84,  71],\n",
       "         [169, 162, 161,  ...,  44,   6,   6],\n",
       "         [169, 169, 169,  ...,  84,  32,   6],\n",
       "         ...,\n",
       "         [169, 169, 169,  ..., 169, 169, 169],\n",
       "         [169, 163, 161,  ...,  32,   6,   6],\n",
       "         [169, 169, 169,  ..., 169, 169, 169]],\n",
       "\n",
       "        [[169, 169, 169,  ...,  58,  58,  45],\n",
       "         [169,  84,  84,  ...,  70,  71,  58],\n",
       "         [169,  84,  84,  ...,  84,  58,  45],\n",
       "         ...,\n",
       "         [169,  84,  84,  ...,  84,  84,  84],\n",
       "         [169, 169, 169,  ..., 169, 169, 169],\n",
       "         [169, 169, 169,  ...,   5,   6,   4]],\n",
       "\n",
       "        ...,\n",
       "\n",
       "        [[169, 165, 163,  ...,  84,  84,  84],\n",
       "         [169,  84,  84,  ...,  84,  84,  84],\n",
       "         [169,  84,  84,  ...,  84,  84,  84],\n",
       "         ...,\n",
       "         [169,  84,  84,  ...,  97,  97,  84],\n",
       "         [169, 169, 169,  ...,  84,  84,  84],\n",
       "         [169, 169, 169,  ..., 169, 169, 169]],\n",
       "\n",
       "        [[169, 162, 162,  ...,  84,  84,  84],\n",
       "         [169, 157, 160,  ...,  44,   5,   6],\n",
       "         [169, 160, 161,  ...,  58,  58,  46],\n",
       "         ...,\n",
       "         [169, 169, 169,  ..., 169, 169, 169],\n",
       "         [169, 169, 169,  ..., 169, 169, 169],\n",
       "         [169, 169, 169,  ..., 169, 169, 169]],\n",
       "\n",
       "        [[169,  84,  84,  ...,  84,  84,  84],\n",
       "         [169, 164, 159,  ...,  19,   6,   6],\n",
       "         [169, 169, 169,  ..., 169,  84, 169],\n",
       "         ...,\n",
       "         [169, 169, 169,  ...,  71,  97,  84],\n",
       "         [169, 169, 169,  ..., 169, 169, 169],\n",
       "         [169, 169, 169,  ..., 109, 169, 169]]])"
      ]
     },
     "execution_count": 22,
     "metadata": {},
     "output_type": "execute_result"
    }
   ],
   "source": [
    "b"
   ]
  },
  {
   "cell_type": "code",
   "execution_count": 23,
   "metadata": {},
   "outputs": [
    {
     "data": {
      "text/plain": [
       "tensor([[[[   -29.3771,     -0.0230],\n",
       "          [   -28.6057,     -0.0245],\n",
       "          [   -27.5283,     -0.0250],\n",
       "          ...,\n",
       "          [    34.9153,     -0.4322],\n",
       "          [    36.2796,     -0.4082],\n",
       "          [    37.3282,     -0.3851]],\n",
       "\n",
       "         [[   -41.7672,     -0.1353],\n",
       "          [   -40.6539,     -0.1257],\n",
       "          [   -39.0936,     -0.1125],\n",
       "          ...,\n",
       "          [    48.9181,     -0.5305],\n",
       "          [    50.7108,     -0.5242],\n",
       "          [    52.0847,     -0.5197]],\n",
       "\n",
       "         [[   -42.1550,      0.2879],\n",
       "          [   -41.1284,      0.2879],\n",
       "          [   -39.6953,      0.2844],\n",
       "          ...,\n",
       "          [    46.7703,      1.1064],\n",
       "          [    48.1070,      1.1461],\n",
       "          [    49.1372,      1.1783]],\n",
       "\n",
       "         ...,\n",
       "\n",
       "         [[   -46.3538,     -1.3729],\n",
       "          [   -46.3538,     -1.3729],\n",
       "          [   -46.3538,     -1.3729],\n",
       "          ...,\n",
       "          [     0.1182,      0.0418],\n",
       "          [     0.1504,      0.0444],\n",
       "          [     0.1738,      0.0461]],\n",
       "\n",
       "         [[   -25.2385,     13.8914],\n",
       "          [   -25.2385,     13.8914],\n",
       "          [   -25.2385,     13.8914],\n",
       "          ...,\n",
       "          [     1.0747,      0.2896],\n",
       "          [     1.0773,      0.2832],\n",
       "          [     1.0824,      0.2769]],\n",
       "\n",
       "         [[   -47.3114,    -12.2065],\n",
       "          [   -47.3114,    -12.2065],\n",
       "          [   -47.3114,    -12.2065],\n",
       "          ...,\n",
       "          [    -0.2115,      0.0346],\n",
       "          [    -0.1902,      0.0345],\n",
       "          [    -0.1730,      0.0343]]],\n",
       "\n",
       "\n",
       "        [[[   -48.6440,     -2.6794],\n",
       "          [   -47.8925,     -2.6165],\n",
       "          [   -46.8147,     -2.5244],\n",
       "          ...,\n",
       "          [    87.7972,     -0.1556],\n",
       "          [    90.3851,     -0.1649],\n",
       "          [    92.3721,     -0.1795]],\n",
       "\n",
       "         [[   -40.3448,      2.8205],\n",
       "          [   -39.4733,      2.8128],\n",
       "          [   -38.2409,      2.7927],\n",
       "          ...,\n",
       "          [    41.5748,      0.2612],\n",
       "          [    43.0475,      0.2753],\n",
       "          [    44.1637,      0.2857]],\n",
       "\n",
       "         [[    82.9861,    -10.4744],\n",
       "          [    82.9861,    -10.4744],\n",
       "          [    82.9861,    -10.4744],\n",
       "          ...,\n",
       "          [    55.8541,      0.2516],\n",
       "          [    57.7411,      0.2454],\n",
       "          [    59.1395,      0.2303]],\n",
       "\n",
       "         ...,\n",
       "\n",
       "         [[    82.9133,     24.8262],\n",
       "          [    82.9133,     24.8262],\n",
       "          [    82.9133,     24.8262],\n",
       "          ...,\n",
       "          [    82.9133,     24.8262],\n",
       "          [    82.9133,     24.8262],\n",
       "          [    82.9133,     24.8262]],\n",
       "\n",
       "         [[   -40.6225,     -0.0154],\n",
       "          [   -39.5422,      0.0042],\n",
       "          [   -38.2510,      0.0131],\n",
       "          ...,\n",
       "          [    52.6829,     -0.3044],\n",
       "          [    54.1946,     -0.3177],\n",
       "          [    55.3775,     -0.3312]],\n",
       "\n",
       "         [[    63.8086,     -9.1965],\n",
       "          [    63.8086,     -9.1965],\n",
       "          [   -51.3415,     -2.3439],\n",
       "          ...,\n",
       "          [    63.8086,     -9.1965],\n",
       "          [    63.8086,     -9.1965],\n",
       "          [    63.8086,     -9.1965]]],\n",
       "\n",
       "\n",
       "        [[[    -1.7198,      0.0039],\n",
       "          [    -1.7198,      0.0039],\n",
       "          [    -1.7198,      0.0039],\n",
       "          ...,\n",
       "          [    14.4053,      0.0515],\n",
       "          [    14.7390,      0.0558],\n",
       "          [    14.9799,      0.0593]],\n",
       "\n",
       "         [[    -0.3867,      0.0334],\n",
       "          [    -0.3861,      0.0364],\n",
       "          [    -0.3860,      0.0396],\n",
       "          ...,\n",
       "          [    12.8339,      0.5634],\n",
       "          [    13.0956,      0.5589],\n",
       "          [    13.2982,      0.5536]],\n",
       "\n",
       "         [[     0.0677,      0.0092],\n",
       "          [     0.0667,      0.0108],\n",
       "          [     0.0663,      0.0128],\n",
       "          ...,\n",
       "          [    14.1909,      0.0620],\n",
       "          [    14.5947,      0.0556],\n",
       "          [    14.9022,      0.0497]],\n",
       "\n",
       "         ...,\n",
       "\n",
       "         [[     0.0103,      0.0006],\n",
       "          [     0.0108,      0.0007],\n",
       "          [     0.0117,      0.0008],\n",
       "          ...,\n",
       "          [    -0.1081,     -0.0245],\n",
       "          [    -0.1121,     -0.0259],\n",
       "          [    -0.1136,     -0.0271]],\n",
       "\n",
       "         [[   153.3770,     34.3735],\n",
       "          [   153.3770,     34.3735],\n",
       "          [   153.3770,     34.3735],\n",
       "          ...,\n",
       "          [   153.3770,     34.3735],\n",
       "          [   153.3770,     34.3735],\n",
       "          [   153.3770,     34.3735]],\n",
       "\n",
       "         [[    93.3631,     33.9605],\n",
       "          [    93.3631,     33.9605],\n",
       "          [    93.3631,     33.9605],\n",
       "          ...,\n",
       "          [    11.6250,      0.0553],\n",
       "          [    12.2109,      0.0797],\n",
       "          [    12.5118,      0.0626]]],\n",
       "\n",
       "\n",
       "        ...,\n",
       "\n",
       "\n",
       "        [[[   -17.2034,     -1.1763],\n",
       "          [   -16.3425,     -1.0923],\n",
       "          [   -15.1783,     -0.9728],\n",
       "          ...,\n",
       "          [     0.1112,     -0.0330],\n",
       "          [     0.1112,     -0.0330],\n",
       "          [     0.1112,     -0.0330]],\n",
       "\n",
       "         [[    -0.0360,      0.0029],\n",
       "          [    -0.0387,      0.0023],\n",
       "          [    -0.0409,      0.0015],\n",
       "          ...,\n",
       "          [    -0.0254,     -0.0050],\n",
       "          [    -0.0222,     -0.0054],\n",
       "          [    -0.0199,     -0.0053]],\n",
       "\n",
       "         [[     0.0030,     -0.0052],\n",
       "          [     0.0021,     -0.0048],\n",
       "          [     0.0017,     -0.0045],\n",
       "          ...,\n",
       "          [    -0.0122,     -0.0031],\n",
       "          [    -0.0105,     -0.0031],\n",
       "          [    -0.0088,     -0.0029]],\n",
       "\n",
       "         ...,\n",
       "\n",
       "         [[    -0.0156,      0.0046],\n",
       "          [    -0.0156,      0.0046],\n",
       "          [    -0.0154,      0.0035],\n",
       "          ...,\n",
       "          [    -0.8804,     -0.0093],\n",
       "          [    -0.8549,     -0.0087],\n",
       "          [    -0.8264,     -0.0081]],\n",
       "\n",
       "         [[   -73.7295,    -47.9084],\n",
       "          [   -73.7295,    -47.9084],\n",
       "          [   -73.7295,    -47.9084],\n",
       "          ...,\n",
       "          [    -0.0144,     -0.0082],\n",
       "          [    -0.0144,     -0.0096],\n",
       "          [    -0.0145,     -0.0111]],\n",
       "\n",
       "         [[   -72.0252,    -41.7042],\n",
       "          [   -72.0252,    -41.7042],\n",
       "          [   -72.0252,    -41.7042],\n",
       "          ...,\n",
       "          [   -72.0252,    -41.7042],\n",
       "          [   -72.0252,    -41.7042],\n",
       "          [   -72.0252,    -41.7042]]],\n",
       "\n",
       "\n",
       "        [[[   -45.8551,     -0.3051],\n",
       "          [   -44.7166,     -0.3070],\n",
       "          [   -43.1034,     -0.2987],\n",
       "          ...,\n",
       "          [    15.3338,      0.0436],\n",
       "          [    15.3420,      0.0450],\n",
       "          [    15.3511,      0.0471]],\n",
       "\n",
       "         [[   -35.3020,      2.3737],\n",
       "          [   -34.7592,      2.2092],\n",
       "          [   -33.8800,      1.9815],\n",
       "          ...,\n",
       "          [    46.4035,     -0.1642],\n",
       "          [    47.6906,     -0.1936],\n",
       "          [    48.6413,     -0.2384]],\n",
       "\n",
       "         [[   -44.8216,      2.4421],\n",
       "          [   -43.6880,      2.3719],\n",
       "          [   -42.1180,      2.2757],\n",
       "          ...,\n",
       "          [    27.9972,     -0.9466],\n",
       "          [    28.2769,     -0.9649],\n",
       "          [    28.4715,     -0.9757]],\n",
       "\n",
       "         ...,\n",
       "\n",
       "         [[  -170.5279,     -6.5480],\n",
       "          [  -170.5279,     -6.5480],\n",
       "          [  -170.5279,     -6.5480],\n",
       "          ...,\n",
       "          [  -170.5279,     -6.5480],\n",
       "          [  -170.5279,     -6.5480],\n",
       "          [  -170.5279,     -6.5480]],\n",
       "\n",
       "         [[    60.9300,     40.0149],\n",
       "          [    60.9300,     40.0149],\n",
       "          [    60.9300,     40.0149],\n",
       "          ...,\n",
       "          [    60.9300,     40.0149],\n",
       "          [    60.9300,     40.0149],\n",
       "          [    60.9300,     40.0149]],\n",
       "\n",
       "         [[   -23.0016,     27.9476],\n",
       "          [   -23.0016,     27.9476],\n",
       "          [   -23.0016,     27.9476],\n",
       "          ...,\n",
       "          [   -23.0016,     27.9476],\n",
       "          [   -23.0016,     27.9476],\n",
       "          [   -23.0016,     27.9476]]],\n",
       "\n",
       "\n",
       "        [[[     0.0030,      0.0042],\n",
       "          [     0.0045,      0.0050],\n",
       "          [     0.0065,      0.0063],\n",
       "          ...,\n",
       "          [    -0.0114,     -0.0023],\n",
       "          [    -0.0103,     -0.0028],\n",
       "          [    -0.0086,     -0.0032]],\n",
       "\n",
       "         [[   -41.4911,      1.2008],\n",
       "          [   -40.5879,      1.2504],\n",
       "          [   -39.3421,      1.2301],\n",
       "          ...,\n",
       "          [    47.2822,      0.7802],\n",
       "          [    48.6016,      0.7403],\n",
       "          [    49.5655,      0.7068]],\n",
       "\n",
       "         [[     0.0002,      0.0000],\n",
       "          [     0.0002,      0.0000],\n",
       "          [     0.0002,      0.0000],\n",
       "          ...,\n",
       "          [    -0.0004,      0.0002],\n",
       "          [    -0.0005,      0.0002],\n",
       "          [    -0.0005,      0.0002]],\n",
       "\n",
       "         ...,\n",
       "\n",
       "         [[   -40.7403,    -26.1681],\n",
       "          [   -40.7403,    -26.1681],\n",
       "          [   -40.7403,    -26.1681],\n",
       "          ...,\n",
       "          [     1.9399,     -1.0946],\n",
       "          [     1.9299,     -1.1037],\n",
       "          [     1.9249,     -1.1150]],\n",
       "\n",
       "         [[    30.4578,    -65.0613],\n",
       "          [    30.4578,    -65.0613],\n",
       "          [    30.4578,    -65.0613],\n",
       "          ...,\n",
       "          [    30.4578,    -65.0613],\n",
       "          [    30.4578,    -65.0613],\n",
       "          [    30.4578,    -65.0613]],\n",
       "\n",
       "         [[   -36.1659,    -35.6429],\n",
       "          [   -36.1659,    -35.6429],\n",
       "          [   -36.1659,    -35.6429],\n",
       "          ...,\n",
       "          [    -1.4840,     -0.0028],\n",
       "          [   -36.1659,    -35.6429],\n",
       "          [   -36.1659,    -35.6429]]]])"
      ]
     },
     "execution_count": 23,
     "metadata": {},
     "output_type": "execute_result"
    }
   ],
   "source": [
    "a"
   ]
  },
  {
   "cell_type": "code",
   "execution_count": 15,
   "metadata": {},
   "outputs": [
    {
     "data": {
      "text/plain": [
       "tensor([[[[  20.7997,   30.4386],\n",
       "          [ -42.7161,    5.1916],\n",
       "          [  26.8506,   35.0742],\n",
       "          ...,\n",
       "          [   0.0000,    0.0000],\n",
       "          [   0.0000,    0.0000],\n",
       "          [   0.0000,    0.0000]],\n",
       "\n",
       "         [[  20.4423,   30.2860],\n",
       "          [ -43.3839,    4.8765],\n",
       "          [  26.5564,   34.9151],\n",
       "          ...,\n",
       "          [   0.0000,    0.0000],\n",
       "          [   0.0000,    0.0000],\n",
       "          [   0.0000,    0.0000]],\n",
       "\n",
       "         [[  19.9977,   30.0976],\n",
       "          [ -44.2437,    4.4706],\n",
       "          [  26.1876,   34.7147],\n",
       "          ...,\n",
       "          [   0.0000,    0.0000],\n",
       "          [   0.0000,    0.0000],\n",
       "          [   0.0000,    0.0000]],\n",
       "\n",
       "         ...,\n",
       "\n",
       "         [[ -57.2254,   -0.7752],\n",
       "          [   0.0000,    0.0000],\n",
       "          [-100.4531,  -23.4945],\n",
       "          ...,\n",
       "          [   0.0000,    0.0000],\n",
       "          [   0.0000,    0.0000],\n",
       "          [   0.0000,    0.0000]],\n",
       "\n",
       "         [[ -57.6910,   -0.9831],\n",
       "          [   0.0000,    0.0000],\n",
       "          [-101.2876,  -23.8528],\n",
       "          ...,\n",
       "          [   0.0000,    0.0000],\n",
       "          [   0.0000,    0.0000],\n",
       "          [   0.0000,    0.0000]],\n",
       "\n",
       "         [[ -58.0653,   -1.1509],\n",
       "          [   0.0000,    0.0000],\n",
       "          [-101.9623,  -24.1432],\n",
       "          ...,\n",
       "          [   0.0000,    0.0000],\n",
       "          [   0.0000,    0.0000],\n",
       "          [   0.0000,    0.0000]]]])"
      ]
     },
     "execution_count": 15,
     "metadata": {},
     "output_type": "execute_result"
    }
   ],
   "source": [
    "a"
   ]
  },
  {
   "cell_type": "code",
   "execution_count": null,
   "metadata": {},
   "outputs": [
    {
     "data": {
      "text/plain": [
       "np.float64(139.14457157219607)"
      ]
     },
     "execution_count": 17,
     "metadata": {},
     "output_type": "execute_result"
    }
   ],
   "source": [
    "np.linalg.norm([[     9.4798,     -0.2392],\n",
    "          [   137.8498,     16.3927],])"
   ]
  },
  {
   "cell_type": "code",
   "execution_count": 28,
   "metadata": {},
   "outputs": [
    {
     "data": {
      "text/plain": [
       "(tensor([], dtype=torch.int64),\n",
       " tensor([], dtype=torch.int64),\n",
       " tensor([], dtype=torch.int64),\n",
       " tensor([], dtype=torch.int64))"
      ]
     },
     "execution_count": 28,
     "metadata": {},
     "output_type": "execute_result"
    }
   ],
   "source": [
    "(a == 137.8498).nonzero(as_tuple=True)"
   ]
  },
  {
   "cell_type": "code",
   "execution_count": null,
   "metadata": {},
   "outputs": [],
   "source": []
  }
 ],
 "metadata": {
  "kernelspec": {
   "display_name": "venv",
   "language": "python",
   "name": "python3"
  },
  "language_info": {
   "codemirror_mode": {
    "name": "ipython",
    "version": 3
   },
   "file_extension": ".py",
   "mimetype": "text/x-python",
   "name": "python",
   "nbconvert_exporter": "python",
   "pygments_lexer": "ipython3",
   "version": "3.12.3"
  }
 },
 "nbformat": 4,
 "nbformat_minor": 2
}
